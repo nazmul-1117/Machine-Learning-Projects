{
 "cells": [
  {
   "cell_type": "markdown",
   "id": "f02d69e8-713c-4420-b33b-aff03f0be0e7",
   "metadata": {},
   "source": [
    "# Contents:\n",
    "1.  [Import Necessary Libraries](#Import-Libraries)\n",
    "2.  [Import Datasets](#Import-Datasets)\n",
    "3.  [Data Analysis](#Data-Analysis)\n",
    "4.  [Data Visualization](#Data-Visualization)\n",
    "5.  [Cleaning Data](#Cleaning-Data)\n",
    "6.  [Choosing the Best Model](#Choosing-Model)\n",
    "7.  [Export Model](#Export-Model)\n",
    "8.  [References](#References)"
   ]
  },
  {
   "cell_type": "markdown",
   "id": "1f40c94a-1be7-410f-9d6e-eb4f97667bdf",
   "metadata": {},
   "source": [
    "# Overview\n",
    "\n",
    "## Data Dictionary\n",
    "This table provides a description of the variables included in the dataset.\n",
    "\n",
    "| Variable | Definition | Key |\n",
    "| :----- | :----- | :----- |\n",
    "| `survival` | Survival | `0` = No, `1` = Yes |\n",
    "| `pclass` | Ticket class | `1` = 1st, `2` = 2nd, `3` = 3rd |\n",
    "| `sex` | Sex | |\n",
    "| `Age` | Age in years | |\n",
    "| `sibsp` | \\# of siblings / spouses aboard the Titanic | |\n",
    "| `parch` | \\# of parents / children aboard the Titanic | |\n",
    "| `ticket` | Ticket number | |\n",
    "| `fare` | Passenger fare | |\n",
    "| `cabin` | Cabin number | |\n",
    "| `embarked` | Port of Embarkation | `C` = Cherbourg, `Q` = Queenstown, `S` = Southampton |\n",
    "\n",
    "\n",
    "## Dataset Variable Definitions\n",
    "\n",
    "This document provides a detailed explanation of the variables present in the dataset. Understanding these variables is crucial for accurate analysis and interpretation of the data.\n",
    "\n",
    "---\n",
    "\n",
    "### Variable Notes\n",
    "\n",
    "#### `pclass`\n",
    "* **Description**: A proxy for socio-economic status (SES).\n",
    "* **Values**:\n",
    "    * `1st`: Upper Class\n",
    "    * `2nd`: Middle Class\n",
    "    * `3rd`: Lower Class\n",
    "\n",
    "#### `age`\n",
    "* **Description**: The age of the individual.\n",
    "* **Notes**:\n",
    "    * Age is fractional if less than 1 (e.g., for infants).\n",
    "    * If the age is estimated, it is represented in the form of `xx.5` (e.g., `22.5`).\n",
    "\n",
    "#### `sibsp`\n",
    "* **Description**: Defines family relations within the dataset, specifically the number of siblings or spouses aboard.\n",
    "* **Relations Included**:\n",
    "    * **Sibling**: Brother, sister, stepbrother, stepsister\n",
    "    * **Spouse**: Husband, wife (mistresses and fiancés were ignored for this variable)\n",
    "\n",
    "#### `parch`\n",
    "* **Description**: Defines family relations within the dataset, specifically the number of parents or children aboard.\n",
    "* **Relations Included**:\n",
    "    * **Parent**: Mother, father\n",
    "    * **Child**: Daughter, son, stepdaughter, stepson\n",
    "* **Notes**:\n",
    "    * Some children traveled only with a nanny, and for them, `parch` is recorded as `0`.\n",
    "\n",
    "---\n",
    "\n",
    "### Usage\n",
    "This README should be consulted when working with the dataset to ensure correct interpretation of the `pclass`, `age`, `sibsp`, and `parch` variables.\n",
    "\n",
    "---"
   ]
  },
  {
   "cell_type": "code",
   "execution_count": null,
   "id": "41cab5ff-61c1-4d9e-9c0f-a3a88b71b65c",
   "metadata": {},
   "outputs": [],
   "source": []
  },
  {
   "cell_type": "code",
   "execution_count": null,
   "id": "5cd0223d-3b45-4842-9b57-880e025f8f04",
   "metadata": {},
   "outputs": [],
   "source": []
  },
  {
   "cell_type": "markdown",
   "id": "1609cd9b-f846-4f9c-b4f8-7d4144add6ce",
   "metadata": {},
   "source": [
    "# Import-Libraries"
   ]
  },
  {
   "cell_type": "code",
   "execution_count": 3,
   "id": "0fd58734-85bd-42d3-bd40-f86826b70657",
   "metadata": {},
   "outputs": [],
   "source": [
    "# Data Analysis Library\n",
    "import pandas as pd\n",
    "import numpy as np\n",
    "\n",
    "# Data Visualization Library\n",
    "import matplotlib.pyplot as plt\n",
    "import seaborn as sns\n",
    "%matplotlib inline\n",
    "\n",
    "# Ignore Warnings\n",
    "import warnings\n",
    "warnings.filterwarnings('ignore')"
   ]
  },
  {
   "cell_type": "code",
   "execution_count": 177,
   "id": "d8f17ced-10bf-4089-86ff-3268728ce13b",
   "metadata": {},
   "outputs": [],
   "source": [
    "# Play with Model\n",
    "from sklearn.model_selection import train_test_split\n",
    "\n",
    "# Machine Learning Algorithm\n",
    "from sklearn.linear_model import LogisticRegression\n",
    "from sklearn.neighbors import KNeighborsClassifier\n",
    "from sklearn.naive_bayes import GaussianNB\n",
    "from sklearn.tree import DecisionTreeClassifier, plot_tree\n",
    "from sklearn.ensemble import RandomForestClassifier, GradientBoostingClassifier, StackingClassifier\n",
    "from sklearn.svm import SVC\n",
    "from sklearn.neural_network import MLPClassifier\n",
    "\n",
    "# Metrices\n",
    "from sklearn.metrics import accuracy_score, confusion_matrix, f1_score, recall_score, ConfusionMatrixDisplay\n",
    "from sklearn.metrics import classification_report, roc_auc_score, roc_curve\n",
    "\n",
    "# Saved Model\n",
    "import pickle\n",
    "import os"
   ]
  },
  {
   "cell_type": "markdown",
   "id": "fb01df15-b0d5-4b08-83b1-296444f6a7d3",
   "metadata": {},
   "source": [
    "[Top](#Contents:)"
   ]
  },
  {
   "cell_type": "markdown",
   "id": "8523bb81-d555-40ea-a73f-149717ea57a9",
   "metadata": {},
   "source": [
    "# Import-Datasets"
   ]
  },
  {
   "cell_type": "code",
   "execution_count": 5,
   "id": "adad671a-e256-4dc8-a48e-431d5e2fc458",
   "metadata": {},
   "outputs": [],
   "source": [
    "#Import train and Test Data\n",
    "train = pd.read_csv('train.csv')\n",
    "test = pd.read_csv('test.csv')"
   ]
  },
  {
   "cell_type": "code",
   "execution_count": 6,
   "id": "4e81155d-d3b4-45ab-bcbf-189bcbd5813e",
   "metadata": {},
   "outputs": [
    {
     "data": {
      "text/plain": [
       "((891, 12), (418, 11))"
      ]
     },
     "execution_count": 6,
     "metadata": {},
     "output_type": "execute_result"
    }
   ],
   "source": [
    "train.shape, test.shape"
   ]
  },
  {
   "cell_type": "code",
   "execution_count": 7,
   "id": "afaf5a04-b80e-4d60-bba1-dd66a8c5df24",
   "metadata": {},
   "outputs": [
    {
     "data": {
      "text/plain": [
       "0.680672268907563"
      ]
     },
     "execution_count": 7,
     "metadata": {},
     "output_type": "execute_result"
    }
   ],
   "source": [
    "train.shape[0] / (train.shape[0]+test.shape[0])"
   ]
  },
  {
   "cell_type": "code",
   "execution_count": 8,
   "id": "af1b1585-d86a-4f3b-8f6a-f2cfd1371516",
   "metadata": {},
   "outputs": [
    {
     "data": {
      "text/plain": [
       "Index(['PassengerId', 'Survived', 'Pclass', 'Name', 'Sex', 'Age', 'SibSp',\n",
       "       'Parch', 'Ticket', 'Fare', 'Cabin', 'Embarked'],\n",
       "      dtype='object')"
      ]
     },
     "execution_count": 8,
     "metadata": {},
     "output_type": "execute_result"
    }
   ],
   "source": [
    "train.columns"
   ]
  },
  {
   "cell_type": "code",
   "execution_count": 9,
   "id": "9c1739bd-a65a-4d27-8964-a8b15a9419c8",
   "metadata": {},
   "outputs": [
    {
     "data": {
      "text/plain": [
       "Index(['PassengerId', 'Pclass', 'Name', 'Sex', 'Age', 'SibSp', 'Parch',\n",
       "       'Ticket', 'Fare', 'Cabin', 'Embarked'],\n",
       "      dtype='object')"
      ]
     },
     "execution_count": 9,
     "metadata": {},
     "output_type": "execute_result"
    }
   ],
   "source": [
    "test.columns"
   ]
  },
  {
   "cell_type": "markdown",
   "id": "969c2b2b-25c6-43ac-a087-ec9f708cd720",
   "metadata": {},
   "source": [
    "[Top](#Contents:)"
   ]
  },
  {
   "cell_type": "code",
   "execution_count": null,
   "id": "ec4a219d-67de-45b5-83f4-1cadc58b3aa2",
   "metadata": {},
   "outputs": [],
   "source": []
  },
  {
   "cell_type": "markdown",
   "id": "824543a1-0d8c-41cc-9d63-a358a0e5a3dd",
   "metadata": {},
   "source": [
    "# Data-Analysis"
   ]
  },
  {
   "cell_type": "code",
   "execution_count": 10,
   "id": "966c4587-c241-43f0-9872-716ec2723c30",
   "metadata": {},
   "outputs": [
    {
     "data": {
      "text/html": [
       "<div>\n",
       "<style scoped>\n",
       "    .dataframe tbody tr th:only-of-type {\n",
       "        vertical-align: middle;\n",
       "    }\n",
       "\n",
       "    .dataframe tbody tr th {\n",
       "        vertical-align: top;\n",
       "    }\n",
       "\n",
       "    .dataframe thead th {\n",
       "        text-align: right;\n",
       "    }\n",
       "</style>\n",
       "<table border=\"1\" class=\"dataframe\">\n",
       "  <thead>\n",
       "    <tr style=\"text-align: right;\">\n",
       "      <th></th>\n",
       "      <th>PassengerId</th>\n",
       "      <th>Survived</th>\n",
       "      <th>Pclass</th>\n",
       "      <th>Name</th>\n",
       "      <th>Sex</th>\n",
       "      <th>Age</th>\n",
       "      <th>SibSp</th>\n",
       "      <th>Parch</th>\n",
       "      <th>Ticket</th>\n",
       "      <th>Fare</th>\n",
       "      <th>Cabin</th>\n",
       "      <th>Embarked</th>\n",
       "    </tr>\n",
       "  </thead>\n",
       "  <tbody>\n",
       "    <tr>\n",
       "      <th>0</th>\n",
       "      <td>1</td>\n",
       "      <td>0</td>\n",
       "      <td>3</td>\n",
       "      <td>Braund, Mr. Owen Harris</td>\n",
       "      <td>male</td>\n",
       "      <td>22.0</td>\n",
       "      <td>1</td>\n",
       "      <td>0</td>\n",
       "      <td>A/5 21171</td>\n",
       "      <td>7.2500</td>\n",
       "      <td>NaN</td>\n",
       "      <td>S</td>\n",
       "    </tr>\n",
       "    <tr>\n",
       "      <th>1</th>\n",
       "      <td>2</td>\n",
       "      <td>1</td>\n",
       "      <td>1</td>\n",
       "      <td>Cumings, Mrs. John Bradley (Florence Briggs Th...</td>\n",
       "      <td>female</td>\n",
       "      <td>38.0</td>\n",
       "      <td>1</td>\n",
       "      <td>0</td>\n",
       "      <td>PC 17599</td>\n",
       "      <td>71.2833</td>\n",
       "      <td>C85</td>\n",
       "      <td>C</td>\n",
       "    </tr>\n",
       "    <tr>\n",
       "      <th>2</th>\n",
       "      <td>3</td>\n",
       "      <td>1</td>\n",
       "      <td>3</td>\n",
       "      <td>Heikkinen, Miss. Laina</td>\n",
       "      <td>female</td>\n",
       "      <td>26.0</td>\n",
       "      <td>0</td>\n",
       "      <td>0</td>\n",
       "      <td>STON/O2. 3101282</td>\n",
       "      <td>7.9250</td>\n",
       "      <td>NaN</td>\n",
       "      <td>S</td>\n",
       "    </tr>\n",
       "    <tr>\n",
       "      <th>3</th>\n",
       "      <td>4</td>\n",
       "      <td>1</td>\n",
       "      <td>1</td>\n",
       "      <td>Futrelle, Mrs. Jacques Heath (Lily May Peel)</td>\n",
       "      <td>female</td>\n",
       "      <td>35.0</td>\n",
       "      <td>1</td>\n",
       "      <td>0</td>\n",
       "      <td>113803</td>\n",
       "      <td>53.1000</td>\n",
       "      <td>C123</td>\n",
       "      <td>S</td>\n",
       "    </tr>\n",
       "    <tr>\n",
       "      <th>4</th>\n",
       "      <td>5</td>\n",
       "      <td>0</td>\n",
       "      <td>3</td>\n",
       "      <td>Allen, Mr. William Henry</td>\n",
       "      <td>male</td>\n",
       "      <td>35.0</td>\n",
       "      <td>0</td>\n",
       "      <td>0</td>\n",
       "      <td>373450</td>\n",
       "      <td>8.0500</td>\n",
       "      <td>NaN</td>\n",
       "      <td>S</td>\n",
       "    </tr>\n",
       "  </tbody>\n",
       "</table>\n",
       "</div>"
      ],
      "text/plain": [
       "   PassengerId  Survived  Pclass  \\\n",
       "0            1         0       3   \n",
       "1            2         1       1   \n",
       "2            3         1       3   \n",
       "3            4         1       1   \n",
       "4            5         0       3   \n",
       "\n",
       "                                                Name     Sex   Age  SibSp  \\\n",
       "0                            Braund, Mr. Owen Harris    male  22.0      1   \n",
       "1  Cumings, Mrs. John Bradley (Florence Briggs Th...  female  38.0      1   \n",
       "2                             Heikkinen, Miss. Laina  female  26.0      0   \n",
       "3       Futrelle, Mrs. Jacques Heath (Lily May Peel)  female  35.0      1   \n",
       "4                           Allen, Mr. William Henry    male  35.0      0   \n",
       "\n",
       "   Parch            Ticket     Fare Cabin Embarked  \n",
       "0      0         A/5 21171   7.2500   NaN        S  \n",
       "1      0          PC 17599  71.2833   C85        C  \n",
       "2      0  STON/O2. 3101282   7.9250   NaN        S  \n",
       "3      0            113803  53.1000  C123        S  \n",
       "4      0            373450   8.0500   NaN        S  "
      ]
     },
     "execution_count": 10,
     "metadata": {},
     "output_type": "execute_result"
    }
   ],
   "source": [
    "train.head()"
   ]
  },
  {
   "cell_type": "code",
   "execution_count": 11,
   "id": "4d434577-4dbe-4c6b-98dd-78ae78013a3d",
   "metadata": {},
   "outputs": [
    {
     "data": {
      "text/html": [
       "<div>\n",
       "<style scoped>\n",
       "    .dataframe tbody tr th:only-of-type {\n",
       "        vertical-align: middle;\n",
       "    }\n",
       "\n",
       "    .dataframe tbody tr th {\n",
       "        vertical-align: top;\n",
       "    }\n",
       "\n",
       "    .dataframe thead th {\n",
       "        text-align: right;\n",
       "    }\n",
       "</style>\n",
       "<table border=\"1\" class=\"dataframe\">\n",
       "  <thead>\n",
       "    <tr style=\"text-align: right;\">\n",
       "      <th></th>\n",
       "      <th>PassengerId</th>\n",
       "      <th>Survived</th>\n",
       "      <th>Pclass</th>\n",
       "      <th>Name</th>\n",
       "      <th>Sex</th>\n",
       "      <th>Age</th>\n",
       "      <th>SibSp</th>\n",
       "      <th>Parch</th>\n",
       "      <th>Ticket</th>\n",
       "      <th>Fare</th>\n",
       "      <th>Cabin</th>\n",
       "      <th>Embarked</th>\n",
       "    </tr>\n",
       "  </thead>\n",
       "  <tbody>\n",
       "    <tr>\n",
       "      <th>886</th>\n",
       "      <td>887</td>\n",
       "      <td>0</td>\n",
       "      <td>2</td>\n",
       "      <td>Montvila, Rev. Juozas</td>\n",
       "      <td>male</td>\n",
       "      <td>27.0</td>\n",
       "      <td>0</td>\n",
       "      <td>0</td>\n",
       "      <td>211536</td>\n",
       "      <td>13.00</td>\n",
       "      <td>NaN</td>\n",
       "      <td>S</td>\n",
       "    </tr>\n",
       "    <tr>\n",
       "      <th>887</th>\n",
       "      <td>888</td>\n",
       "      <td>1</td>\n",
       "      <td>1</td>\n",
       "      <td>Graham, Miss. Margaret Edith</td>\n",
       "      <td>female</td>\n",
       "      <td>19.0</td>\n",
       "      <td>0</td>\n",
       "      <td>0</td>\n",
       "      <td>112053</td>\n",
       "      <td>30.00</td>\n",
       "      <td>B42</td>\n",
       "      <td>S</td>\n",
       "    </tr>\n",
       "    <tr>\n",
       "      <th>888</th>\n",
       "      <td>889</td>\n",
       "      <td>0</td>\n",
       "      <td>3</td>\n",
       "      <td>Johnston, Miss. Catherine Helen \"Carrie\"</td>\n",
       "      <td>female</td>\n",
       "      <td>NaN</td>\n",
       "      <td>1</td>\n",
       "      <td>2</td>\n",
       "      <td>W./C. 6607</td>\n",
       "      <td>23.45</td>\n",
       "      <td>NaN</td>\n",
       "      <td>S</td>\n",
       "    </tr>\n",
       "    <tr>\n",
       "      <th>889</th>\n",
       "      <td>890</td>\n",
       "      <td>1</td>\n",
       "      <td>1</td>\n",
       "      <td>Behr, Mr. Karl Howell</td>\n",
       "      <td>male</td>\n",
       "      <td>26.0</td>\n",
       "      <td>0</td>\n",
       "      <td>0</td>\n",
       "      <td>111369</td>\n",
       "      <td>30.00</td>\n",
       "      <td>C148</td>\n",
       "      <td>C</td>\n",
       "    </tr>\n",
       "    <tr>\n",
       "      <th>890</th>\n",
       "      <td>891</td>\n",
       "      <td>0</td>\n",
       "      <td>3</td>\n",
       "      <td>Dooley, Mr. Patrick</td>\n",
       "      <td>male</td>\n",
       "      <td>32.0</td>\n",
       "      <td>0</td>\n",
       "      <td>0</td>\n",
       "      <td>370376</td>\n",
       "      <td>7.75</td>\n",
       "      <td>NaN</td>\n",
       "      <td>Q</td>\n",
       "    </tr>\n",
       "  </tbody>\n",
       "</table>\n",
       "</div>"
      ],
      "text/plain": [
       "     PassengerId  Survived  Pclass                                      Name  \\\n",
       "886          887         0       2                     Montvila, Rev. Juozas   \n",
       "887          888         1       1              Graham, Miss. Margaret Edith   \n",
       "888          889         0       3  Johnston, Miss. Catherine Helen \"Carrie\"   \n",
       "889          890         1       1                     Behr, Mr. Karl Howell   \n",
       "890          891         0       3                       Dooley, Mr. Patrick   \n",
       "\n",
       "        Sex   Age  SibSp  Parch      Ticket   Fare Cabin Embarked  \n",
       "886    male  27.0      0      0      211536  13.00   NaN        S  \n",
       "887  female  19.0      0      0      112053  30.00   B42        S  \n",
       "888  female   NaN      1      2  W./C. 6607  23.45   NaN        S  \n",
       "889    male  26.0      0      0      111369  30.00  C148        C  \n",
       "890    male  32.0      0      0      370376   7.75   NaN        Q  "
      ]
     },
     "execution_count": 11,
     "metadata": {},
     "output_type": "execute_result"
    }
   ],
   "source": [
    "train.tail()"
   ]
  },
  {
   "cell_type": "code",
   "execution_count": 12,
   "id": "c94b4b6b-6122-4a40-8b2c-3a6421032547",
   "metadata": {},
   "outputs": [
    {
     "name": "stdout",
     "output_type": "stream",
     "text": [
      "<class 'pandas.core.frame.DataFrame'>\n",
      "RangeIndex: 891 entries, 0 to 890\n",
      "Data columns (total 12 columns):\n",
      " #   Column       Non-Null Count  Dtype  \n",
      "---  ------       --------------  -----  \n",
      " 0   PassengerId  891 non-null    int64  \n",
      " 1   Survived     891 non-null    int64  \n",
      " 2   Pclass       891 non-null    int64  \n",
      " 3   Name         891 non-null    object \n",
      " 4   Sex          891 non-null    object \n",
      " 5   Age          714 non-null    float64\n",
      " 6   SibSp        891 non-null    int64  \n",
      " 7   Parch        891 non-null    int64  \n",
      " 8   Ticket       891 non-null    object \n",
      " 9   Fare         891 non-null    float64\n",
      " 10  Cabin        204 non-null    object \n",
      " 11  Embarked     889 non-null    object \n",
      "dtypes: float64(2), int64(5), object(5)\n",
      "memory usage: 83.7+ KB\n"
     ]
    }
   ],
   "source": [
    "train.info()"
   ]
  },
  {
   "cell_type": "code",
   "execution_count": 13,
   "id": "758c4e82-aaca-4544-b4af-df72a8db808f",
   "metadata": {},
   "outputs": [
    {
     "name": "stdout",
     "output_type": "stream",
     "text": [
      "Object Columns: ['Name', 'Sex', 'Ticket', 'Cabin', 'Embarked'] --> Length: 5\n",
      "Integer Columns: ['PassengerId', 'Survived', 'Pclass', 'SibSp', 'Parch'] --> Length: 5\n",
      "Float Columns: ['Age', 'Fare'] --> Length: 2\n"
     ]
    }
   ],
   "source": [
    "#print the columns name with it's data type\n",
    "obj = train.select_dtypes(include = ['object']).columns.tolist()\n",
    "intg = train.select_dtypes(include = ['int64']).columns.tolist()\n",
    "flt = train.select_dtypes(include = ['float64']).columns.tolist()\n",
    "\n",
    "print(f'Object Columns: {[x for x in obj]} --> Length: {len(obj)}')\n",
    "print(f'Integer Columns: {intg} --> Length: {len(intg)}')\n",
    "print(f'Float Columns: {flt} --> Length: {len(flt)}')"
   ]
  },
  {
   "cell_type": "code",
   "execution_count": 14,
   "id": "a59d92e9-7e6a-4769-86d0-52ad602b1132",
   "metadata": {},
   "outputs": [
    {
     "name": "stdout",
     "output_type": "stream",
     "text": [
      "Name Sex Ticket Cabin Embarked\n"
     ]
    }
   ],
   "source": [
    "print(*obj)"
   ]
  },
  {
   "cell_type": "code",
   "execution_count": 15,
   "id": "f6e09f85-56cc-47f1-bd3c-9af18e4feedb",
   "metadata": {},
   "outputs": [
    {
     "data": {
      "text/plain": [
       "PassengerId      0\n",
       "Survived         0\n",
       "Pclass           0\n",
       "Name             0\n",
       "Sex              0\n",
       "Age            177\n",
       "SibSp            0\n",
       "Parch            0\n",
       "Ticket           0\n",
       "Fare             0\n",
       "Cabin          687\n",
       "Embarked         2\n",
       "dtype: int64"
      ]
     },
     "execution_count": 15,
     "metadata": {},
     "output_type": "execute_result"
    }
   ],
   "source": [
    "# Check Null Items\n",
    "train.isnull().sum()"
   ]
  },
  {
   "cell_type": "markdown",
   "id": "6cb060ae-9069-4e0e-b7a5-44eeda338360",
   "metadata": {},
   "source": [
    "## Missing Value Counts"
   ]
  },
  {
   "cell_type": "code",
   "execution_count": 16,
   "id": "016bc45e-e316-4ce6-a032-94b9e70bcc49",
   "metadata": {},
   "outputs": [
    {
     "data": {
      "text/plain": [
       "np.float64(0.19865319865319866)"
      ]
     },
     "execution_count": 16,
     "metadata": {},
     "output_type": "execute_result"
    }
   ],
   "source": [
    "# Missing values of Age in Percentage\n",
    "train['Age'].isnull().sum()/train['Age'].shape[0]"
   ]
  },
  {
   "cell_type": "code",
   "execution_count": 17,
   "id": "a84ad6a4-4885-4b41-92bd-8f9d0d9fc55f",
   "metadata": {},
   "outputs": [
    {
     "data": {
      "text/plain": [
       "np.float64(0.7710437710437711)"
      ]
     },
     "execution_count": 17,
     "metadata": {},
     "output_type": "execute_result"
    }
   ],
   "source": [
    "# Missing values of Cabin in Percentage\n",
    "train['Cabin'].isnull().sum()/train['Cabin'].shape[0]"
   ]
  },
  {
   "cell_type": "code",
   "execution_count": 18,
   "id": "9d2c143c-608f-4bdb-ac9d-ccea8d8e74b7",
   "metadata": {},
   "outputs": [
    {
     "data": {
      "text/plain": [
       "np.float64(0.002244668911335578)"
      ]
     },
     "execution_count": 18,
     "metadata": {},
     "output_type": "execute_result"
    }
   ],
   "source": [
    "# Missing values of Embarked in Percentage\n",
    "train['Embarked'].isnull().sum()/train['Embarked'].shape[0]"
   ]
  },
  {
   "cell_type": "markdown",
   "id": "ca68ff7f-1f97-4eef-9df2-389179281220",
   "metadata": {},
   "source": [
    "## Observations\n",
    "---\n",
    "### Drop Columns:\n",
    "    1. `PassengerId`\n",
    "    2. `Name`\n",
    "\n",
    "### Columns Convert\n",
    "1. **Numarical Features:** `SibSp` (Discreate), `Parch` (Discreate), `Fare` (Continuos)\n",
    "2. **Categorical Features:** `Pclass`, `Sex`, `Age`, `Embarked`, `Survived`\n",
    "3. **Alphanumeric Features:** `Ticket`, `Cabin`\n",
    "\n",
    "### Missing Values\n",
    "1. **Age:** 19.8% (Fill)\n",
    "2. **Cabin:** 77.1% (Remove)\n",
    "3. **Embarked:** 0.22% (Fill)\n",
    "\n",
    "\n",
    "---"
   ]
  },
  {
   "cell_type": "markdown",
   "id": "a70f0a73-6718-4309-b484-5cf7864c89e1",
   "metadata": {},
   "source": [
    "[Top](#Contents:)"
   ]
  },
  {
   "cell_type": "markdown",
   "id": "84a521d0-99ee-4446-a984-f1506bb32be1",
   "metadata": {},
   "source": [
    "# Data-Visualization\n",
    "It's Time to visualize this dataset according to survive type"
   ]
  },
  {
   "cell_type": "code",
   "execution_count": 19,
   "id": "a7f05e25-a1fb-4d4f-9739-411c1c4eebe4",
   "metadata": {},
   "outputs": [
    {
     "data": {
      "text/plain": [
       "Index(['PassengerId', 'Survived', 'Pclass', 'Name', 'Sex', 'Age', 'SibSp',\n",
       "       'Parch', 'Ticket', 'Fare', 'Cabin', 'Embarked'],\n",
       "      dtype='object')"
      ]
     },
     "execution_count": 19,
     "metadata": {},
     "output_type": "execute_result"
    }
   ],
   "source": [
    "train.columns"
   ]
  },
  {
   "cell_type": "markdown",
   "id": "5448e8c4-0030-4fac-99c4-1d1c239e2168",
   "metadata": {},
   "source": [
    "## `Pclass`\n",
    "`Pclass` stands for different types of ticket classes \n",
    "```\n",
    "1st: Upper Class\n",
    "2nd: Middle Class\n",
    "3rd: Lower Class\n",
    "```"
   ]
  },
  {
   "cell_type": "code",
   "execution_count": 20,
   "id": "fcca8ba2-5139-4c6b-beb4-9c8707f68cf8",
   "metadata": {},
   "outputs": [
    {
     "data": {
      "text/plain": [
       "Pclass\n",
       "3    491\n",
       "1    216\n",
       "2    184\n",
       "Name: count, dtype: int64"
      ]
     },
     "execution_count": 20,
     "metadata": {},
     "output_type": "execute_result"
    }
   ],
   "source": [
    "train['Pclass'].value_counts()"
   ]
  },
  {
   "cell_type": "markdown",
   "id": "2d0a8fc4-ab21-4126-ab83-a11c00fe120c",
   "metadata": {},
   "source": [
    "### Total Survived Counts"
   ]
  },
  {
   "cell_type": "code",
   "execution_count": 21,
   "id": "f75e62b0-a41f-4ada-aac8-5537b4dbe6c3",
   "metadata": {},
   "outputs": [
    {
     "name": "stdout",
     "output_type": "stream",
     "text": [
      "Class 1, Total Survived People: 136\n",
      "Class 2, Total Survived People: 87\n",
      "Class 3, Total Survived People: 119\n"
     ]
    }
   ],
   "source": [
    "survived_count1 = train[\"Survived\"][train[\"Pclass\"] == 1].value_counts()[1]\n",
    "survived_count2 = train[\"Survived\"][train[\"Pclass\"] == 2].value_counts()[1]\n",
    "survived_count3 = train[\"Survived\"][train[\"Pclass\"] == 3].value_counts()[1]\n",
    "\n",
    "print(f'Class 1, Total Survived People: {survived_count1}')\n",
    "print(f'Class 2, Total Survived People: {survived_count2}')\n",
    "print(f'Class 3, Total Survived People: {survived_count3}')"
   ]
  },
  {
   "cell_type": "code",
   "execution_count": 22,
   "id": "df4040fd-63e7-451b-8b71-15104241a8a9",
   "metadata": {},
   "outputs": [
    {
     "data": {
      "text/plain": [
       "<Axes: >"
      ]
     },
     "execution_count": 22,
     "metadata": {},
     "output_type": "execute_result"
    },
    {
     "data": {
      "image/png": "[encoded data removed]",
      "text/plain": [
       "<Figure size 640x480 with 1 Axes>"
      ]
     },
     "metadata": {},
     "output_type": "display_data"
    }
   ],
   "source": [
    "sns.barplot(\n",
    "    x=['Class1', 'Class2', 'Class3'],\n",
    "    y=[survived_count1, survived_count2, survived_count3],\n",
    "    palette=['red', 'green', 'blue']\n",
    ")"
   ]
  },
  {
   "cell_type": "markdown",
   "id": "f471809c-e684-44aa-9676-229e5cd92980",
   "metadata": {},
   "source": [
    "### Total Non Survived Counts"
   ]
  },
  {
   "cell_type": "code",
   "execution_count": 23,
   "id": "8d69eab6-1e36-4745-9d64-b9d8df437ad0",
   "metadata": {},
   "outputs": [
    {
     "name": "stdout",
     "output_type": "stream",
     "text": [
      "Class 1, Total Survived People: 80\n",
      "Class 2, Total Survived People: 97\n",
      "Class 3, Total Survived People: 372\n"
     ]
    }
   ],
   "source": [
    "non_survived_count1 = train[\"Survived\"][train[\"Pclass\"] == 1].value_counts()[0]\n",
    "non_survived_count2 = train[\"Survived\"][train[\"Pclass\"] == 2].value_counts()[0]\n",
    "non_survived_count3 = train[\"Survived\"][train[\"Pclass\"] == 3].value_counts()[0]\n",
    "\n",
    "print(f'Class 1, Total Survived People: {non_survived_count1}')\n",
    "print(f'Class 2, Total Survived People: {non_survived_count2}')\n",
    "print(f'Class 3, Total Survived People: {non_survived_count3}')"
   ]
  },
  {
   "cell_type": "code",
   "execution_count": 24,
   "id": "79c44a2e-7eba-43e4-96dd-048d7d600378",
   "metadata": {},
   "outputs": [
    {
     "data": {
      "text/plain": [
       "<Axes: >"
      ]
     },
     "execution_count": 24,
     "metadata": {},
     "output_type": "execute_result"
    },
    {
     "data": {
      "image/png": "[encoded data removed]",
      "text/plain": [
       "<Figure size 640x480 with 1 Axes>"
      ]
     },
     "metadata": {},
     "output_type": "display_data"
    }
   ],
   "source": [
    "sns.barplot(\n",
    "    x=['Class1', 'Class2', 'Class3'],\n",
    "    y=[non_survived_count1, non_survived_count2, non_survived_count3],\n",
    "    palette=['red', 'green', 'blue']\n",
    ")"
   ]
  },
  {
   "cell_type": "markdown",
   "id": "160bbc61-ff62-484a-b0db-9823d206a936",
   "metadata": {},
   "source": [
    "### Percentage of Survived People"
   ]
  },
  {
   "cell_type": "code",
   "execution_count": 25,
   "id": "7c18b6e2-b893-4487-b7cd-ddd2959fc6ad",
   "metadata": {},
   "outputs": [
    {
     "name": "stdout",
     "output_type": "stream",
     "text": [
      "Class 1, Survived Rate: 62.96296296296296%\n",
      "Class 2, Survived Rate: 47.28260869565217%\n",
      "Class 3, Survived Rate: 24.236252545824847%\n"
     ]
    }
   ],
   "source": [
    "class1 = train[\"Survived\"][train[\"Pclass\"] == 1].value_counts(normalize = True)[1]*100\n",
    "class2 = train[\"Survived\"][train[\"Pclass\"] == 2].value_counts(normalize = True)[1]*100\n",
    "class3 = train[\"Survived\"][train[\"Pclass\"] == 3].value_counts(normalize = True)[1]*100\n",
    "\n",
    "print(f'Class 1, Survived Rate: {class1}%')\n",
    "print(f'Class 2, Survived Rate: {class2}%')\n",
    "print(f'Class 3, Survived Rate: {class3}%')"
   ]
  },
  {
   "cell_type": "code",
   "execution_count": 26,
   "id": "68c915d7-6974-40e8-8d5e-c84472a475a2",
   "metadata": {},
   "outputs": [
    {
     "data": {
      "image/png": "[encoded data removed]",
      "text/plain": [
       "<Figure size 1000x400 with 1 Axes>"
      ]
     },
     "metadata": {},
     "output_type": "display_data"
    }
   ],
   "source": [
    "plt.figure(figsize=(10, 4))\n",
    "sns.barplot(data=train, x='Pclass', y='Survived', palette=['red', 'green', 'blue'])\n",
    "plt.title('Total Classes')\n",
    "plt.show()"
   ]
  },
  {
   "cell_type": "markdown",
   "id": "762577fd-47be-48ad-b65b-8bdec3e109af",
   "metadata": {},
   "source": [
    "### Gender wise Survived in each class"
   ]
  },
  {
   "cell_type": "code",
   "execution_count": 27,
   "id": "46c07e81-7880-4d24-a233-3d6f3234ed52",
   "metadata": {},
   "outputs": [
    {
     "data": {
      "text/plain": [
       "<Axes: xlabel='Pclass', ylabel='Survived'>"
      ]
     },
     "execution_count": 27,
     "metadata": {},
     "output_type": "execute_result"
    },
    {
     "data": {
      "image/png": "[encoded data removed]",
      "text/plain": [
       "<Figure size 640x480 with 1 Axes>"
      ]
     },
     "metadata": {},
     "output_type": "display_data"
    }
   ],
   "source": [
    "sns.barplot(data=train, x='Pclass', y='Survived', hue='Sex', palette='pastel')"
   ]
  },
  {
   "cell_type": "code",
   "execution_count": null,
   "id": "9f2b1193-d157-4b98-9601-d248a3c8d973",
   "metadata": {},
   "outputs": [],
   "source": []
  },
  {
   "cell_type": "markdown",
   "id": "4904ff3d-99db-4387-92c7-0e6906ce896d",
   "metadata": {},
   "source": [
    "## `SibSp`\n",
    "* **Description**: Defines family relations within the dataset, specifically the number of siblings or spouses aboard.\n",
    "* **Relations Included**:\n",
    "    * **Sibling**: Brother, sister, stepbrother, stepsister\n",
    "    * **Spouse**: Husband, wife (mistresses and fiancés were ignored for this variable)\n",
    "* **-XD**:\n",
    "    * 0 -> Single\n",
    "    * 1 -> With 1 Person\n",
    "    * ... -> ...\n",
    "    * 8 -> with 8 person "
   ]
  },
  {
   "cell_type": "code",
   "execution_count": 28,
   "id": "231fcce7-504e-4a8e-8587-89a678132f19",
   "metadata": {},
   "outputs": [
    {
     "data": {
      "text/plain": [
       "SibSp\n",
       "0    608\n",
       "1    209\n",
       "2     28\n",
       "4     18\n",
       "3     16\n",
       "8      7\n",
       "5      5\n",
       "Name: count, dtype: int64"
      ]
     },
     "execution_count": 28,
     "metadata": {},
     "output_type": "execute_result"
    }
   ],
   "source": [
    "train['SibSp'].value_counts()"
   ]
  },
  {
   "cell_type": "markdown",
   "id": "0200c60e-ca9d-4869-9536-57999e6a5c9e",
   "metadata": {},
   "source": [
    "### Total Survived Count"
   ]
  },
  {
   "cell_type": "code",
   "execution_count": 29,
   "id": "8b4f4ade-d57d-4f35-aad9-332e0e13421e",
   "metadata": {},
   "outputs": [
    {
     "name": "stdout",
     "output_type": "stream",
     "text": [
      "Sibling/Spouse: 0, Total Survived: 210\n",
      "Sibling/Spouse: 1, Total Survived: 112\n",
      "Sibling/Spouse: 2, Total Survived: 13\n",
      "Sibling/Spouse: 3, Total Survived: 4\n",
      "Sibling/Spouse: 4, Total Survived: 3\n",
      "Sibling/Spouse: 5, Total Survived: 0\n",
      "Sibling/Spouse: 8, Total Survived: 0\n"
     ]
    }
   ],
   "source": [
    "sibsp_survived0 = train['Survived'][train['SibSp'] == 0].value_counts()[1]\n",
    "sibsp_survived1 = train['Survived'][train['SibSp'] == 1].value_counts()[1]\n",
    "sibsp_survived2 = train['Survived'][train['SibSp'] == 2].value_counts()[1]\n",
    "sibsp_survived3 = train['Survived'][train['SibSp'] == 3].value_counts()[1]\n",
    "sibsp_survived4 = train['Survived'][train['SibSp'] == 4].value_counts()[1]\n",
    "# sibsp_survived5 = train['Survived'][train['SibSp'] == 5].value_counts()[1]\n",
    "# sibsp_survived8 = train['Survived'][train['SibSp'] == 8].value_counts()[1]\n",
    "\n",
    "sibsp_survived5 = 0 #All are dead\n",
    "sibsp_survived8 = 0 #All are dead\n",
    "\n",
    "print(f'Sibling/Spouse: 0, Total Survived: {sibsp_survived0}')\n",
    "print(f'Sibling/Spouse: 1, Total Survived: {sibsp_survived1}')\n",
    "print(f'Sibling/Spouse: 2, Total Survived: {sibsp_survived2}')\n",
    "print(f'Sibling/Spouse: 3, Total Survived: {sibsp_survived3}')\n",
    "print(f'Sibling/Spouse: 4, Total Survived: {sibsp_survived4}')\n",
    "print(f'Sibling/Spouse: 5, Total Survived: {sibsp_survived5}')\n",
    "print(f'Sibling/Spouse: 8, Total Survived: {sibsp_survived8}')"
   ]
  },
  {
   "cell_type": "markdown",
   "id": "ad46e6eb-37a9-4712-b9b4-1fb84efb2865",
   "metadata": {},
   "source": [
    "### Percentage of Survived Peoples"
   ]
  },
  {
   "cell_type": "code",
   "execution_count": 30,
   "id": "55c72484-2737-4162-ab6d-8ce769ba12c1",
   "metadata": {},
   "outputs": [
    {
     "name": "stdout",
     "output_type": "stream",
     "text": [
      "Sibling/Spouse: 0, Survived: 34.54%\n",
      "Sibling/Spouse: 1, Survived: 53.59%\n",
      "Sibling/Spouse: 2, Survived: 46.43%\n",
      "Sibling/Spouse: 3, Survived: 25.00%\n",
      "Sibling/Spouse: 4, Survived: 16.67%\n",
      "Sibling/Spouse: 5, Survived: 0.00%\n",
      "Sibling/Spouse: 8, Survived: 0.00%\n"
     ]
    }
   ],
   "source": [
    "sibsp_survived_per0 = train['Survived'][train['SibSp'] == 0].value_counts(normalize = True)[1]*100\n",
    "sibsp_survived_per1 = train['Survived'][train['SibSp'] == 1].value_counts(normalize = True)[1]*100\n",
    "sibsp_survived_per2 = train['Survived'][train['SibSp'] == 2].value_counts(normalize = True)[1]*100\n",
    "sibsp_survived_per3 = train['Survived'][train['SibSp'] == 3].value_counts(normalize = True)[1]*100\n",
    "sibsp_survived_per4 = train['Survived'][train['SibSp'] == 4].value_counts(normalize = True)[1]*100\n",
    "# sibsp_survived_per5 = train['Survived'][train['SibSp'] == 5].value_counts(normalize = True)[1]*100\n",
    "# sibsp_survived_per8 = train['Survived'][train['SibSp'] == 8].value_counts(normalize = True)[1]*100\n",
    "sibsp_survived_per5 = 0.0 #All are dead\n",
    "sibsp_survived_per8 = 0.0 #All are dead\n",
    "\n",
    "print(f'Sibling/Spouse: 0, Survived: {sibsp_survived_per0:.2f}%')\n",
    "print(f'Sibling/Spouse: 1, Survived: {sibsp_survived_per1:.2f}%')\n",
    "print(f'Sibling/Spouse: 2, Survived: {sibsp_survived_per2:.2f}%')\n",
    "print(f'Sibling/Spouse: 3, Survived: {sibsp_survived_per3:.2f}%')\n",
    "print(f'Sibling/Spouse: 4, Survived: {sibsp_survived_per4:.2f}%')\n",
    "print(f'Sibling/Spouse: 5, Survived: {sibsp_survived_per5:.2f}%')\n",
    "print(f'Sibling/Spouse: 8, Survived: {sibsp_survived_per8:.2f}%')"
   ]
  },
  {
   "cell_type": "code",
   "execution_count": null,
   "id": "11be2b5d-d826-423b-828e-684122c58b7b",
   "metadata": {},
   "outputs": [],
   "source": []
  },
  {
   "cell_type": "markdown",
   "id": "41a2e76a-65cb-4a07-b835-e9ba1639f291",
   "metadata": {},
   "source": [
    "### Genderwise total Survived"
   ]
  },
  {
   "cell_type": "code",
   "execution_count": 31,
   "id": "21a655db-392f-4da9-aaed-dc65724e8c43",
   "metadata": {},
   "outputs": [
    {
     "data": {
      "text/plain": [
       "Text(0.5, 1.0, 'Total Sibling/Spouse according to Gender')"
      ]
     },
     "execution_count": 31,
     "metadata": {},
     "output_type": "execute_result"
    },
    {
     "data": {
      "image/png": "[encoded data removed]",
      "text/plain": [
       "<Figure size 640x480 with 1 Axes>"
      ]
     },
     "metadata": {},
     "output_type": "display_data"
    }
   ],
   "source": [
    "sns.barplot(x='SibSp', y='Survived', hue='Sex', data=train, palette='pastel')\n",
    "plt.title('Total Sibling/Spouse according to Gender')"
   ]
  },
  {
   "cell_type": "markdown",
   "id": "dc60590d-2414-409f-9c84-655de726d774",
   "metadata": {},
   "source": [
    "## `Parch`\n",
    "* **Description**: Defines family relations within the dataset, specifically the number of parents or children aboard.\n",
    "* **Relations Included**:\n",
    "    * **Parent**: Mother, father\n",
    "    * **Child**: Daughter, son, stepdaughter, stepson\n",
    "* **Notes**:\n",
    "    * Some children traveled only with a nanny, and for them, `parch` is recorded as `0`.\n",
    " \n",
    "* **-XD**:\n",
    "    * 0 -> Single\n",
    "    * 1 -> Travel with 1 Parent&/Child\n",
    "    * ... -> ... Parent/Child\n",
    "    * 6 -> Travel with 6 Parent&/Child"
   ]
  },
  {
   "cell_type": "code",
   "execution_count": 32,
   "id": "c790bee4-dc12-4195-9128-4ccd046706af",
   "metadata": {},
   "outputs": [
    {
     "data": {
      "text/plain": [
       "<bound method Series.unique of Parch\n",
       "0    678\n",
       "1    118\n",
       "2     80\n",
       "5      5\n",
       "3      5\n",
       "4      4\n",
       "6      1\n",
       "Name: count, dtype: int64>"
      ]
     },
     "execution_count": 32,
     "metadata": {},
     "output_type": "execute_result"
    }
   ],
   "source": [
    "train['Parch'].value_counts().unique"
   ]
  },
  {
   "cell_type": "markdown",
   "id": "2b394b34-3ccf-4bc8-aeba-dd216f90e824",
   "metadata": {},
   "source": [
    "### Total Survived Counts"
   ]
  },
  {
   "cell_type": "code",
   "execution_count": 33,
   "id": "4ea42d69-247a-4c3b-bca6-a1d9be983006",
   "metadata": {},
   "outputs": [
    {
     "name": "stdout",
     "output_type": "stream",
     "text": [
      "Parents/Child Number: 0, Total Survived: 233\n",
      "Parents/Child Number: 1, Total Survived: 65\n",
      "Parents/Child Number: 2, Total Survived: 40\n",
      "Parents/Child Number: 3, Total Survived: 3\n",
      "Parents/Child Number: 4, Total Survived: 0\n",
      "Parents/Child Number: 5, Total Survived: 1\n",
      "Parents/Child Number: 6, Total Survived: 0\n"
     ]
    }
   ],
   "source": [
    "total_parch_survived0 = train['Survived'][train['Parch'] == 0].value_counts()[1]\n",
    "total_parch_survived1 = train['Survived'][train['Parch'] == 1].value_counts()[1]\n",
    "total_parch_survived2 = train['Survived'][train['Parch'] == 2].value_counts()[1]\n",
    "total_parch_survived3 = train['Survived'][train['Parch'] == 3].value_counts()[1]\n",
    "# total_parch_survived4 = train['Survived'][train['Parch'] == 4].value_counts()[0]\n",
    "total_parch_survived5 = train['Survived'][train['Parch'] == 5].value_counts()[1]\n",
    "# total_parch_survived6 = train['Survived'][train['Parch'] == 6].value_counts()[0]\n",
    "\n",
    "total_parch_survived4 = 0 # All are Dead\n",
    "total_parch_survived6 = 0 # All are Dead \n",
    "\n",
    "print(f'Parents/Child Number: 0, Total Survived: {total_parch_survived0}')\n",
    "print(f'Parents/Child Number: 1, Total Survived: {total_parch_survived1}')\n",
    "print(f'Parents/Child Number: 2, Total Survived: {total_parch_survived2}')\n",
    "print(f'Parents/Child Number: 3, Total Survived: {total_parch_survived3}')\n",
    "print(f'Parents/Child Number: 4, Total Survived: {total_parch_survived4}')\n",
    "print(f'Parents/Child Number: 5, Total Survived: {total_parch_survived5}')\n",
    "print(f'Parents/Child Number: 6, Total Survived: {total_parch_survived6}')\n"
   ]
  },
  {
   "cell_type": "markdown",
   "id": "50c61387-c42d-4175-80e5-7fd220e83ca6",
   "metadata": {},
   "source": [
    "### Percentage of Survived People"
   ]
  },
  {
   "cell_type": "code",
   "execution_count": 34,
   "id": "20f78ba8-f33d-4c4d-9e50-97d950ddd2d8",
   "metadata": {},
   "outputs": [
    {
     "name": "stdout",
     "output_type": "stream",
     "text": [
      "Parents/Child: 0, Survived: 34.37%\n",
      "Parents/Child: 1, Survived: 55.08%\n",
      "Parents/Child: 2, Survived: 50.00%\n",
      "Parents/Child: 3, Survived: 60.00%\n",
      "Parents/Child: 4, Survived: 0.00%\n",
      "Parents/Child: 5, Survived: 20.00%\n",
      "Parents/Child: 6, Survived: 0.00%\n"
     ]
    }
   ],
   "source": [
    "parch_survived_per0 = train['Survived'][train['Parch'] == 0].value_counts(normalize = True)[1]*100\n",
    "parch_survived_per1 = train['Survived'][train['Parch'] == 1].value_counts(normalize = True)[1]*100\n",
    "parch_survived_per2 = train['Survived'][train['Parch'] == 2].value_counts(normalize = True)[1]*100\n",
    "parch_survived_per3 = train['Survived'][train['Parch'] == 3].value_counts(normalize = True)[1]*100\n",
    "# parch_survived_per4 = train['Survived'][train['Parch'] == 4].value_counts(normalize = True)[1]*100\n",
    "parch_survived_per5 = train['Survived'][train['Parch'] == 5].value_counts(normalize = True)[1]*100\n",
    "# parch_survived_per6 = train['Survived'][train['Parch'] == 6].value_counts(normalize = True)[1]*100\n",
    "\n",
    "parch_survived_per4 = 0.0 #All are dead\n",
    "parch_survived_per6 = 0.0 #All are dead\n",
    "\n",
    "print(f'Parents/Child: 0, Survived: {parch_survived_per0:.2f}%')\n",
    "print(f'Parents/Child: 1, Survived: {parch_survived_per1:.2f}%')\n",
    "print(f'Parents/Child: 2, Survived: {parch_survived_per2:.2f}%')\n",
    "print(f'Parents/Child: 3, Survived: {parch_survived_per3:.2f}%')\n",
    "print(f'Parents/Child: 4, Survived: {parch_survived_per4:.2f}%')\n",
    "print(f'Parents/Child: 5, Survived: {parch_survived_per5:.2f}%')\n",
    "print(f'Parents/Child: 6, Survived: {parch_survived_per6:.2f}%')\n"
   ]
  },
  {
   "cell_type": "markdown",
   "id": "fea62e40-3bce-4465-a6ab-d283f0954ee7",
   "metadata": {},
   "source": [
    "### Gender wise Survived"
   ]
  },
  {
   "cell_type": "code",
   "execution_count": 35,
   "id": "60d3f6dc-cb7b-4e52-b2e9-54a271bdf282",
   "metadata": {},
   "outputs": [
    {
     "data": {
      "image/png": "[encoded data removed]",
      "text/plain": [
       "<Figure size 640x480 with 1 Axes>"
      ]
     },
     "metadata": {},
     "output_type": "display_data"
    }
   ],
   "source": [
    "sns.barplot(x='Parch', y='Survived', hue='Sex', palette='pastel', data=train)\n",
    "plt.title('Survived with Parent/Child')\n",
    "plt.show()"
   ]
  },
  {
   "cell_type": "markdown",
   "id": "fda7e83b-52fc-4d5b-b5d6-1f45793be986",
   "metadata": {},
   "source": [
    "## `Sex`"
   ]
  },
  {
   "cell_type": "code",
   "execution_count": 36,
   "id": "1fce5814-20c1-4779-8209-423e19a99995",
   "metadata": {},
   "outputs": [
    {
     "data": {
      "text/plain": [
       "Sex\n",
       "male      577\n",
       "female    314\n",
       "Name: count, dtype: int64"
      ]
     },
     "execution_count": 36,
     "metadata": {},
     "output_type": "execute_result"
    }
   ],
   "source": [
    "train['Sex'].value_counts()"
   ]
  },
  {
   "cell_type": "markdown",
   "id": "39e9740e-f198-4e85-ae3f-eae797996679",
   "metadata": {},
   "source": [
    "### Total Gender Survived"
   ]
  },
  {
   "cell_type": "code",
   "execution_count": 37,
   "id": "9f1405d3-d600-4e55-b1e0-67f25967a42e",
   "metadata": {},
   "outputs": [
    {
     "name": "stdout",
     "output_type": "stream",
     "text": [
      "Total Male Survived: 109\n",
      "Total Female Survived: 233\n"
     ]
    }
   ],
   "source": [
    "male_survived = train['Survived'][train['Sex'] == 'male'].value_counts()[1]\n",
    "female_survived = train['Survived'][train['Sex'] == 'female'].value_counts()[1]\n",
    "\n",
    "print(f'Total Male Survived: {male_survived}')\n",
    "print(f'Total Female Survived: {female_survived}')"
   ]
  },
  {
   "cell_type": "markdown",
   "id": "7295a715-8965-4e98-a2e5-8c5416c54aaa",
   "metadata": {},
   "source": [
    "### Percentage of Gender Survived"
   ]
  },
  {
   "cell_type": "code",
   "execution_count": 38,
   "id": "1680f512-8364-4684-a50f-eb29ebbc4f98",
   "metadata": {},
   "outputs": [
    {
     "name": "stdout",
     "output_type": "stream",
     "text": [
      "Male Survived Percentage: 18.89%\n",
      "Female Survived Percentage: 74.20%\n"
     ]
    }
   ],
   "source": [
    "male_survided_per = train['Survived'][train['Sex'] == 'male'].value_counts(normalize = True)[1]*100\n",
    "female_survided_per = train['Survived'][train['Sex'] == 'female'].value_counts(normalize = True)[1]*100\n",
    "\n",
    "print(f'Male Survived Percentage: {male_survided_per:.2f}%')\n",
    "print(f'Female Survived Percentage: {female_survided_per:.2f}%')"
   ]
  },
  {
   "cell_type": "markdown",
   "id": "c8739507-fecc-4996-8a48-2256b5eef11b",
   "metadata": {},
   "source": [
    "### Gender wise Survived"
   ]
  },
  {
   "cell_type": "code",
   "execution_count": 39,
   "id": "ca35aa6c-ea5d-42e6-9cc1-783435b04eb3",
   "metadata": {},
   "outputs": [
    {
     "data": {
      "image/png": "[encoded data removed]",
      "text/plain": [
       "<Figure size 640x480 with 1 Axes>"
      ]
     },
     "metadata": {},
     "output_type": "display_data"
    }
   ],
   "source": [
    "sns.barplot(x='Sex', y='Survived', palette = ['green', 'red'], data = train)\n",
    "plt.title('Survived by Gender')\n",
    "plt.show()"
   ]
  },
  {
   "cell_type": "markdown",
   "id": "c1fdb299-cc40-4a89-908f-485c6db319b2",
   "metadata": {},
   "source": [
    "## `Cabin`\n",
    "\n",
    "---\n",
    "\n",
    "🛳️ What the \"Cabin\" Column Represents\n",
    "- It indicates the **cabin number** assigned to a passenger aboard the Titanic.\n",
    "- Example values: `\"C85\"`, `\"E46\"`, `\"B28\"`, or sometimes multiple cabins like `\"C23 C25 C27\"`.\n",
    "\n",
    "---\n",
    "\n",
    "⚠️ Key Characteristics\n",
    "- **Highly missing data**: Over **77%** of the entries are missing (`NaN`), especially for 3rd class passengers.\n",
    "- **Cabin codes** typically start with a **letter** (A–G), which refers to the **deck level**.\n",
    "- The **number** following the letter may indicate the cabin's position on that deck.\n",
    "\n",
    "---\n",
    "\n",
    "🧠 How It's Used in Analysis\n",
    "- Analysts often extract the **deck letter** (e.g., `Cabin.str[0]`) to study survival rates by deck.\n",
    "- Some studies suggest passengers in **higher decks (A–C)** had better survival odds—possibly due to proximity to lifeboats.\n",
    "- Due to the missing data, it's common to:\n",
    "  - Treat it as a **categorical feature** (deck only)\n",
    "  - Create a **binary feature** like `HasCabin = Cabin.notnull()`\n",
    "\n",
    "---\n",
    "\n",
    "Referenced by [Copilot AI](https://copilot.microsoft.com/)"
   ]
  },
  {
   "cell_type": "markdown",
   "id": "27099f3d-fa5d-4d83-b07c-a94d0d87bfe0",
   "metadata": {},
   "source": [
    "### Total Person with Cabin or Not"
   ]
  },
  {
   "cell_type": "code",
   "execution_count": 40,
   "id": "f892b88b-fc63-4912-b1f5-37225457105f",
   "metadata": {},
   "outputs": [
    {
     "name": "stdout",
     "output_type": "stream",
     "text": [
      "Total Person With Cabin: 204\n",
      "Total Person Without Cabin: 687\n"
     ]
    }
   ],
   "source": [
    "without_cabin = train['Cabin'].isnull().sum()\n",
    "with_cabin = train['Cabin'].notnull().sum()\n",
    "\n",
    "print(f'Total Person With Cabin: {with_cabin}')\n",
    "print(f'Total Person Without Cabin: {without_cabin}')"
   ]
  },
  {
   "cell_type": "markdown",
   "id": "b4c672a3-28ce-46dd-9a07-a0371a06f5f3",
   "metadata": {},
   "source": [
    "### Total Cabin wise Survived"
   ]
  },
  {
   "cell_type": "code",
   "execution_count": 41,
   "id": "4ae70a88-bdae-4fe4-bb66-ac82690ce7f5",
   "metadata": {},
   "outputs": [
    {
     "name": "stdout",
     "output_type": "stream",
     "text": [
      "Total Person Survived with Cabin: 136\n",
      "Total Person Survived without Cabin: 206\n"
     ]
    }
   ],
   "source": [
    "total_cabin_survived = train['Survived'][train['Cabin'].notnull()].value_counts()[1]\n",
    "total_noncabin_survived = train['Survived'][train['Cabin'].isnull()].value_counts()[1]\n",
    "\n",
    "print(f'Total Person Survived with Cabin: {total_cabin_survived}')\n",
    "print(f'Total Person Survived without Cabin: {total_noncabin_survived}')"
   ]
  },
  {
   "cell_type": "markdown",
   "id": "6147b20c-ce07-4316-ad4e-5ad7d6be2745",
   "metadata": {},
   "source": [
    "### Percentage of Cabin Survived"
   ]
  },
  {
   "cell_type": "code",
   "execution_count": 42,
   "id": "88d796ed-d410-4f64-9226-52ca68bf4a74",
   "metadata": {},
   "outputs": [
    {
     "name": "stdout",
     "output_type": "stream",
     "text": [
      "Total Person Survived with Cabin: 0.67%\n",
      "Total Person Survived without Cabin: 0.30%\n"
     ]
    }
   ],
   "source": [
    "total_cabin_survived_per = train['Survived'][train['Cabin'].notnull()].value_counts(normalize=True)[1]\n",
    "total_noncabin_survived_per = train['Survived'][train['Cabin'].isnull()].value_counts(normalize=True)[1]\n",
    "\n",
    "print(f'Total Person Survived with Cabin: {total_cabin_survived_per:.2f}%')\n",
    "print(f'Total Person Survived without Cabin: {total_noncabin_survived_per:.2f}%')"
   ]
  },
  {
   "cell_type": "code",
   "execution_count": null,
   "id": "158fbc05-2828-4a24-a01a-2ad5772570c8",
   "metadata": {},
   "outputs": [],
   "source": []
  },
  {
   "cell_type": "markdown",
   "id": "67706a4b-2a06-42ff-9e2e-f004b3b207f1",
   "metadata": {},
   "source": [
    "## `Age`\n",
    "![age_image](assets/age_stage.JPG)"
   ]
  },
  {
   "cell_type": "code",
   "execution_count": 43,
   "id": "4083553a-ba7d-40e5-9a34-9f4d06b6636e",
   "metadata": {},
   "outputs": [
    {
     "data": {
      "text/plain": [
       "np.int64(0)"
      ]
     },
     "execution_count": 43,
     "metadata": {},
     "output_type": "execute_result"
    }
   ],
   "source": [
    "age_df = train.copy()\n",
    "age_df['Age'].fillna(-1, inplace=True)\n",
    "age_df['Age'].isnull().sum()"
   ]
  },
  {
   "cell_type": "markdown",
   "id": "57eece08-f563-4d57-b221-417765736736",
   "metadata": {},
   "source": [
    "### Make Age Group\n",
    "---\n",
    "- We added `1` as an intermediate edge to separate `'Newborn'` (0–1 years) from `'Toddler'` (1–3 years).\n",
    "- Now you have **10 bin edges**, which define **9 intervals**, perfectly matching your 9 labels.\n",
    "\n",
    "---"
   ]
  },
  {
   "cell_type": "code",
   "execution_count": 44,
   "id": "57927ef5-653d-402c-9371-25640f477c52",
   "metadata": {},
   "outputs": [],
   "source": [
    "bins = [-1, 0, 1, 3, 12, 19, 39, 59, 65, np.inf]\n",
    "labels = ['Unknown', 'Newborn', 'Toddler', 'Child', 'Teenager', 'Young Adults', 'Middle Adults', 'Seniors', 'Centenarians']\n",
    "\n",
    "train['Age_Group'] = pd.cut(\n",
    "    x=train['Age'].fillna(-0.5),\n",
    "    bins=bins,\n",
    "    labels=labels,\n",
    "    include_lowest=True\n",
    ")\n",
    "\n",
    "test['Age_Group'] = pd.cut(\n",
    "    x=test['Age'].fillna(-0.5),\n",
    "    bins=bins,\n",
    "    labels=labels,\n",
    "    include_lowest=True\n",
    ")"
   ]
  },
  {
   "cell_type": "markdown",
   "id": "5e12e366-00f5-4bde-94ba-0b905e19e36a",
   "metadata": {},
   "source": [
    "### Total Survived Count of Age Group"
   ]
  },
  {
   "cell_type": "code",
   "execution_count": 45,
   "id": "52186721-27b7-400b-bb29-5bb63660c825",
   "metadata": {},
   "outputs": [
    {
     "name": "stdout",
     "output_type": "stream",
     "text": [
      "Age Group: Unknown, Total Survived: 52\n",
      "Age Group: Newborn, Total Survived: 12\n",
      "Age Group: Toddler, Total Survived: 8\n",
      "Age Group: Child, Total Survived: 20\n",
      "Age Group: Teenager, Total Survived: 39\n",
      "Age Group: Young Adults, Total Survived: 150\n",
      "Age Group: Middle Adults, Total Survived: 54\n",
      "Age Group: Seniors, Total Survived: 6\n",
      "Age Group: Centenarians, Total Survived: 1\n"
     ]
    }
   ],
   "source": [
    "total_age_survived_unkn = train['Survived'][train['Age_Group'] == 'Unknown'].value_counts()[1]\n",
    "total_age_survived_new = train['Survived'][train['Age_Group'] == 'Newborn'].value_counts()[1]\n",
    "total_age_survived_todd = train['Survived'][train['Age_Group'] == 'Toddler'].value_counts()[1]\n",
    "total_age_survived_chi = train['Survived'][train['Age_Group'] == 'Child'].value_counts()[1]\n",
    "total_age_survived_teen = train['Survived'][train['Age_Group'] == 'Teenager'].value_counts()[1]\n",
    "total_age_survived_young = train['Survived'][train['Age_Group'] == 'Young Adults'].value_counts()[1]\n",
    "total_age_survived_middle = train['Survived'][train['Age_Group'] == 'Middle Adults'].value_counts()[1]\n",
    "total_age_survived_seniors = train['Survived'][train['Age_Group'] == 'Seniors'].value_counts()[1]\n",
    "total_age_survived_centen = train['Survived'][train['Age_Group'] == 'Centenarians'].value_counts()[1]\n",
    "\n",
    "\n",
    "print(f'Age Group: Unknown, Total Survived: {total_age_survived_unkn}')\n",
    "print(f'Age Group: Newborn, Total Survived: {total_age_survived_new}')\n",
    "print(f'Age Group: Toddler, Total Survived: {total_age_survived_todd}')\n",
    "print(f'Age Group: Child, Total Survived: {total_age_survived_chi}')\n",
    "print(f'Age Group: Teenager, Total Survived: {total_age_survived_teen}')\n",
    "print(f'Age Group: Young Adults, Total Survived: {total_age_survived_young}')\n",
    "print(f'Age Group: Middle Adults, Total Survived: {total_age_survived_middle}')\n",
    "print(f'Age Group: Seniors, Total Survived: {total_age_survived_seniors}')\n",
    "print(f'Age Group: Centenarians, Total Survived: {total_age_survived_centen}')\n"
   ]
  },
  {
   "cell_type": "markdown",
   "id": "56db114d-d29d-4aaa-a591-4f4417258a70",
   "metadata": {},
   "source": [
    "### Percentage of Age Group Survived"
   ]
  },
  {
   "cell_type": "code",
   "execution_count": 46,
   "id": "0e98d254-ecb3-4e79-af01-adabc4a0e5d7",
   "metadata": {},
   "outputs": [
    {
     "name": "stdout",
     "output_type": "stream",
     "text": [
      "Age Group: Unknown, Survival Rate: 29.38%\n",
      "Age Group: Newborn, Survival Rate: 85.71%\n",
      "Age Group: Toddler, Survival Rate: 50.00%\n",
      "Age Group: Child, Survival Rate: 51.28%\n",
      "Age Group: Teenager, Survival Rate: 41.05%\n",
      "Age Group: Young Adults, Survival Rate: 38.76%\n",
      "Age Group: Middle Adults, Survival Rate: 39.42%\n",
      "Age Group: Seniors, Survival Rate: 33.33%\n",
      "Age Group: Centenarians, Survival Rate: 12.50%\n"
     ]
    }
   ],
   "source": [
    "per_age_survived_unkn = train['Survived'][train['Age_Group'] == 'Unknown'].value_counts(normalize=True)[1]*100\n",
    "per_age_survived_new = train['Survived'][train['Age_Group'] == 'Newborn'].value_counts(normalize=True)[1]*100\n",
    "per_age_survived_todd = train['Survived'][train['Age_Group'] == 'Toddler'].value_counts(normalize=True)[1]*100\n",
    "per_age_survived_chi = train['Survived'][train['Age_Group'] == 'Child'].value_counts(normalize=True)[1]*100\n",
    "per_age_survived_teen = train['Survived'][train['Age_Group'] == 'Teenager'].value_counts(normalize=True)[1]*100\n",
    "per_age_survived_young = train['Survived'][train['Age_Group'] == 'Young Adults'].value_counts(normalize=True)[1]*100\n",
    "per_age_survived_middle = train['Survived'][train['Age_Group'] == 'Middle Adults'].value_counts(normalize=True)[1]*100\n",
    "per_age_survived_seniors = train['Survived'][train['Age_Group'] == 'Seniors'].value_counts(normalize=True)[1]*100\n",
    "per_age_survived_centen = train['Survived'][train['Age_Group'] == 'Centenarians'].value_counts(normalize=True)[1]*100\n",
    "\n",
    "print(f'Age Group: Unknown, Survival Rate: {per_age_survived_unkn:.2f}%')\n",
    "print(f'Age Group: Newborn, Survival Rate: {per_age_survived_new:.2f}%')\n",
    "print(f'Age Group: Toddler, Survival Rate: {per_age_survived_todd:.2f}%')\n",
    "print(f'Age Group: Child, Survival Rate: {per_age_survived_chi:.2f}%')\n",
    "print(f'Age Group: Teenager, Survival Rate: {per_age_survived_teen:.2f}%')\n",
    "print(f'Age Group: Young Adults, Survival Rate: {per_age_survived_young:.2f}%')\n",
    "print(f'Age Group: Middle Adults, Survival Rate: {per_age_survived_middle:.2f}%')\n",
    "print(f'Age Group: Seniors, Survival Rate: {per_age_survived_seniors:.2f}%')\n",
    "print(f'Age Group: Centenarians, Survival Rate: {per_age_survived_centen:.2f}%')"
   ]
  },
  {
   "cell_type": "code",
   "execution_count": null,
   "id": "8a32e582-e661-4b0d-b558-fb7c364b0a43",
   "metadata": {},
   "outputs": [],
   "source": []
  },
  {
   "cell_type": "markdown",
   "id": "857f4649-958b-4cb1-ba29-777e2e74cbbd",
   "metadata": {},
   "source": [
    "### Visualize these Age"
   ]
  },
  {
   "cell_type": "code",
   "execution_count": 47,
   "id": "44a90300-431a-4cd6-bb5d-d36e2c2396d5",
   "metadata": {},
   "outputs": [
    {
     "data": {
      "image/png": "[encoded data removed]",
      "text/plain": [
       "<Figure size 1500x600 with 1 Axes>"
      ]
     },
     "metadata": {},
     "output_type": "display_data"
    }
   ],
   "source": [
    "plt.figure(figsize=(15,6))\n",
    "sns.barplot(x='Age_Group', y='Survived', data=train, palette='pastel')\n",
    "plt.title('Age Group')\n",
    "plt.show()"
   ]
  },
  {
   "cell_type": "markdown",
   "id": "dd5dc399-34b3-4a61-b689-af61b72b9b1e",
   "metadata": {},
   "source": [
    "### Percentage According to Sex"
   ]
  },
  {
   "cell_type": "code",
   "execution_count": 48,
   "id": "62de5e82-52a6-4b6a-8757-5d76e12a1dfa",
   "metadata": {},
   "outputs": [
    {
     "data": {
      "image/png": "[encoded data removed]",
      "text/plain": [
       "<Figure size 1500x600 with 1 Axes>"
      ]
     },
     "metadata": {},
     "output_type": "display_data"
    }
   ],
   "source": [
    "plt.figure(figsize=(15,6))\n",
    "sns.barplot(x='Age_Group', y='Survived', data=train, hue='Sex', palette='pastel')\n",
    "plt.title('Age Group')\n",
    "plt.show()"
   ]
  },
  {
   "cell_type": "code",
   "execution_count": null,
   "id": "4d1f4aab-3f3d-4878-bcfd-92b8838428a5",
   "metadata": {},
   "outputs": [],
   "source": []
  },
  {
   "cell_type": "markdown",
   "id": "b2d54241-7ef2-4237-8546-ae306ace4e07",
   "metadata": {},
   "source": [
    "[Top](#Contents:)"
   ]
  },
  {
   "cell_type": "markdown",
   "id": "ae69aab3-66ff-43a6-a357-d9b6b667c488",
   "metadata": {},
   "source": [
    "# Cleaning-Data"
   ]
  },
  {
   "cell_type": "code",
   "execution_count": null,
   "id": "0edb0031-62d0-426c-a858-a529b6032690",
   "metadata": {},
   "outputs": [],
   "source": []
  },
  {
   "cell_type": "markdown",
   "id": "356f71aa-2d0a-4b48-97be-0a7d1f9b1672",
   "metadata": {},
   "source": [
    "## Missing Value Impute"
   ]
  },
  {
   "cell_type": "code",
   "execution_count": 49,
   "id": "6668fe16-c34e-44cd-8688-acbd5218bd98",
   "metadata": {},
   "outputs": [
    {
     "data": {
      "text/plain": [
       "PassengerId      0\n",
       "Survived         0\n",
       "Pclass           0\n",
       "Name             0\n",
       "Sex              0\n",
       "Age            177\n",
       "SibSp            0\n",
       "Parch            0\n",
       "Ticket           0\n",
       "Fare             0\n",
       "Cabin          687\n",
       "Embarked         2\n",
       "Age_Group        0\n",
       "dtype: int64"
      ]
     },
     "execution_count": 49,
     "metadata": {},
     "output_type": "execute_result"
    }
   ],
   "source": [
    "train.isnull().sum()"
   ]
  },
  {
   "cell_type": "markdown",
   "id": "3302a68b-d01a-431a-9b59-6fe374804be7",
   "metadata": {},
   "source": [
    "### `Embarked`"
   ]
  },
  {
   "cell_type": "code",
   "execution_count": 50,
   "id": "3fd57caf-d735-4717-942d-06a8fec97b86",
   "metadata": {},
   "outputs": [],
   "source": [
    "train['Embarked'].fillna(train['Embarked'].mode()[0], inplace=True)\n"
   ]
  },
  {
   "cell_type": "markdown",
   "id": "c65d0597-90b9-4a59-822d-89942a3522b0",
   "metadata": {},
   "source": [
    "### `Cabin`"
   ]
  },
  {
   "cell_type": "code",
   "execution_count": 51,
   "id": "91f24d4a-35fe-4699-a8af-52aecbaf800f",
   "metadata": {},
   "outputs": [
    {
     "data": {
      "text/html": [
       "<div>\n",
       "<style scoped>\n",
       "    .dataframe tbody tr th:only-of-type {\n",
       "        vertical-align: middle;\n",
       "    }\n",
       "\n",
       "    .dataframe tbody tr th {\n",
       "        vertical-align: top;\n",
       "    }\n",
       "\n",
       "    .dataframe thead th {\n",
       "        text-align: right;\n",
       "    }\n",
       "</style>\n",
       "<table border=\"1\" class=\"dataframe\">\n",
       "  <thead>\n",
       "    <tr style=\"text-align: right;\">\n",
       "      <th></th>\n",
       "      <th>PassengerId</th>\n",
       "      <th>Survived</th>\n",
       "      <th>Pclass</th>\n",
       "      <th>Name</th>\n",
       "      <th>Sex</th>\n",
       "      <th>Age</th>\n",
       "      <th>SibSp</th>\n",
       "      <th>Parch</th>\n",
       "      <th>Ticket</th>\n",
       "      <th>Fare</th>\n",
       "      <th>Cabin</th>\n",
       "      <th>Embarked</th>\n",
       "      <th>Age_Group</th>\n",
       "      <th>Cabin_Flag</th>\n",
       "    </tr>\n",
       "  </thead>\n",
       "  <tbody>\n",
       "    <tr>\n",
       "      <th>552</th>\n",
       "      <td>553</td>\n",
       "      <td>0</td>\n",
       "      <td>3</td>\n",
       "      <td>O'Brien, Mr. Timothy</td>\n",
       "      <td>male</td>\n",
       "      <td>NaN</td>\n",
       "      <td>0</td>\n",
       "      <td>0</td>\n",
       "      <td>330979</td>\n",
       "      <td>7.8292</td>\n",
       "      <td>NaN</td>\n",
       "      <td>Q</td>\n",
       "      <td>Unknown</td>\n",
       "      <td>0</td>\n",
       "    </tr>\n",
       "    <tr>\n",
       "      <th>592</th>\n",
       "      <td>593</td>\n",
       "      <td>0</td>\n",
       "      <td>3</td>\n",
       "      <td>Elsbury, Mr. William James</td>\n",
       "      <td>male</td>\n",
       "      <td>47.0</td>\n",
       "      <td>0</td>\n",
       "      <td>0</td>\n",
       "      <td>A/5 3902</td>\n",
       "      <td>7.2500</td>\n",
       "      <td>NaN</td>\n",
       "      <td>S</td>\n",
       "      <td>Middle Adults</td>\n",
       "      <td>0</td>\n",
       "    </tr>\n",
       "    <tr>\n",
       "      <th>751</th>\n",
       "      <td>752</td>\n",
       "      <td>1</td>\n",
       "      <td>3</td>\n",
       "      <td>Moor, Master. Meier</td>\n",
       "      <td>male</td>\n",
       "      <td>6.0</td>\n",
       "      <td>0</td>\n",
       "      <td>1</td>\n",
       "      <td>392096</td>\n",
       "      <td>12.4750</td>\n",
       "      <td>E121</td>\n",
       "      <td>S</td>\n",
       "      <td>Child</td>\n",
       "      <td>1</td>\n",
       "    </tr>\n",
       "  </tbody>\n",
       "</table>\n",
       "</div>"
      ],
      "text/plain": [
       "     PassengerId  Survived  Pclass                        Name   Sex   Age  \\\n",
       "552          553         0       3        O'Brien, Mr. Timothy  male   NaN   \n",
       "592          593         0       3  Elsbury, Mr. William James  male  47.0   \n",
       "751          752         1       3         Moor, Master. Meier  male   6.0   \n",
       "\n",
       "     SibSp  Parch    Ticket     Fare Cabin Embarked      Age_Group  Cabin_Flag  \n",
       "552      0      0    330979   7.8292   NaN        Q        Unknown           0  \n",
       "592      0      0  A/5 3902   7.2500   NaN        S  Middle Adults           0  \n",
       "751      0      1    392096  12.4750  E121        S          Child           1  "
      ]
     },
     "execution_count": 51,
     "metadata": {},
     "output_type": "execute_result"
    }
   ],
   "source": [
    "train['Cabin_Flag'] = train['Cabin'].notnull().astype(int)\n",
    "test['Cabin_Flag'] = test['Cabin'].notnull().astype(int)\n",
    "train.sample(3)"
   ]
  },
  {
   "cell_type": "markdown",
   "id": "d782e8ba-e561-49f7-a11c-eb9df0160491",
   "metadata": {},
   "source": [
    "### `Age`"
   ]
  },
  {
   "cell_type": "code",
   "execution_count": 52,
   "id": "5b0ccb2a-0cbb-4459-a724-d64268844a7c",
   "metadata": {},
   "outputs": [
    {
     "data": {
      "text/html": [
       "<div>\n",
       "<style scoped>\n",
       "    .dataframe tbody tr th:only-of-type {\n",
       "        vertical-align: middle;\n",
       "    }\n",
       "\n",
       "    .dataframe tbody tr th {\n",
       "        vertical-align: top;\n",
       "    }\n",
       "\n",
       "    .dataframe thead th {\n",
       "        text-align: right;\n",
       "    }\n",
       "</style>\n",
       "<table border=\"1\" class=\"dataframe\">\n",
       "  <thead>\n",
       "    <tr style=\"text-align: right;\">\n",
       "      <th>Sex</th>\n",
       "      <th>female</th>\n",
       "      <th>male</th>\n",
       "    </tr>\n",
       "    <tr>\n",
       "      <th>Title</th>\n",
       "      <th></th>\n",
       "      <th></th>\n",
       "    </tr>\n",
       "  </thead>\n",
       "  <tbody>\n",
       "    <tr>\n",
       "      <th>Capt</th>\n",
       "      <td>0</td>\n",
       "      <td>1</td>\n",
       "    </tr>\n",
       "    <tr>\n",
       "      <th>Col</th>\n",
       "      <td>0</td>\n",
       "      <td>2</td>\n",
       "    </tr>\n",
       "    <tr>\n",
       "      <th>Countess</th>\n",
       "      <td>1</td>\n",
       "      <td>0</td>\n",
       "    </tr>\n",
       "    <tr>\n",
       "      <th>Don</th>\n",
       "      <td>0</td>\n",
       "      <td>1</td>\n",
       "    </tr>\n",
       "    <tr>\n",
       "      <th>Dr</th>\n",
       "      <td>1</td>\n",
       "      <td>6</td>\n",
       "    </tr>\n",
       "    <tr>\n",
       "      <th>Jonkheer</th>\n",
       "      <td>0</td>\n",
       "      <td>1</td>\n",
       "    </tr>\n",
       "    <tr>\n",
       "      <th>Lady</th>\n",
       "      <td>1</td>\n",
       "      <td>0</td>\n",
       "    </tr>\n",
       "    <tr>\n",
       "      <th>Major</th>\n",
       "      <td>0</td>\n",
       "      <td>2</td>\n",
       "    </tr>\n",
       "    <tr>\n",
       "      <th>Master</th>\n",
       "      <td>0</td>\n",
       "      <td>40</td>\n",
       "    </tr>\n",
       "    <tr>\n",
       "      <th>Miss</th>\n",
       "      <td>182</td>\n",
       "      <td>0</td>\n",
       "    </tr>\n",
       "    <tr>\n",
       "      <th>Mlle</th>\n",
       "      <td>2</td>\n",
       "      <td>0</td>\n",
       "    </tr>\n",
       "    <tr>\n",
       "      <th>Mme</th>\n",
       "      <td>1</td>\n",
       "      <td>0</td>\n",
       "    </tr>\n",
       "    <tr>\n",
       "      <th>Mr</th>\n",
       "      <td>0</td>\n",
       "      <td>517</td>\n",
       "    </tr>\n",
       "    <tr>\n",
       "      <th>Mrs</th>\n",
       "      <td>125</td>\n",
       "      <td>0</td>\n",
       "    </tr>\n",
       "    <tr>\n",
       "      <th>Ms</th>\n",
       "      <td>1</td>\n",
       "      <td>0</td>\n",
       "    </tr>\n",
       "    <tr>\n",
       "      <th>Rev</th>\n",
       "      <td>0</td>\n",
       "      <td>6</td>\n",
       "    </tr>\n",
       "    <tr>\n",
       "      <th>Sir</th>\n",
       "      <td>0</td>\n",
       "      <td>1</td>\n",
       "    </tr>\n",
       "  </tbody>\n",
       "</table>\n",
       "</div>"
      ],
      "text/plain": [
       "Sex       female  male\n",
       "Title                 \n",
       "Capt           0     1\n",
       "Col            0     2\n",
       "Countess       1     0\n",
       "Don            0     1\n",
       "Dr             1     6\n",
       "Jonkheer       0     1\n",
       "Lady           1     0\n",
       "Major          0     2\n",
       "Master         0    40\n",
       "Miss         182     0\n",
       "Mlle           2     0\n",
       "Mme            1     0\n",
       "Mr             0   517\n",
       "Mrs          125     0\n",
       "Ms             1     0\n",
       "Rev            0     6\n",
       "Sir            0     1"
      ]
     },
     "execution_count": 52,
     "metadata": {},
     "output_type": "execute_result"
    }
   ],
   "source": [
    "#create a combined group of both datasets\n",
    "combine = [train, test]\n",
    "\n",
    "#extract a title for each Name in the train and test datasets\n",
    "for dataset in combine:\n",
    "    dataset['Title'] = dataset['Name'].str.extract(' ([A-Za-z]+)\\.', expand=False)\n",
    "\n",
    "pd.crosstab(train['Title'], train['Sex'])"
   ]
  },
  {
   "cell_type": "code",
   "execution_count": 53,
   "id": "9a5660c5-5f2d-4ff6-8473-1157fa431a9a",
   "metadata": {},
   "outputs": [
    {
     "data": {
      "text/plain": [
       "Index(['Capt', 'Col', 'Countess', 'Don', 'Dr', 'Jonkheer', 'Lady', 'Major',\n",
       "       'Master', 'Miss', 'Mlle', 'Mme', 'Mr', 'Mrs', 'Ms', 'Rev', 'Sir'],\n",
       "      dtype='object', name='Title')"
      ]
     },
     "execution_count": 53,
     "metadata": {},
     "output_type": "execute_result"
    }
   ],
   "source": [
    "pd.crosstab(train['Title'], train['Sex']).index"
   ]
  },
  {
   "cell_type": "code",
   "execution_count": null,
   "id": "7fb4af55-eb4e-47bc-aa44-2407323c3c7b",
   "metadata": {},
   "outputs": [],
   "source": []
  },
  {
   "cell_type": "code",
   "execution_count": 54,
   "id": "487fd393-c996-4aaf-99da-beea994def65",
   "metadata": {},
   "outputs": [
    {
     "data": {
      "text/html": [
       "<div>\n",
       "<style scoped>\n",
       "    .dataframe tbody tr th:only-of-type {\n",
       "        vertical-align: middle;\n",
       "    }\n",
       "\n",
       "    .dataframe tbody tr th {\n",
       "        vertical-align: top;\n",
       "    }\n",
       "\n",
       "    .dataframe thead th {\n",
       "        text-align: right;\n",
       "    }\n",
       "</style>\n",
       "<table border=\"1\" class=\"dataframe\">\n",
       "  <thead>\n",
       "    <tr style=\"text-align: right;\">\n",
       "      <th></th>\n",
       "      <th>Title</th>\n",
       "      <th>Survived</th>\n",
       "    </tr>\n",
       "  </thead>\n",
       "  <tbody>\n",
       "    <tr>\n",
       "      <th>0</th>\n",
       "      <td>Master</td>\n",
       "      <td>0.575000</td>\n",
       "    </tr>\n",
       "    <tr>\n",
       "      <th>1</th>\n",
       "      <td>Miss</td>\n",
       "      <td>0.704301</td>\n",
       "    </tr>\n",
       "    <tr>\n",
       "      <th>2</th>\n",
       "      <td>Mr</td>\n",
       "      <td>0.158301</td>\n",
       "    </tr>\n",
       "    <tr>\n",
       "      <th>3</th>\n",
       "      <td>Mrs</td>\n",
       "      <td>0.793651</td>\n",
       "    </tr>\n",
       "    <tr>\n",
       "      <th>4</th>\n",
       "      <td>Rare</td>\n",
       "      <td>0.285714</td>\n",
       "    </tr>\n",
       "  </tbody>\n",
       "</table>\n",
       "</div>"
      ],
      "text/plain": [
       "    Title  Survived\n",
       "0  Master  0.575000\n",
       "1    Miss  0.704301\n",
       "2      Mr  0.158301\n",
       "3     Mrs  0.793651\n",
       "4    Rare  0.285714"
      ]
     },
     "execution_count": 54,
     "metadata": {},
     "output_type": "execute_result"
    }
   ],
   "source": [
    "for dataset in combine:\n",
    "    dataset['Title'] = dataset['Title'].replace(\n",
    "        ['Capt', 'Col', 'Countess', 'Don', 'Dr', 'Jonkheer', 'Major', 'Rev'],\n",
    "        'Rare'\n",
    "    )\n",
    "\n",
    "    dataset['Title'] = dataset['Title'].replace(['Mlle', 'Ms', 'Lady'], 'Miss')\n",
    "    dataset['Title'] = dataset['Title'].replace('Mme', 'Mrs')\n",
    "    dataset['Title'] = dataset['Title'].replace('Sir', 'Mr')\n",
    "    \n",
    "train[['Title', 'Survived']].groupby(['Title'], as_index=False).mean()"
   ]
  },
  {
   "cell_type": "code",
   "execution_count": null,
   "id": "77f948d9-5fa5-4ef0-bd02-c6e3b7229400",
   "metadata": {},
   "outputs": [],
   "source": []
  },
  {
   "cell_type": "code",
   "execution_count": 55,
   "id": "f7f7fcb5-2a96-4dd7-bc57-a9387d6ceff7",
   "metadata": {},
   "outputs": [
    {
     "data": {
      "text/html": [
       "<div>\n",
       "<style scoped>\n",
       "    .dataframe tbody tr th:only-of-type {\n",
       "        vertical-align: middle;\n",
       "    }\n",
       "\n",
       "    .dataframe tbody tr th {\n",
       "        vertical-align: top;\n",
       "    }\n",
       "\n",
       "    .dataframe thead th {\n",
       "        text-align: right;\n",
       "    }\n",
       "</style>\n",
       "<table border=\"1\" class=\"dataframe\">\n",
       "  <thead>\n",
       "    <tr style=\"text-align: right;\">\n",
       "      <th></th>\n",
       "      <th>PassengerId</th>\n",
       "      <th>Survived</th>\n",
       "      <th>Pclass</th>\n",
       "      <th>Name</th>\n",
       "      <th>Sex</th>\n",
       "      <th>Age</th>\n",
       "      <th>SibSp</th>\n",
       "      <th>Parch</th>\n",
       "      <th>Ticket</th>\n",
       "      <th>Fare</th>\n",
       "      <th>Cabin</th>\n",
       "      <th>Embarked</th>\n",
       "      <th>Age_Group</th>\n",
       "      <th>Cabin_Flag</th>\n",
       "      <th>Title</th>\n",
       "    </tr>\n",
       "  </thead>\n",
       "  <tbody>\n",
       "    <tr>\n",
       "      <th>0</th>\n",
       "      <td>1</td>\n",
       "      <td>0</td>\n",
       "      <td>3</td>\n",
       "      <td>Braund, Mr. Owen Harris</td>\n",
       "      <td>male</td>\n",
       "      <td>22.0</td>\n",
       "      <td>1</td>\n",
       "      <td>0</td>\n",
       "      <td>A/5 21171</td>\n",
       "      <td>7.2500</td>\n",
       "      <td>NaN</td>\n",
       "      <td>S</td>\n",
       "      <td>Young Adults</td>\n",
       "      <td>0</td>\n",
       "      <td>1</td>\n",
       "    </tr>\n",
       "    <tr>\n",
       "      <th>1</th>\n",
       "      <td>2</td>\n",
       "      <td>1</td>\n",
       "      <td>1</td>\n",
       "      <td>Cumings, Mrs. John Bradley (Florence Briggs Th...</td>\n",
       "      <td>female</td>\n",
       "      <td>38.0</td>\n",
       "      <td>1</td>\n",
       "      <td>0</td>\n",
       "      <td>PC 17599</td>\n",
       "      <td>71.2833</td>\n",
       "      <td>C85</td>\n",
       "      <td>C</td>\n",
       "      <td>Young Adults</td>\n",
       "      <td>1</td>\n",
       "      <td>3</td>\n",
       "    </tr>\n",
       "    <tr>\n",
       "      <th>2</th>\n",
       "      <td>3</td>\n",
       "      <td>1</td>\n",
       "      <td>3</td>\n",
       "      <td>Heikkinen, Miss. Laina</td>\n",
       "      <td>female</td>\n",
       "      <td>26.0</td>\n",
       "      <td>0</td>\n",
       "      <td>0</td>\n",
       "      <td>STON/O2. 3101282</td>\n",
       "      <td>7.9250</td>\n",
       "      <td>NaN</td>\n",
       "      <td>S</td>\n",
       "      <td>Young Adults</td>\n",
       "      <td>0</td>\n",
       "      <td>2</td>\n",
       "    </tr>\n",
       "    <tr>\n",
       "      <th>3</th>\n",
       "      <td>4</td>\n",
       "      <td>1</td>\n",
       "      <td>1</td>\n",
       "      <td>Futrelle, Mrs. Jacques Heath (Lily May Peel)</td>\n",
       "      <td>female</td>\n",
       "      <td>35.0</td>\n",
       "      <td>1</td>\n",
       "      <td>0</td>\n",
       "      <td>113803</td>\n",
       "      <td>53.1000</td>\n",
       "      <td>C123</td>\n",
       "      <td>S</td>\n",
       "      <td>Young Adults</td>\n",
       "      <td>1</td>\n",
       "      <td>3</td>\n",
       "    </tr>\n",
       "    <tr>\n",
       "      <th>4</th>\n",
       "      <td>5</td>\n",
       "      <td>0</td>\n",
       "      <td>3</td>\n",
       "      <td>Allen, Mr. William Henry</td>\n",
       "      <td>male</td>\n",
       "      <td>35.0</td>\n",
       "      <td>0</td>\n",
       "      <td>0</td>\n",
       "      <td>373450</td>\n",
       "      <td>8.0500</td>\n",
       "      <td>NaN</td>\n",
       "      <td>S</td>\n",
       "      <td>Young Adults</td>\n",
       "      <td>0</td>\n",
       "      <td>1</td>\n",
       "    </tr>\n",
       "  </tbody>\n",
       "</table>\n",
       "</div>"
      ],
      "text/plain": [
       "   PassengerId  Survived  Pclass  \\\n",
       "0            1         0       3   \n",
       "1            2         1       1   \n",
       "2            3         1       3   \n",
       "3            4         1       1   \n",
       "4            5         0       3   \n",
       "\n",
       "                                                Name     Sex   Age  SibSp  \\\n",
       "0                            Braund, Mr. Owen Harris    male  22.0      1   \n",
       "1  Cumings, Mrs. John Bradley (Florence Briggs Th...  female  38.0      1   \n",
       "2                             Heikkinen, Miss. Laina  female  26.0      0   \n",
       "3       Futrelle, Mrs. Jacques Heath (Lily May Peel)  female  35.0      1   \n",
       "4                           Allen, Mr. William Henry    male  35.0      0   \n",
       "\n",
       "   Parch            Ticket     Fare Cabin Embarked     Age_Group  Cabin_Flag  \\\n",
       "0      0         A/5 21171   7.2500   NaN        S  Young Adults           0   \n",
       "1      0          PC 17599  71.2833   C85        C  Young Adults           1   \n",
       "2      0  STON/O2. 3101282   7.9250   NaN        S  Young Adults           0   \n",
       "3      0            113803  53.1000  C123        S  Young Adults           1   \n",
       "4      0            373450   8.0500   NaN        S  Young Adults           0   \n",
       "\n",
       "   Title  \n",
       "0      1  \n",
       "1      3  \n",
       "2      2  \n",
       "3      3  \n",
       "4      1  "
      ]
     },
     "execution_count": 55,
     "metadata": {},
     "output_type": "execute_result"
    }
   ],
   "source": [
    "title_mapping = {\n",
    "    'Mr' : 1,\n",
    "    'Miss' : 2,\n",
    "    'Mrs' : 3,\n",
    "    'Master' : 4,\n",
    "    'Rare' : 5\n",
    "}\n",
    "\n",
    "for dataset in combine:\n",
    "    dataset['Title'] = dataset['Title'].map(title_mapping)\n",
    "    dataset['Title'] = dataset['Title'].fillna(5).astype('int64')\n",
    "\n",
    "train.head()"
   ]
  },
  {
   "cell_type": "code",
   "execution_count": 56,
   "id": "d9112b48-2f3e-46f7-bec4-26f67c81d63d",
   "metadata": {},
   "outputs": [
    {
     "data": {
      "text/plain": [
       "PassengerId      0\n",
       "Survived         0\n",
       "Pclass           0\n",
       "Name             0\n",
       "Sex              0\n",
       "Age            177\n",
       "SibSp            0\n",
       "Parch            0\n",
       "Ticket           0\n",
       "Fare             0\n",
       "Cabin          687\n",
       "Embarked         0\n",
       "Age_Group        0\n",
       "Cabin_Flag       0\n",
       "Title            0\n",
       "dtype: int64"
      ]
     },
     "execution_count": 56,
     "metadata": {},
     "output_type": "execute_result"
    }
   ],
   "source": [
    "train.isnull().sum()"
   ]
  },
  {
   "cell_type": "code",
   "execution_count": 57,
   "id": "03215e5d-1e96-42d3-8681-0f46a2dedad6",
   "metadata": {},
   "outputs": [
    {
     "name": "stdout",
     "output_type": "stream",
     "text": [
      "Title: Mr, Most Common Age Group: Young Adults\n",
      "Title: Miss, Most Common Age Group: Young Adults\n",
      "Title: Mrs, Most Common Age Group: Young Adults\n",
      "Title: Master, Most Common Age Group: Child\n",
      "Title: Rare, Most Common Age Group: Middle Adults\n"
     ]
    }
   ],
   "source": [
    "mr_age = train[train['Title'] == 1]['Age_Group'].mode()[0]\n",
    "miss_age = train[train['Title'] == 2]['Age_Group'].mode()[0]\n",
    "mrs_age = train[train['Title'] == 3]['Age_Group'].mode()[0]\n",
    "master_age = train[train['Title'] == 4]['Age_Group'].mode()[0]\n",
    "rare_age = train[train['Title'] == 5]['Age_Group'].mode()[0]\n",
    "\n",
    "print(f\"Title: Mr, Most Common Age Group: {mr_age}\")\n",
    "print(f\"Title: Miss, Most Common Age Group: {miss_age}\")\n",
    "print(f\"Title: Mrs, Most Common Age Group: {mrs_age}\")\n",
    "print(f\"Title: Master, Most Common Age Group: {master_age}\")\n",
    "print(f\"Title: Rare, Most Common Age Group: {rare_age}\")"
   ]
  },
  {
   "cell_type": "code",
   "execution_count": 58,
   "id": "e323d52b-b95d-49e2-822c-7fb75fbf6cda",
   "metadata": {},
   "outputs": [
    {
     "data": {
      "text/plain": [
       "'Young Adults'"
      ]
     },
     "execution_count": 58,
     "metadata": {},
     "output_type": "execute_result"
    }
   ],
   "source": [
    "age_title_mapping = {1: \"Young Adults\", 2: \"Young Adults\", 3: \"Young Adults\", 4: \"Child\", 5: \"Middle Adults\"}\n",
    "age_title_mapping[train[\"Title\"][1]]"
   ]
  },
  {
   "cell_type": "code",
   "execution_count": 59,
   "id": "b4c0e92f-fd94-4270-893f-a445e4f1bb8d",
   "metadata": {},
   "outputs": [
    {
     "name": "stdout",
     "output_type": "stream",
     "text": [
      "Index(['Unknown', 'Newborn', 'Toddler', 'Child', 'Teenager', 'Young Adults',\n",
      "       'Middle Adults', 'Seniors', 'Centenarians'],\n",
      "      dtype='object')\n"
     ]
    }
   ],
   "source": [
    "print(train['Age_Group'].cat.categories)"
   ]
  },
  {
   "cell_type": "markdown",
   "id": "5ef1a909-9755-4ad1-a2b6-9198a8d4e4d8",
   "metadata": {},
   "source": [
    "#### Generate by Bing AI"
   ]
  },
  {
   "cell_type": "code",
   "execution_count": 60,
   "id": "3202a4da-b15e-437d-b0aa-c25faaaa7656",
   "metadata": {},
   "outputs": [],
   "source": [
    "# Define the function to handle category addition and imputation\n",
    "def fill_unknown_age_group(data, age_title_mapping):\n",
    "    # Step 1: Get current and new categories\n",
    "    existing_cats = set(data['Age_Group'].cat.categories)\n",
    "    new_cats = set(age_title_mapping.values())\n",
    "    cats_to_add = list(new_cats - existing_cats)\n",
    "\n",
    "    # Step 2: Add missing categories\n",
    "    if cats_to_add:\n",
    "        data['Age_Group'] = data['Age_Group'].cat.add_categories(cats_to_add)\n",
    "\n",
    "    # Step 3: Fill 'Unknown' using title-based mode mapping\n",
    "    data.loc[data['Age_Group'] == 'Unknown', 'Age_Group'] = (\n",
    "        data.loc[data['Age_Group'] == 'Unknown', 'Title'].map(age_title_mapping)\n",
    "    )\n",
    "\n",
    "# 🔄 Apply to both train and test\n",
    "fill_unknown_age_group(train, age_title_mapping)\n",
    "fill_unknown_age_group(test, age_title_mapping)\n"
   ]
  },
  {
   "cell_type": "code",
   "execution_count": 61,
   "id": "fce6d62a-c319-40d1-882f-f7be600aead5",
   "metadata": {},
   "outputs": [
    {
     "data": {
      "text/plain": [
       "['Young Adults', 'Middle Adults', 'Toddler', 'Teenager', 'Child', 'Centenarians', 'Seniors', 'Newborn']\n",
       "Categories (9, object): ['Unknown' < 'Newborn' < 'Toddler' < 'Child' ... 'Young Adults' < 'Middle Adults' < 'Seniors' < 'Centenarians']"
      ]
     },
     "execution_count": 61,
     "metadata": {},
     "output_type": "execute_result"
    }
   ],
   "source": [
    "train['Age_Group'].unique()"
   ]
  },
  {
   "cell_type": "code",
   "execution_count": 62,
   "id": "266b4435-16c6-4e5f-977e-1a9aff450a4f",
   "metadata": {},
   "outputs": [
    {
     "data": {
      "text/plain": [
       "['Young Adults', 'Middle Adults', 'Seniors', 'Teenager', 'Child', 'Centenarians', 'Toddler', 'Newborn']\n",
       "Categories (9, object): ['Unknown' < 'Newborn' < 'Toddler' < 'Child' ... 'Young Adults' < 'Middle Adults' < 'Seniors' < 'Centenarians']"
      ]
     },
     "execution_count": 62,
     "metadata": {},
     "output_type": "execute_result"
    }
   ],
   "source": [
    "test['Age_Group'].unique()"
   ]
  },
  {
   "cell_type": "code",
   "execution_count": null,
   "id": "81a7183a-8137-44c7-b12b-fe4653049659",
   "metadata": {},
   "outputs": [],
   "source": []
  },
  {
   "cell_type": "code",
   "execution_count": 63,
   "id": "69eeaeb6-fc56-4066-bc5c-97531f3d7ca6",
   "metadata": {},
   "outputs": [
    {
     "data": {
      "text/plain": [
       "Index(['PassengerId', 'Survived', 'Pclass', 'Name', 'Sex', 'Age', 'SibSp',\n",
       "       'Parch', 'Ticket', 'Fare', 'Cabin', 'Embarked', 'Age_Group',\n",
       "       'Cabin_Flag', 'Title'],\n",
       "      dtype='object')"
      ]
     },
     "execution_count": 63,
     "metadata": {},
     "output_type": "execute_result"
    }
   ],
   "source": [
    "train.columns"
   ]
  },
  {
   "cell_type": "code",
   "execution_count": 64,
   "id": "fc111b8e-3396-409e-bd37-d5a3ffae1476",
   "metadata": {},
   "outputs": [
    {
     "data": {
      "text/plain": [
       "Index(['PassengerId', 'Pclass', 'Name', 'Sex', 'Age', 'SibSp', 'Parch',\n",
       "       'Ticket', 'Fare', 'Cabin', 'Embarked', 'Age_Group', 'Cabin_Flag',\n",
       "       'Title'],\n",
       "      dtype='object')"
      ]
     },
     "execution_count": 64,
     "metadata": {},
     "output_type": "execute_result"
    }
   ],
   "source": [
    "test.columns"
   ]
  },
  {
   "cell_type": "markdown",
   "id": "ea1d178f-a784-48f3-91ef-f466808ee132",
   "metadata": {},
   "source": [
    "### `Fare`"
   ]
  },
  {
   "cell_type": "code",
   "execution_count": 65,
   "id": "2dfeb299-011d-4735-a7e2-ed9cb723d861",
   "metadata": {},
   "outputs": [
    {
     "data": {
      "text/plain": [
       "PassengerId      0\n",
       "Pclass           0\n",
       "Name             0\n",
       "Sex              0\n",
       "Age             86\n",
       "SibSp            0\n",
       "Parch            0\n",
       "Ticket           0\n",
       "Fare             1\n",
       "Cabin          327\n",
       "Embarked         0\n",
       "Age_Group        0\n",
       "Cabin_Flag       0\n",
       "Title            0\n",
       "dtype: int64"
      ]
     },
     "execution_count": 65,
     "metadata": {},
     "output_type": "execute_result"
    }
   ],
   "source": [
    "test.isnull().sum()"
   ]
  },
  {
   "cell_type": "code",
   "execution_count": 66,
   "id": "41fdfa58-05ac-4cf0-a348-aa6acc63586a",
   "metadata": {},
   "outputs": [
    {
     "data": {
      "text/html": [
       "<div>\n",
       "<style scoped>\n",
       "    .dataframe tbody tr th:only-of-type {\n",
       "        vertical-align: middle;\n",
       "    }\n",
       "\n",
       "    .dataframe tbody tr th {\n",
       "        vertical-align: top;\n",
       "    }\n",
       "\n",
       "    .dataframe thead th {\n",
       "        text-align: right;\n",
       "    }\n",
       "</style>\n",
       "<table border=\"1\" class=\"dataframe\">\n",
       "  <thead>\n",
       "    <tr style=\"text-align: right;\">\n",
       "      <th></th>\n",
       "      <th>PassengerId</th>\n",
       "      <th>Pclass</th>\n",
       "      <th>Name</th>\n",
       "      <th>Sex</th>\n",
       "      <th>Age</th>\n",
       "      <th>SibSp</th>\n",
       "      <th>Parch</th>\n",
       "      <th>Ticket</th>\n",
       "      <th>Fare</th>\n",
       "      <th>Cabin</th>\n",
       "      <th>Embarked</th>\n",
       "      <th>Age_Group</th>\n",
       "      <th>Cabin_Flag</th>\n",
       "      <th>Title</th>\n",
       "    </tr>\n",
       "  </thead>\n",
       "  <tbody>\n",
       "    <tr>\n",
       "      <th>152</th>\n",
       "      <td>1044</td>\n",
       "      <td>3</td>\n",
       "      <td>Storey, Mr. Thomas</td>\n",
       "      <td>male</td>\n",
       "      <td>60.5</td>\n",
       "      <td>0</td>\n",
       "      <td>0</td>\n",
       "      <td>3701</td>\n",
       "      <td>NaN</td>\n",
       "      <td>NaN</td>\n",
       "      <td>S</td>\n",
       "      <td>Seniors</td>\n",
       "      <td>0</td>\n",
       "      <td>1</td>\n",
       "    </tr>\n",
       "  </tbody>\n",
       "</table>\n",
       "</div>"
      ],
      "text/plain": [
       "     PassengerId  Pclass                Name   Sex   Age  SibSp  Parch Ticket  \\\n",
       "152         1044       3  Storey, Mr. Thomas  male  60.5      0      0   3701   \n",
       "\n",
       "     Fare Cabin Embarked Age_Group  Cabin_Flag  Title  \n",
       "152   NaN   NaN        S   Seniors           0      1  "
      ]
     },
     "execution_count": 66,
     "metadata": {},
     "output_type": "execute_result"
    }
   ],
   "source": [
    "test[test['Fare'].isnull()]"
   ]
  },
  {
   "cell_type": "code",
   "execution_count": 67,
   "id": "a837e1e8-e74d-4d6a-9d56-c5cc2925c23c",
   "metadata": {},
   "outputs": [
    {
     "data": {
      "text/plain": [
       "0    8.05\n",
       "Name: Fare, dtype: float64"
      ]
     },
     "execution_count": 67,
     "metadata": {},
     "output_type": "execute_result"
    }
   ],
   "source": [
    "train[train['Pclass']==3]['Fare'].mode()"
   ]
  },
  {
   "cell_type": "code",
   "execution_count": 68,
   "id": "26e11500-2c83-4b11-815a-b7dc30a2b325",
   "metadata": {},
   "outputs": [],
   "source": [
    "test['Fare'].fillna(train[train['Pclass']==3]['Fare'].mode()[0], inplace=True)"
   ]
  },
  {
   "cell_type": "code",
   "execution_count": 69,
   "id": "f37dd701-3d6f-456d-8268-921078ac1de6",
   "metadata": {},
   "outputs": [
    {
     "data": {
      "text/plain": [
       "PassengerId                  1044\n",
       "Pclass                          3\n",
       "Name           Storey, Mr. Thomas\n",
       "Sex                          male\n",
       "Age                          60.5\n",
       "SibSp                           0\n",
       "Parch                           0\n",
       "Ticket                       3701\n",
       "Fare                         8.05\n",
       "Cabin                         NaN\n",
       "Embarked                        S\n",
       "Age_Group                 Seniors\n",
       "Cabin_Flag                      0\n",
       "Title                           1\n",
       "Name: 152, dtype: object"
      ]
     },
     "execution_count": 69,
     "metadata": {},
     "output_type": "execute_result"
    }
   ],
   "source": [
    "test.iloc[152]"
   ]
  },
  {
   "cell_type": "code",
   "execution_count": null,
   "id": "5ffb31a9-a095-4480-99d0-b602ed3fd13b",
   "metadata": {},
   "outputs": [],
   "source": []
  },
  {
   "cell_type": "markdown",
   "id": "1e5dc61f-a48c-4f90-bb51-30bde042e2ce",
   "metadata": {},
   "source": [
    "## Handling Categorical Feature"
   ]
  },
  {
   "cell_type": "code",
   "execution_count": 70,
   "id": "82fb9af8-dd4e-42f6-9e33-71477a8f111c",
   "metadata": {},
   "outputs": [
    {
     "data": {
      "text/html": [
       "<div>\n",
       "<style scoped>\n",
       "    .dataframe tbody tr th:only-of-type {\n",
       "        vertical-align: middle;\n",
       "    }\n",
       "\n",
       "    .dataframe tbody tr th {\n",
       "        vertical-align: top;\n",
       "    }\n",
       "\n",
       "    .dataframe thead th {\n",
       "        text-align: right;\n",
       "    }\n",
       "</style>\n",
       "<table border=\"1\" class=\"dataframe\">\n",
       "  <thead>\n",
       "    <tr style=\"text-align: right;\">\n",
       "      <th></th>\n",
       "      <th>PassengerId</th>\n",
       "      <th>Survived</th>\n",
       "      <th>Pclass</th>\n",
       "      <th>Name</th>\n",
       "      <th>Sex</th>\n",
       "      <th>Age</th>\n",
       "      <th>SibSp</th>\n",
       "      <th>Parch</th>\n",
       "      <th>Ticket</th>\n",
       "      <th>Fare</th>\n",
       "      <th>Cabin</th>\n",
       "      <th>Embarked</th>\n",
       "      <th>Age_Group</th>\n",
       "      <th>Cabin_Flag</th>\n",
       "      <th>Title</th>\n",
       "    </tr>\n",
       "  </thead>\n",
       "  <tbody>\n",
       "    <tr>\n",
       "      <th>0</th>\n",
       "      <td>1</td>\n",
       "      <td>0</td>\n",
       "      <td>3</td>\n",
       "      <td>Braund, Mr. Owen Harris</td>\n",
       "      <td>male</td>\n",
       "      <td>22.0</td>\n",
       "      <td>1</td>\n",
       "      <td>0</td>\n",
       "      <td>A/5 21171</td>\n",
       "      <td>7.2500</td>\n",
       "      <td>NaN</td>\n",
       "      <td>S</td>\n",
       "      <td>Young Adults</td>\n",
       "      <td>0</td>\n",
       "      <td>1</td>\n",
       "    </tr>\n",
       "    <tr>\n",
       "      <th>1</th>\n",
       "      <td>2</td>\n",
       "      <td>1</td>\n",
       "      <td>1</td>\n",
       "      <td>Cumings, Mrs. John Bradley (Florence Briggs Th...</td>\n",
       "      <td>female</td>\n",
       "      <td>38.0</td>\n",
       "      <td>1</td>\n",
       "      <td>0</td>\n",
       "      <td>PC 17599</td>\n",
       "      <td>71.2833</td>\n",
       "      <td>C85</td>\n",
       "      <td>C</td>\n",
       "      <td>Young Adults</td>\n",
       "      <td>1</td>\n",
       "      <td>3</td>\n",
       "    </tr>\n",
       "  </tbody>\n",
       "</table>\n",
       "</div>"
      ],
      "text/plain": [
       "   PassengerId  Survived  Pclass  \\\n",
       "0            1         0       3   \n",
       "1            2         1       1   \n",
       "\n",
       "                                                Name     Sex   Age  SibSp  \\\n",
       "0                            Braund, Mr. Owen Harris    male  22.0      1   \n",
       "1  Cumings, Mrs. John Bradley (Florence Briggs Th...  female  38.0      1   \n",
       "\n",
       "   Parch     Ticket     Fare Cabin Embarked     Age_Group  Cabin_Flag  Title  \n",
       "0      0  A/5 21171   7.2500   NaN        S  Young Adults           0      1  \n",
       "1      0   PC 17599  71.2833   C85        C  Young Adults           1      3  "
      ]
     },
     "execution_count": 70,
     "metadata": {},
     "output_type": "execute_result"
    }
   ],
   "source": [
    "train.head(2)"
   ]
  },
  {
   "cell_type": "markdown",
   "id": "3f45a13b-9d0a-46fe-9277-d251f03b7fdb",
   "metadata": {},
   "source": [
    "### `Sex`"
   ]
  },
  {
   "cell_type": "code",
   "execution_count": 71,
   "id": "0956a07d-5bce-44b7-aac7-d7f10742cd68",
   "metadata": {},
   "outputs": [],
   "source": [
    "sex_mapping = {'male' : 0, 'female' : 1}\n",
    "train['Sex'] = train['Sex'].map(sex_mapping)\n",
    "test['Sex'] = test['Sex'].map(sex_mapping)"
   ]
  },
  {
   "cell_type": "code",
   "execution_count": 72,
   "id": "e7a7af4d-00cc-4ce9-bb54-cf24eb47dd1c",
   "metadata": {},
   "outputs": [
    {
     "data": {
      "text/html": [
       "<div>\n",
       "<style scoped>\n",
       "    .dataframe tbody tr th:only-of-type {\n",
       "        vertical-align: middle;\n",
       "    }\n",
       "\n",
       "    .dataframe tbody tr th {\n",
       "        vertical-align: top;\n",
       "    }\n",
       "\n",
       "    .dataframe thead th {\n",
       "        text-align: right;\n",
       "    }\n",
       "</style>\n",
       "<table border=\"1\" class=\"dataframe\">\n",
       "  <thead>\n",
       "    <tr style=\"text-align: right;\">\n",
       "      <th></th>\n",
       "      <th>PassengerId</th>\n",
       "      <th>Survived</th>\n",
       "      <th>Pclass</th>\n",
       "      <th>Name</th>\n",
       "      <th>Sex</th>\n",
       "      <th>Age</th>\n",
       "      <th>SibSp</th>\n",
       "      <th>Parch</th>\n",
       "      <th>Ticket</th>\n",
       "      <th>Fare</th>\n",
       "      <th>Cabin</th>\n",
       "      <th>Embarked</th>\n",
       "      <th>Age_Group</th>\n",
       "      <th>Cabin_Flag</th>\n",
       "      <th>Title</th>\n",
       "    </tr>\n",
       "  </thead>\n",
       "  <tbody>\n",
       "    <tr>\n",
       "      <th>0</th>\n",
       "      <td>1</td>\n",
       "      <td>0</td>\n",
       "      <td>3</td>\n",
       "      <td>Braund, Mr. Owen Harris</td>\n",
       "      <td>0</td>\n",
       "      <td>22.0</td>\n",
       "      <td>1</td>\n",
       "      <td>0</td>\n",
       "      <td>A/5 21171</td>\n",
       "      <td>7.2500</td>\n",
       "      <td>NaN</td>\n",
       "      <td>S</td>\n",
       "      <td>Young Adults</td>\n",
       "      <td>0</td>\n",
       "      <td>1</td>\n",
       "    </tr>\n",
       "    <tr>\n",
       "      <th>1</th>\n",
       "      <td>2</td>\n",
       "      <td>1</td>\n",
       "      <td>1</td>\n",
       "      <td>Cumings, Mrs. John Bradley (Florence Briggs Th...</td>\n",
       "      <td>1</td>\n",
       "      <td>38.0</td>\n",
       "      <td>1</td>\n",
       "      <td>0</td>\n",
       "      <td>PC 17599</td>\n",
       "      <td>71.2833</td>\n",
       "      <td>C85</td>\n",
       "      <td>C</td>\n",
       "      <td>Young Adults</td>\n",
       "      <td>1</td>\n",
       "      <td>3</td>\n",
       "    </tr>\n",
       "  </tbody>\n",
       "</table>\n",
       "</div>"
      ],
      "text/plain": [
       "   PassengerId  Survived  Pclass  \\\n",
       "0            1         0       3   \n",
       "1            2         1       1   \n",
       "\n",
       "                                                Name  Sex   Age  SibSp  Parch  \\\n",
       "0                            Braund, Mr. Owen Harris    0  22.0      1      0   \n",
       "1  Cumings, Mrs. John Bradley (Florence Briggs Th...    1  38.0      1      0   \n",
       "\n",
       "      Ticket     Fare Cabin Embarked     Age_Group  Cabin_Flag  Title  \n",
       "0  A/5 21171   7.2500   NaN        S  Young Adults           0      1  \n",
       "1   PC 17599  71.2833   C85        C  Young Adults           1      3  "
      ]
     },
     "execution_count": 72,
     "metadata": {},
     "output_type": "execute_result"
    }
   ],
   "source": [
    "train.head(2)"
   ]
  },
  {
   "cell_type": "markdown",
   "id": "aebbf86f-b3d6-4e45-b8e5-366626763112",
   "metadata": {},
   "source": [
    "### `Age_Group`"
   ]
  },
  {
   "cell_type": "code",
   "execution_count": 73,
   "id": "dda624bc-afb6-4aaa-8c98-dc62ca986ba6",
   "metadata": {},
   "outputs": [
    {
     "data": {
      "text/html": [
       "<div>\n",
       "<style scoped>\n",
       "    .dataframe tbody tr th:only-of-type {\n",
       "        vertical-align: middle;\n",
       "    }\n",
       "\n",
       "    .dataframe tbody tr th {\n",
       "        vertical-align: top;\n",
       "    }\n",
       "\n",
       "    .dataframe thead th {\n",
       "        text-align: right;\n",
       "    }\n",
       "</style>\n",
       "<table border=\"1\" class=\"dataframe\">\n",
       "  <thead>\n",
       "    <tr style=\"text-align: right;\">\n",
       "      <th></th>\n",
       "      <th>PassengerId</th>\n",
       "      <th>Survived</th>\n",
       "      <th>Pclass</th>\n",
       "      <th>Name</th>\n",
       "      <th>Sex</th>\n",
       "      <th>Age</th>\n",
       "      <th>SibSp</th>\n",
       "      <th>Parch</th>\n",
       "      <th>Ticket</th>\n",
       "      <th>Fare</th>\n",
       "      <th>Cabin</th>\n",
       "      <th>Embarked</th>\n",
       "      <th>Age_Group</th>\n",
       "      <th>Cabin_Flag</th>\n",
       "      <th>Title</th>\n",
       "    </tr>\n",
       "  </thead>\n",
       "  <tbody>\n",
       "    <tr>\n",
       "      <th>0</th>\n",
       "      <td>1</td>\n",
       "      <td>0</td>\n",
       "      <td>3</td>\n",
       "      <td>Braund, Mr. Owen Harris</td>\n",
       "      <td>0</td>\n",
       "      <td>22.0</td>\n",
       "      <td>1</td>\n",
       "      <td>0</td>\n",
       "      <td>A/5 21171</td>\n",
       "      <td>7.25</td>\n",
       "      <td>NaN</td>\n",
       "      <td>S</td>\n",
       "      <td>Young Adults</td>\n",
       "      <td>0</td>\n",
       "      <td>1</td>\n",
       "    </tr>\n",
       "  </tbody>\n",
       "</table>\n",
       "</div>"
      ],
      "text/plain": [
       "   PassengerId  Survived  Pclass                     Name  Sex   Age  SibSp  \\\n",
       "0            1         0       3  Braund, Mr. Owen Harris    0  22.0      1   \n",
       "\n",
       "   Parch     Ticket  Fare Cabin Embarked     Age_Group  Cabin_Flag  Title  \n",
       "0      0  A/5 21171  7.25   NaN        S  Young Adults           0      1  "
      ]
     },
     "execution_count": 73,
     "metadata": {},
     "output_type": "execute_result"
    }
   ],
   "source": [
    "train.head(1)"
   ]
  },
  {
   "cell_type": "code",
   "execution_count": 74,
   "id": "35dabeff-a186-4057-b9b0-dea216cc78cc",
   "metadata": {},
   "outputs": [
    {
     "data": {
      "text/plain": [
       "['Young Adults', 'Middle Adults', 'Toddler', 'Teenager', 'Child', 'Centenarians', 'Seniors', 'Newborn']\n",
       "Categories (9, object): ['Unknown' < 'Newborn' < 'Toddler' < 'Child' ... 'Young Adults' < 'Middle Adults' < 'Seniors' < 'Centenarians']"
      ]
     },
     "execution_count": 74,
     "metadata": {},
     "output_type": "execute_result"
    }
   ],
   "source": [
    "train['Age_Group'].unique()"
   ]
  },
  {
   "cell_type": "code",
   "execution_count": 75,
   "id": "2efc2dfc-b70e-420b-b0cd-2016febdcdd2",
   "metadata": {},
   "outputs": [],
   "source": [
    "# labels = ['Newborn', 'Toddler', 'Child', 'Teenager', 'Young Adults', 'Middle Adults', 'Seniors', 'Centenarians']\n",
    "age_mapping = {\n",
    "    'Newborn' : 1,\n",
    "    'Toddler' : 2,\n",
    "    'Child' : 3,\n",
    "    'Teenager' : 4,\n",
    "    'Young Adults' : 5,\n",
    "    'Middle Adults' : 6,\n",
    "    'Seniors' : 7, \n",
    "    'Centenarians' : 8\n",
    "}\n",
    "\n",
    "train['Age_Group'] = train['Age_Group'].map(age_mapping).astype('int64')\n",
    "test['Age_Group'] = test['Age_Group'].map(age_mapping).astype('int64')"
   ]
  },
  {
   "cell_type": "code",
   "execution_count": 76,
   "id": "54686ce6-5a9b-4f4d-a52f-cffb28ea3557",
   "metadata": {},
   "outputs": [
    {
     "data": {
      "text/html": [
       "<div>\n",
       "<style scoped>\n",
       "    .dataframe tbody tr th:only-of-type {\n",
       "        vertical-align: middle;\n",
       "    }\n",
       "\n",
       "    .dataframe tbody tr th {\n",
       "        vertical-align: top;\n",
       "    }\n",
       "\n",
       "    .dataframe thead th {\n",
       "        text-align: right;\n",
       "    }\n",
       "</style>\n",
       "<table border=\"1\" class=\"dataframe\">\n",
       "  <thead>\n",
       "    <tr style=\"text-align: right;\">\n",
       "      <th></th>\n",
       "      <th>PassengerId</th>\n",
       "      <th>Survived</th>\n",
       "      <th>Pclass</th>\n",
       "      <th>Name</th>\n",
       "      <th>Sex</th>\n",
       "      <th>Age</th>\n",
       "      <th>SibSp</th>\n",
       "      <th>Parch</th>\n",
       "      <th>Ticket</th>\n",
       "      <th>Fare</th>\n",
       "      <th>Cabin</th>\n",
       "      <th>Embarked</th>\n",
       "      <th>Age_Group</th>\n",
       "      <th>Cabin_Flag</th>\n",
       "      <th>Title</th>\n",
       "    </tr>\n",
       "  </thead>\n",
       "  <tbody>\n",
       "    <tr>\n",
       "      <th>0</th>\n",
       "      <td>1</td>\n",
       "      <td>0</td>\n",
       "      <td>3</td>\n",
       "      <td>Braund, Mr. Owen Harris</td>\n",
       "      <td>0</td>\n",
       "      <td>22.0</td>\n",
       "      <td>1</td>\n",
       "      <td>0</td>\n",
       "      <td>A/5 21171</td>\n",
       "      <td>7.25</td>\n",
       "      <td>NaN</td>\n",
       "      <td>S</td>\n",
       "      <td>5</td>\n",
       "      <td>0</td>\n",
       "      <td>1</td>\n",
       "    </tr>\n",
       "  </tbody>\n",
       "</table>\n",
       "</div>"
      ],
      "text/plain": [
       "   PassengerId  Survived  Pclass                     Name  Sex   Age  SibSp  \\\n",
       "0            1         0       3  Braund, Mr. Owen Harris    0  22.0      1   \n",
       "\n",
       "   Parch     Ticket  Fare Cabin Embarked  Age_Group  Cabin_Flag  Title  \n",
       "0      0  A/5 21171  7.25   NaN        S          5           0      1  "
      ]
     },
     "execution_count": 76,
     "metadata": {},
     "output_type": "execute_result"
    }
   ],
   "source": [
    "train.head(1)"
   ]
  },
  {
   "cell_type": "markdown",
   "id": "ccdc79ab-ff53-4933-b459-f8cbef7b9317",
   "metadata": {},
   "source": [
    "### `Embarked`"
   ]
  },
  {
   "cell_type": "code",
   "execution_count": 77,
   "id": "aef5c697-18d4-4c7b-b599-fdea394347aa",
   "metadata": {},
   "outputs": [
    {
     "data": {
      "text/plain": [
       "array(['S', 'C', 'Q'], dtype=object)"
      ]
     },
     "execution_count": 77,
     "metadata": {},
     "output_type": "execute_result"
    }
   ],
   "source": [
    "train['Embarked'].unique()"
   ]
  },
  {
   "cell_type": "code",
   "execution_count": 78,
   "id": "34e25f65-ff96-45fd-9fda-d41cebfb4b67",
   "metadata": {},
   "outputs": [],
   "source": [
    "embarked_mapping = {\n",
    "    'S' : 0,\n",
    "    'C' : 1, \n",
    "    'Q' : 2\n",
    "}\n",
    "\n",
    "train['Embarked'] = train['Embarked'].map(embarked_mapping)\n",
    "test['Embarked'] = test['Embarked'].map(embarked_mapping)\n"
   ]
  },
  {
   "cell_type": "code",
   "execution_count": 79,
   "id": "566d6f7d-8494-4296-ac32-602431290df0",
   "metadata": {},
   "outputs": [
    {
     "data": {
      "text/html": [
       "<div>\n",
       "<style scoped>\n",
       "    .dataframe tbody tr th:only-of-type {\n",
       "        vertical-align: middle;\n",
       "    }\n",
       "\n",
       "    .dataframe tbody tr th {\n",
       "        vertical-align: top;\n",
       "    }\n",
       "\n",
       "    .dataframe thead th {\n",
       "        text-align: right;\n",
       "    }\n",
       "</style>\n",
       "<table border=\"1\" class=\"dataframe\">\n",
       "  <thead>\n",
       "    <tr style=\"text-align: right;\">\n",
       "      <th></th>\n",
       "      <th>PassengerId</th>\n",
       "      <th>Survived</th>\n",
       "      <th>Pclass</th>\n",
       "      <th>Name</th>\n",
       "      <th>Sex</th>\n",
       "      <th>Age</th>\n",
       "      <th>SibSp</th>\n",
       "      <th>Parch</th>\n",
       "      <th>Ticket</th>\n",
       "      <th>Fare</th>\n",
       "      <th>Cabin</th>\n",
       "      <th>Embarked</th>\n",
       "      <th>Age_Group</th>\n",
       "      <th>Cabin_Flag</th>\n",
       "      <th>Title</th>\n",
       "    </tr>\n",
       "  </thead>\n",
       "  <tbody>\n",
       "    <tr>\n",
       "      <th>0</th>\n",
       "      <td>1</td>\n",
       "      <td>0</td>\n",
       "      <td>3</td>\n",
       "      <td>Braund, Mr. Owen Harris</td>\n",
       "      <td>0</td>\n",
       "      <td>22.0</td>\n",
       "      <td>1</td>\n",
       "      <td>0</td>\n",
       "      <td>A/5 21171</td>\n",
       "      <td>7.2500</td>\n",
       "      <td>NaN</td>\n",
       "      <td>0</td>\n",
       "      <td>5</td>\n",
       "      <td>0</td>\n",
       "      <td>1</td>\n",
       "    </tr>\n",
       "    <tr>\n",
       "      <th>1</th>\n",
       "      <td>2</td>\n",
       "      <td>1</td>\n",
       "      <td>1</td>\n",
       "      <td>Cumings, Mrs. John Bradley (Florence Briggs Th...</td>\n",
       "      <td>1</td>\n",
       "      <td>38.0</td>\n",
       "      <td>1</td>\n",
       "      <td>0</td>\n",
       "      <td>PC 17599</td>\n",
       "      <td>71.2833</td>\n",
       "      <td>C85</td>\n",
       "      <td>1</td>\n",
       "      <td>5</td>\n",
       "      <td>1</td>\n",
       "      <td>3</td>\n",
       "    </tr>\n",
       "  </tbody>\n",
       "</table>\n",
       "</div>"
      ],
      "text/plain": [
       "   PassengerId  Survived  Pclass  \\\n",
       "0            1         0       3   \n",
       "1            2         1       1   \n",
       "\n",
       "                                                Name  Sex   Age  SibSp  Parch  \\\n",
       "0                            Braund, Mr. Owen Harris    0  22.0      1      0   \n",
       "1  Cumings, Mrs. John Bradley (Florence Briggs Th...    1  38.0      1      0   \n",
       "\n",
       "      Ticket     Fare Cabin  Embarked  Age_Group  Cabin_Flag  Title  \n",
       "0  A/5 21171   7.2500   NaN         0          5           0      1  \n",
       "1   PC 17599  71.2833   C85         1          5           1      3  "
      ]
     },
     "execution_count": 79,
     "metadata": {},
     "output_type": "execute_result"
    }
   ],
   "source": [
    "train.head(2)"
   ]
  },
  {
   "cell_type": "markdown",
   "id": "c98ee601-b794-4f4d-a8bc-2e48f172f29a",
   "metadata": {},
   "source": [
    "## Features Construction"
   ]
  },
  {
   "cell_type": "code",
   "execution_count": 80,
   "id": "1e17d894-137c-4924-94bb-4eed781e95e8",
   "metadata": {},
   "outputs": [
    {
     "data": {
      "text/html": [
       "<div>\n",
       "<style scoped>\n",
       "    .dataframe tbody tr th:only-of-type {\n",
       "        vertical-align: middle;\n",
       "    }\n",
       "\n",
       "    .dataframe tbody tr th {\n",
       "        vertical-align: top;\n",
       "    }\n",
       "\n",
       "    .dataframe thead th {\n",
       "        text-align: right;\n",
       "    }\n",
       "</style>\n",
       "<table border=\"1\" class=\"dataframe\">\n",
       "  <thead>\n",
       "    <tr style=\"text-align: right;\">\n",
       "      <th></th>\n",
       "      <th>PassengerId</th>\n",
       "      <th>Survived</th>\n",
       "      <th>Pclass</th>\n",
       "      <th>Name</th>\n",
       "      <th>Sex</th>\n",
       "      <th>Age</th>\n",
       "      <th>SibSp</th>\n",
       "      <th>Parch</th>\n",
       "      <th>Ticket</th>\n",
       "      <th>Fare</th>\n",
       "      <th>Cabin</th>\n",
       "      <th>Embarked</th>\n",
       "      <th>Age_Group</th>\n",
       "      <th>Cabin_Flag</th>\n",
       "      <th>Title</th>\n",
       "    </tr>\n",
       "  </thead>\n",
       "  <tbody>\n",
       "    <tr>\n",
       "      <th>0</th>\n",
       "      <td>1</td>\n",
       "      <td>0</td>\n",
       "      <td>3</td>\n",
       "      <td>Braund, Mr. Owen Harris</td>\n",
       "      <td>0</td>\n",
       "      <td>22.0</td>\n",
       "      <td>1</td>\n",
       "      <td>0</td>\n",
       "      <td>A/5 21171</td>\n",
       "      <td>7.2500</td>\n",
       "      <td>NaN</td>\n",
       "      <td>0</td>\n",
       "      <td>5</td>\n",
       "      <td>0</td>\n",
       "      <td>1</td>\n",
       "    </tr>\n",
       "    <tr>\n",
       "      <th>1</th>\n",
       "      <td>2</td>\n",
       "      <td>1</td>\n",
       "      <td>1</td>\n",
       "      <td>Cumings, Mrs. John Bradley (Florence Briggs Th...</td>\n",
       "      <td>1</td>\n",
       "      <td>38.0</td>\n",
       "      <td>1</td>\n",
       "      <td>0</td>\n",
       "      <td>PC 17599</td>\n",
       "      <td>71.2833</td>\n",
       "      <td>C85</td>\n",
       "      <td>1</td>\n",
       "      <td>5</td>\n",
       "      <td>1</td>\n",
       "      <td>3</td>\n",
       "    </tr>\n",
       "  </tbody>\n",
       "</table>\n",
       "</div>"
      ],
      "text/plain": [
       "   PassengerId  Survived  Pclass  \\\n",
       "0            1         0       3   \n",
       "1            2         1       1   \n",
       "\n",
       "                                                Name  Sex   Age  SibSp  Parch  \\\n",
       "0                            Braund, Mr. Owen Harris    0  22.0      1      0   \n",
       "1  Cumings, Mrs. John Bradley (Florence Briggs Th...    1  38.0      1      0   \n",
       "\n",
       "      Ticket     Fare Cabin  Embarked  Age_Group  Cabin_Flag  Title  \n",
       "0  A/5 21171   7.2500   NaN         0          5           0      1  \n",
       "1   PC 17599  71.2833   C85         1          5           1      3  "
      ]
     },
     "execution_count": 80,
     "metadata": {},
     "output_type": "execute_result"
    }
   ],
   "source": [
    "train.head(2)"
   ]
  },
  {
   "cell_type": "code",
   "execution_count": 81,
   "id": "950076a6-3f68-409f-8099-d54ffbdbc8cb",
   "metadata": {},
   "outputs": [],
   "source": [
    "train['Family_Size'] = train['SibSp'] + train['Parch'] + 1\n",
    "test['Family_Size'] = test['SibSp'] + test['Parch'] + 1"
   ]
  },
  {
   "cell_type": "code",
   "execution_count": 82,
   "id": "83920c33-d8ca-48e7-9c57-fc699b722795",
   "metadata": {},
   "outputs": [
    {
     "data": {
      "text/plain": [
       "array([ 2,  1,  5,  3,  7,  6,  4,  8, 11])"
      ]
     },
     "execution_count": 82,
     "metadata": {},
     "output_type": "execute_result"
    }
   ],
   "source": [
    "train['Family_Size'].unique()"
   ]
  },
  {
   "cell_type": "markdown",
   "id": "8bf65dae-a748-4272-9ecd-564597cfb35d",
   "metadata": {},
   "source": [
    "#### Creating Family Group"
   ]
  },
  {
   "cell_type": "code",
   "execution_count": 83,
   "id": "002baaf2-9915-4a91-8592-5eca0366c09e",
   "metadata": {},
   "outputs": [
    {
     "data": {
      "text/html": [
       "<div>\n",
       "<style scoped>\n",
       "    .dataframe tbody tr th:only-of-type {\n",
       "        vertical-align: middle;\n",
       "    }\n",
       "\n",
       "    .dataframe tbody tr th {\n",
       "        vertical-align: top;\n",
       "    }\n",
       "\n",
       "    .dataframe thead th {\n",
       "        text-align: right;\n",
       "    }\n",
       "</style>\n",
       "<table border=\"1\" class=\"dataframe\">\n",
       "  <thead>\n",
       "    <tr style=\"text-align: right;\">\n",
       "      <th></th>\n",
       "      <th>PassengerId</th>\n",
       "      <th>Survived</th>\n",
       "      <th>Pclass</th>\n",
       "      <th>Name</th>\n",
       "      <th>Sex</th>\n",
       "      <th>Age</th>\n",
       "      <th>SibSp</th>\n",
       "      <th>Parch</th>\n",
       "      <th>Ticket</th>\n",
       "      <th>Fare</th>\n",
       "      <th>Cabin</th>\n",
       "      <th>Embarked</th>\n",
       "      <th>Age_Group</th>\n",
       "      <th>Cabin_Flag</th>\n",
       "      <th>Title</th>\n",
       "      <th>Family_Size</th>\n",
       "    </tr>\n",
       "  </thead>\n",
       "  <tbody>\n",
       "    <tr>\n",
       "      <th>0</th>\n",
       "      <td>1</td>\n",
       "      <td>0</td>\n",
       "      <td>3</td>\n",
       "      <td>Braund, Mr. Owen Harris</td>\n",
       "      <td>0</td>\n",
       "      <td>22.0</td>\n",
       "      <td>1</td>\n",
       "      <td>0</td>\n",
       "      <td>A/5 21171</td>\n",
       "      <td>7.2500</td>\n",
       "      <td>NaN</td>\n",
       "      <td>0</td>\n",
       "      <td>5</td>\n",
       "      <td>0</td>\n",
       "      <td>1</td>\n",
       "      <td>2</td>\n",
       "    </tr>\n",
       "    <tr>\n",
       "      <th>1</th>\n",
       "      <td>2</td>\n",
       "      <td>1</td>\n",
       "      <td>1</td>\n",
       "      <td>Cumings, Mrs. John Bradley (Florence Briggs Th...</td>\n",
       "      <td>1</td>\n",
       "      <td>38.0</td>\n",
       "      <td>1</td>\n",
       "      <td>0</td>\n",
       "      <td>PC 17599</td>\n",
       "      <td>71.2833</td>\n",
       "      <td>C85</td>\n",
       "      <td>1</td>\n",
       "      <td>5</td>\n",
       "      <td>1</td>\n",
       "      <td>3</td>\n",
       "      <td>2</td>\n",
       "    </tr>\n",
       "  </tbody>\n",
       "</table>\n",
       "</div>"
      ],
      "text/plain": [
       "   PassengerId  Survived  Pclass  \\\n",
       "0            1         0       3   \n",
       "1            2         1       1   \n",
       "\n",
       "                                                Name  Sex   Age  SibSp  Parch  \\\n",
       "0                            Braund, Mr. Owen Harris    0  22.0      1      0   \n",
       "1  Cumings, Mrs. John Bradley (Florence Briggs Th...    1  38.0      1      0   \n",
       "\n",
       "      Ticket     Fare Cabin  Embarked  Age_Group  Cabin_Flag  Title  \\\n",
       "0  A/5 21171   7.2500   NaN         0          5           0      1   \n",
       "1   PC 17599  71.2833   C85         1          5           1      3   \n",
       "\n",
       "   Family_Size  \n",
       "0            2  \n",
       "1            2  "
      ]
     },
     "execution_count": 83,
     "metadata": {},
     "output_type": "execute_result"
    }
   ],
   "source": [
    "train.head(2)"
   ]
  },
  {
   "cell_type": "code",
   "execution_count": 84,
   "id": "7a85a2bf-b4d2-41df-b23f-06dcd6ad2db2",
   "metadata": {},
   "outputs": [],
   "source": [
    "def family_group(size):\n",
    "    if size == 1:\n",
    "        return 'Solo'\n",
    "    elif size <= 3:\n",
    "        return 'Small'\n",
    "    elif size <= 6:\n",
    "        return 'Medium'\n",
    "    else:\n",
    "        return 'Large'\n",
    "\n",
    "train['Family_Group'] = train['Family_Size'].apply(family_group)\n",
    "test['Family_Group'] = test['Family_Size'].apply(family_group)\n"
   ]
  },
  {
   "cell_type": "code",
   "execution_count": 85,
   "id": "9ef5bdf6-8870-486f-b9e6-86c71ebfcb8d",
   "metadata": {},
   "outputs": [],
   "source": [
    "family_mapping = {\n",
    "    'Solo' : 0,\n",
    "    'Small' : 1,\n",
    "    'Medium' : 2,\n",
    "    'Large' : 3\n",
    "}\n",
    "\n",
    "train['Family_Group'] = train['Family_Group'].map(family_mapping)\n",
    "test['Family_Group'] = test['Family_Group'].map(family_mapping)"
   ]
  },
  {
   "cell_type": "code",
   "execution_count": 86,
   "id": "d3a037f4-8436-442d-96b3-fee0214a38c8",
   "metadata": {},
   "outputs": [
    {
     "data": {
      "text/html": [
       "<div>\n",
       "<style scoped>\n",
       "    .dataframe tbody tr th:only-of-type {\n",
       "        vertical-align: middle;\n",
       "    }\n",
       "\n",
       "    .dataframe tbody tr th {\n",
       "        vertical-align: top;\n",
       "    }\n",
       "\n",
       "    .dataframe thead th {\n",
       "        text-align: right;\n",
       "    }\n",
       "</style>\n",
       "<table border=\"1\" class=\"dataframe\">\n",
       "  <thead>\n",
       "    <tr style=\"text-align: right;\">\n",
       "      <th></th>\n",
       "      <th>PassengerId</th>\n",
       "      <th>Survived</th>\n",
       "      <th>Pclass</th>\n",
       "      <th>Name</th>\n",
       "      <th>Sex</th>\n",
       "      <th>Age</th>\n",
       "      <th>SibSp</th>\n",
       "      <th>Parch</th>\n",
       "      <th>Ticket</th>\n",
       "      <th>Fare</th>\n",
       "      <th>Cabin</th>\n",
       "      <th>Embarked</th>\n",
       "      <th>Age_Group</th>\n",
       "      <th>Cabin_Flag</th>\n",
       "      <th>Title</th>\n",
       "      <th>Family_Size</th>\n",
       "      <th>Family_Group</th>\n",
       "    </tr>\n",
       "  </thead>\n",
       "  <tbody>\n",
       "    <tr>\n",
       "      <th>0</th>\n",
       "      <td>1</td>\n",
       "      <td>0</td>\n",
       "      <td>3</td>\n",
       "      <td>Braund, Mr. Owen Harris</td>\n",
       "      <td>0</td>\n",
       "      <td>22.0</td>\n",
       "      <td>1</td>\n",
       "      <td>0</td>\n",
       "      <td>A/5 21171</td>\n",
       "      <td>7.2500</td>\n",
       "      <td>NaN</td>\n",
       "      <td>0</td>\n",
       "      <td>5</td>\n",
       "      <td>0</td>\n",
       "      <td>1</td>\n",
       "      <td>2</td>\n",
       "      <td>1</td>\n",
       "    </tr>\n",
       "    <tr>\n",
       "      <th>1</th>\n",
       "      <td>2</td>\n",
       "      <td>1</td>\n",
       "      <td>1</td>\n",
       "      <td>Cumings, Mrs. John Bradley (Florence Briggs Th...</td>\n",
       "      <td>1</td>\n",
       "      <td>38.0</td>\n",
       "      <td>1</td>\n",
       "      <td>0</td>\n",
       "      <td>PC 17599</td>\n",
       "      <td>71.2833</td>\n",
       "      <td>C85</td>\n",
       "      <td>1</td>\n",
       "      <td>5</td>\n",
       "      <td>1</td>\n",
       "      <td>3</td>\n",
       "      <td>2</td>\n",
       "      <td>1</td>\n",
       "    </tr>\n",
       "  </tbody>\n",
       "</table>\n",
       "</div>"
      ],
      "text/plain": [
       "   PassengerId  Survived  Pclass  \\\n",
       "0            1         0       3   \n",
       "1            2         1       1   \n",
       "\n",
       "                                                Name  Sex   Age  SibSp  Parch  \\\n",
       "0                            Braund, Mr. Owen Harris    0  22.0      1      0   \n",
       "1  Cumings, Mrs. John Bradley (Florence Briggs Th...    1  38.0      1      0   \n",
       "\n",
       "      Ticket     Fare Cabin  Embarked  Age_Group  Cabin_Flag  Title  \\\n",
       "0  A/5 21171   7.2500   NaN         0          5           0      1   \n",
       "1   PC 17599  71.2833   C85         1          5           1      3   \n",
       "\n",
       "   Family_Size  Family_Group  \n",
       "0            2             1  \n",
       "1            2             1  "
      ]
     },
     "execution_count": 86,
     "metadata": {},
     "output_type": "execute_result"
    }
   ],
   "source": [
    "train.head(2)"
   ]
  },
  {
   "cell_type": "markdown",
   "id": "b5f2294e-e69e-4723-8dad-7df96eeda811",
   "metadata": {},
   "source": [
    "## Features Selection\n",
    "\n",
    "---\n",
    "\n",
    "🧩 Common Features in the Titanic Dataset\n",
    "These are the original or engineered features often considered:\n",
    "\n",
    "| Feature         | Description                                      | Type         |\n",
    "|----------------|--------------------------------------------------|--------------|\n",
    "| `Pclass`        | Passenger class (1st, 2nd, 3rd)                  | Ordinal      |\n",
    "| `Sex`           | Gender                                           | Categorical  |\n",
    "| `Age`           | Age in years                                     | Numerical    |\n",
    "| `SibSp`         | # of siblings/spouses aboard                     | Numerical    |\n",
    "| `Parch`         | # of parents/children aboard                     | Numerical    |\n",
    "| `Fare`          | Ticket fare                                      | Numerical    |\n",
    "| `Embarked`      | Port of embarkation (C, Q, S)                    | Categorical  |\n",
    "| `Cabin`         | Cabin number (often missing)                     | Categorical  |\n",
    "| `Title`         | Extracted from Name (e.g., Mr, Miss, Dr)         | Categorical  |\n",
    "| `Age_Group`     | Binned age categories                            | Categorical  |\n",
    "| `FamilySize`    | SibSp + Parch + 1                                | Numerical    |\n",
    "| `IsAlone`       | Binary flag if passenger is alone                | Binary       |\n",
    "| `Cabin_Flag`    | Binary flag for known/missing cabin              | Binary       |\n",
    "\n",
    "---\n",
    "\n",
    "🔍 Feature Selection Techniques\n",
    "Here are some popular methods used to select the most relevant features:\n",
    "\n",
    "1. **Filter Methods**\n",
    "- Use statistical tests like **Chi-Square**, **ANOVA**, or **correlation** to rank features.\n",
    "- Example: `SelectKBest` from `sklearn.feature_selection`.\n",
    "\n",
    "2. **Wrapper Methods**\n",
    "- Use model performance to evaluate subsets of features.\n",
    "- Techniques: **Forward Selection**, **Backward Elimination**, **Recursive Feature Elimination (RFE)**.\n",
    "\n",
    "3. **Embedded Methods**\n",
    "- Feature selection is built into the model.\n",
    "- Examples:\n",
    "  - **Lasso Regression** (L1 regularization)\n",
    "  - **Tree-based models** (e.g., Random Forest, XGBoost) using `.feature_importances_`\n",
    "\n",
    "---\n",
    "\n",
    "🌟 Commonly Selected Features for Titanic\n",
    "Based on various Kaggle notebooks and studies, these features often rank high in importance:\n",
    "- `Pclass`\n",
    "- `Sex`\n",
    "- `Fare`\n",
    "- `Title`\n",
    "- `Age` or `Age_Group`\n",
    "- `IsAlone`\n",
    "- `FamilySize`\n",
    "\n",
    "---\n",
    "\n",
    "By [Bing AI](https://copilot.microsoft.com/chats/)"
   ]
  },
  {
   "cell_type": "code",
   "execution_count": 87,
   "id": "f796ee5d-e19b-4244-9cfc-6301c0b358c6",
   "metadata": {},
   "outputs": [
    {
     "data": {
      "text/html": [
       "<div>\n",
       "<style scoped>\n",
       "    .dataframe tbody tr th:only-of-type {\n",
       "        vertical-align: middle;\n",
       "    }\n",
       "\n",
       "    .dataframe tbody tr th {\n",
       "        vertical-align: top;\n",
       "    }\n",
       "\n",
       "    .dataframe thead th {\n",
       "        text-align: right;\n",
       "    }\n",
       "</style>\n",
       "<table border=\"1\" class=\"dataframe\">\n",
       "  <thead>\n",
       "    <tr style=\"text-align: right;\">\n",
       "      <th></th>\n",
       "      <th>PassengerId</th>\n",
       "      <th>Survived</th>\n",
       "      <th>Pclass</th>\n",
       "      <th>Name</th>\n",
       "      <th>Sex</th>\n",
       "      <th>Age</th>\n",
       "      <th>SibSp</th>\n",
       "      <th>Parch</th>\n",
       "      <th>Ticket</th>\n",
       "      <th>Fare</th>\n",
       "      <th>Cabin</th>\n",
       "      <th>Embarked</th>\n",
       "      <th>Age_Group</th>\n",
       "      <th>Cabin_Flag</th>\n",
       "      <th>Title</th>\n",
       "      <th>Family_Size</th>\n",
       "      <th>Family_Group</th>\n",
       "    </tr>\n",
       "  </thead>\n",
       "  <tbody>\n",
       "    <tr>\n",
       "      <th>592</th>\n",
       "      <td>593</td>\n",
       "      <td>0</td>\n",
       "      <td>3</td>\n",
       "      <td>Elsbury, Mr. William James</td>\n",
       "      <td>0</td>\n",
       "      <td>47.0</td>\n",
       "      <td>0</td>\n",
       "      <td>0</td>\n",
       "      <td>A/5 3902</td>\n",
       "      <td>7.25</td>\n",
       "      <td>NaN</td>\n",
       "      <td>0</td>\n",
       "      <td>6</td>\n",
       "      <td>0</td>\n",
       "      <td>1</td>\n",
       "      <td>1</td>\n",
       "      <td>0</td>\n",
       "    </tr>\n",
       "    <tr>\n",
       "      <th>284</th>\n",
       "      <td>285</td>\n",
       "      <td>0</td>\n",
       "      <td>1</td>\n",
       "      <td>Smith, Mr. Richard William</td>\n",
       "      <td>0</td>\n",
       "      <td>NaN</td>\n",
       "      <td>0</td>\n",
       "      <td>0</td>\n",
       "      <td>113056</td>\n",
       "      <td>26.00</td>\n",
       "      <td>A19</td>\n",
       "      <td>0</td>\n",
       "      <td>5</td>\n",
       "      <td>1</td>\n",
       "      <td>1</td>\n",
       "      <td>1</td>\n",
       "      <td>0</td>\n",
       "    </tr>\n",
       "  </tbody>\n",
       "</table>\n",
       "</div>"
      ],
      "text/plain": [
       "     PassengerId  Survived  Pclass                        Name  Sex   Age  \\\n",
       "592          593         0       3  Elsbury, Mr. William James    0  47.0   \n",
       "284          285         0       1  Smith, Mr. Richard William    0   NaN   \n",
       "\n",
       "     SibSp  Parch    Ticket   Fare Cabin  Embarked  Age_Group  Cabin_Flag  \\\n",
       "592      0      0  A/5 3902   7.25   NaN         0          6           0   \n",
       "284      0      0    113056  26.00   A19         0          5           1   \n",
       "\n",
       "     Title  Family_Size  Family_Group  \n",
       "592      1            1             0  \n",
       "284      1            1             0  "
      ]
     },
     "execution_count": 87,
     "metadata": {},
     "output_type": "execute_result"
    }
   ],
   "source": [
    "train.sample(2)"
   ]
  },
  {
   "cell_type": "code",
   "execution_count": 88,
   "id": "840e7a4c-a5ab-46dc-8710-2dc980e67c55",
   "metadata": {},
   "outputs": [
    {
     "data": {
      "text/plain": [
       "Index(['PassengerId', 'Pclass', 'Name', 'Sex', 'Age', 'SibSp', 'Parch',\n",
       "       'Ticket', 'Fare', 'Cabin', 'Embarked', 'Age_Group', 'Cabin_Flag',\n",
       "       'Title', 'Family_Size', 'Family_Group'],\n",
       "      dtype='object')"
      ]
     },
     "execution_count": 88,
     "metadata": {},
     "output_type": "execute_result"
    }
   ],
   "source": [
    "test.columns"
   ]
  },
  {
   "cell_type": "markdown",
   "id": "e34f676d-7b33-4e5c-8f11-b6b00d19b235",
   "metadata": {},
   "source": [
    "### Drop Columns"
   ]
  },
  {
   "cell_type": "code",
   "execution_count": 89,
   "id": "1fc55b2c-b27e-4e73-b112-0a5954c7331d",
   "metadata": {},
   "outputs": [],
   "source": [
    "drop_col = ['PassengerId', 'Name', 'Age', 'SibSp', 'Parch', 'Ticket', 'Cabin', 'Title', 'Family_Size']\n",
    "train.drop(drop_col, axis=1, inplace=True)\n",
    "test.drop(drop_col, axis=1, inplace=True)"
   ]
  },
  {
   "cell_type": "code",
   "execution_count": 90,
   "id": "63cf9688-7462-47c3-aaf8-78a3fb67d293",
   "metadata": {},
   "outputs": [
    {
     "data": {
      "text/html": [
       "<div>\n",
       "<style scoped>\n",
       "    .dataframe tbody tr th:only-of-type {\n",
       "        vertical-align: middle;\n",
       "    }\n",
       "\n",
       "    .dataframe tbody tr th {\n",
       "        vertical-align: top;\n",
       "    }\n",
       "\n",
       "    .dataframe thead th {\n",
       "        text-align: right;\n",
       "    }\n",
       "</style>\n",
       "<table border=\"1\" class=\"dataframe\">\n",
       "  <thead>\n",
       "    <tr style=\"text-align: right;\">\n",
       "      <th></th>\n",
       "      <th>Survived</th>\n",
       "      <th>Pclass</th>\n",
       "      <th>Sex</th>\n",
       "      <th>Fare</th>\n",
       "      <th>Embarked</th>\n",
       "      <th>Age_Group</th>\n",
       "      <th>Cabin_Flag</th>\n",
       "      <th>Family_Group</th>\n",
       "    </tr>\n",
       "  </thead>\n",
       "  <tbody>\n",
       "    <tr>\n",
       "      <th>0</th>\n",
       "      <td>0</td>\n",
       "      <td>3</td>\n",
       "      <td>0</td>\n",
       "      <td>7.2500</td>\n",
       "      <td>0</td>\n",
       "      <td>5</td>\n",
       "      <td>0</td>\n",
       "      <td>1</td>\n",
       "    </tr>\n",
       "    <tr>\n",
       "      <th>1</th>\n",
       "      <td>1</td>\n",
       "      <td>1</td>\n",
       "      <td>1</td>\n",
       "      <td>71.2833</td>\n",
       "      <td>1</td>\n",
       "      <td>5</td>\n",
       "      <td>1</td>\n",
       "      <td>1</td>\n",
       "    </tr>\n",
       "    <tr>\n",
       "      <th>2</th>\n",
       "      <td>1</td>\n",
       "      <td>3</td>\n",
       "      <td>1</td>\n",
       "      <td>7.9250</td>\n",
       "      <td>0</td>\n",
       "      <td>5</td>\n",
       "      <td>0</td>\n",
       "      <td>0</td>\n",
       "    </tr>\n",
       "    <tr>\n",
       "      <th>3</th>\n",
       "      <td>1</td>\n",
       "      <td>1</td>\n",
       "      <td>1</td>\n",
       "      <td>53.1000</td>\n",
       "      <td>0</td>\n",
       "      <td>5</td>\n",
       "      <td>1</td>\n",
       "      <td>1</td>\n",
       "    </tr>\n",
       "    <tr>\n",
       "      <th>4</th>\n",
       "      <td>0</td>\n",
       "      <td>3</td>\n",
       "      <td>0</td>\n",
       "      <td>8.0500</td>\n",
       "      <td>0</td>\n",
       "      <td>5</td>\n",
       "      <td>0</td>\n",
       "      <td>0</td>\n",
       "    </tr>\n",
       "  </tbody>\n",
       "</table>\n",
       "</div>"
      ],
      "text/plain": [
       "   Survived  Pclass  Sex     Fare  Embarked  Age_Group  Cabin_Flag  \\\n",
       "0         0       3    0   7.2500         0          5           0   \n",
       "1         1       1    1  71.2833         1          5           1   \n",
       "2         1       3    1   7.9250         0          5           0   \n",
       "3         1       1    1  53.1000         0          5           1   \n",
       "4         0       3    0   8.0500         0          5           0   \n",
       "\n",
       "   Family_Group  \n",
       "0             1  \n",
       "1             1  \n",
       "2             0  \n",
       "3             1  \n",
       "4             0  "
      ]
     },
     "execution_count": 90,
     "metadata": {},
     "output_type": "execute_result"
    }
   ],
   "source": [
    "train.head()"
   ]
  },
  {
   "cell_type": "markdown",
   "id": "e407664e-47d7-4c74-9c77-aa3176630d15",
   "metadata": {},
   "source": [
    "## Handle the Outliers\n",
    "\n",
    "✅ Option A: **Cap (Winsorize) the Outliers**\\\n",
    "✅ Option B: **Log Transformation**\\\n",
    "✅ Option C: **Binning**\n",
    "\n",
    "---\n",
    "🧠 **Bonus Tip**\\\n",
    "If you're using tree-based models (like Random Forest or XGBoost), they’re generally robust to outliers. But for linear models or distance-based algorithms (like KNN), handling outliers is crucial."
   ]
  },
  {
   "cell_type": "code",
   "execution_count": 91,
   "id": "67b009a4-657d-46ec-a380-00c1dc238d17",
   "metadata": {},
   "outputs": [
    {
     "data": {
      "text/plain": [
       "count    418.000000\n",
       "mean      35.561214\n",
       "std       55.856789\n",
       "min        0.000000\n",
       "25%        7.895800\n",
       "50%       14.454200\n",
       "75%       31.471875\n",
       "max      512.329200\n",
       "Name: Fare, dtype: float64"
      ]
     },
     "execution_count": 91,
     "metadata": {},
     "output_type": "execute_result"
    }
   ],
   "source": [
    "dataset['Fare'].describe()"
   ]
  },
  {
   "cell_type": "markdown",
   "id": "d86ea2f5-dacc-49f6-a964-36ddaee5a5c0",
   "metadata": {},
   "source": [
    "### IQR = Q3-Q1"
   ]
  },
  {
   "cell_type": "code",
   "execution_count": 92,
   "id": "3972c0c1-b858-4e15-b98d-bdef225f67f8",
   "metadata": {},
   "outputs": [
    {
     "data": {
      "text/plain": [
       "np.float64(23.576075)"
      ]
     },
     "execution_count": 92,
     "metadata": {},
     "output_type": "execute_result"
    }
   ],
   "source": [
    "Q1 = dataset['Fare'].quantile(0.25)\n",
    "Q3 = dataset['Fare'].quantile(0.75)\n",
    "IQR = Q3-Q1\n",
    "IQR"
   ]
  },
  {
   "cell_type": "markdown",
   "id": "d8d3666f-2a48-4880-9142-4d983480d7d3",
   "metadata": {},
   "source": [
    "### Min-MAX Values"
   ]
  },
  {
   "cell_type": "code",
   "execution_count": 93,
   "id": "f6852f39-0e9a-4ac4-bc59-12401dbf0da0",
   "metadata": {},
   "outputs": [
    {
     "data": {
      "text/plain": [
       "(np.float64(-27.468312499999996), np.float64(66.8359875))"
      ]
     },
     "execution_count": 93,
     "metadata": {},
     "output_type": "execute_result"
    }
   ],
   "source": [
    "min_val = Q1-(1.5*IQR)\n",
    "max_val = Q3+(1.5*IQR)\n",
    "\n",
    "min_val, max_val"
   ]
  },
  {
   "cell_type": "markdown",
   "id": "7c2e9664-eda5-4472-b946-5ffda8ec4f9e",
   "metadata": {},
   "source": [
    "### Barplot"
   ]
  },
  {
   "cell_type": "code",
   "execution_count": 94,
   "id": "86ddb4d4-7842-49c6-a555-33c87ab156af",
   "metadata": {},
   "outputs": [
    {
     "data": {
      "text/plain": [
       "<Axes: ylabel='Fare'>"
      ]
     },
     "execution_count": 94,
     "metadata": {},
     "output_type": "execute_result"
    },
    {
     "data": {
      "image/png": "[encoded data removed]",
      "text/plain": [
       "<Figure size 640x480 with 1 Axes>"
      ]
     },
     "metadata": {},
     "output_type": "display_data"
    }
   ],
   "source": [
    "sns.boxplot(train['Fare'])"
   ]
  },
  {
   "cell_type": "code",
   "execution_count": 95,
   "id": "d29a880f-54a6-4d8b-a55b-3157ad31fb5c",
   "metadata": {},
   "outputs": [
    {
     "data": {
      "text/html": [
       "<div>\n",
       "<style scoped>\n",
       "    .dataframe tbody tr th:only-of-type {\n",
       "        vertical-align: middle;\n",
       "    }\n",
       "\n",
       "    .dataframe tbody tr th {\n",
       "        vertical-align: top;\n",
       "    }\n",
       "\n",
       "    .dataframe thead th {\n",
       "        text-align: right;\n",
       "    }\n",
       "</style>\n",
       "<table border=\"1\" class=\"dataframe\">\n",
       "  <thead>\n",
       "    <tr style=\"text-align: right;\">\n",
       "      <th></th>\n",
       "      <th>Survived</th>\n",
       "      <th>Pclass</th>\n",
       "      <th>Sex</th>\n",
       "      <th>Fare</th>\n",
       "      <th>Embarked</th>\n",
       "      <th>Age_Group</th>\n",
       "      <th>Cabin_Flag</th>\n",
       "      <th>Family_Group</th>\n",
       "    </tr>\n",
       "  </thead>\n",
       "  <tbody>\n",
       "    <tr>\n",
       "      <th>1</th>\n",
       "      <td>1</td>\n",
       "      <td>1</td>\n",
       "      <td>1</td>\n",
       "      <td>71.2833</td>\n",
       "      <td>1</td>\n",
       "      <td>5</td>\n",
       "      <td>1</td>\n",
       "      <td>1</td>\n",
       "    </tr>\n",
       "    <tr>\n",
       "      <th>27</th>\n",
       "      <td>0</td>\n",
       "      <td>1</td>\n",
       "      <td>0</td>\n",
       "      <td>263.0000</td>\n",
       "      <td>0</td>\n",
       "      <td>4</td>\n",
       "      <td>1</td>\n",
       "      <td>2</td>\n",
       "    </tr>\n",
       "    <tr>\n",
       "      <th>31</th>\n",
       "      <td>1</td>\n",
       "      <td>1</td>\n",
       "      <td>1</td>\n",
       "      <td>146.5208</td>\n",
       "      <td>1</td>\n",
       "      <td>5</td>\n",
       "      <td>1</td>\n",
       "      <td>1</td>\n",
       "    </tr>\n",
       "    <tr>\n",
       "      <th>34</th>\n",
       "      <td>0</td>\n",
       "      <td>1</td>\n",
       "      <td>0</td>\n",
       "      <td>82.1708</td>\n",
       "      <td>1</td>\n",
       "      <td>5</td>\n",
       "      <td>0</td>\n",
       "      <td>1</td>\n",
       "    </tr>\n",
       "    <tr>\n",
       "      <th>52</th>\n",
       "      <td>1</td>\n",
       "      <td>1</td>\n",
       "      <td>1</td>\n",
       "      <td>76.7292</td>\n",
       "      <td>1</td>\n",
       "      <td>6</td>\n",
       "      <td>1</td>\n",
       "      <td>1</td>\n",
       "    </tr>\n",
       "    <tr>\n",
       "      <th>...</th>\n",
       "      <td>...</td>\n",
       "      <td>...</td>\n",
       "      <td>...</td>\n",
       "      <td>...</td>\n",
       "      <td>...</td>\n",
       "      <td>...</td>\n",
       "      <td>...</td>\n",
       "      <td>...</td>\n",
       "    </tr>\n",
       "    <tr>\n",
       "      <th>846</th>\n",
       "      <td>0</td>\n",
       "      <td>3</td>\n",
       "      <td>0</td>\n",
       "      <td>69.5500</td>\n",
       "      <td>0</td>\n",
       "      <td>5</td>\n",
       "      <td>0</td>\n",
       "      <td>3</td>\n",
       "    </tr>\n",
       "    <tr>\n",
       "      <th>849</th>\n",
       "      <td>1</td>\n",
       "      <td>1</td>\n",
       "      <td>1</td>\n",
       "      <td>89.1042</td>\n",
       "      <td>1</td>\n",
       "      <td>5</td>\n",
       "      <td>1</td>\n",
       "      <td>1</td>\n",
       "    </tr>\n",
       "    <tr>\n",
       "      <th>856</th>\n",
       "      <td>1</td>\n",
       "      <td>1</td>\n",
       "      <td>1</td>\n",
       "      <td>164.8667</td>\n",
       "      <td>0</td>\n",
       "      <td>6</td>\n",
       "      <td>0</td>\n",
       "      <td>1</td>\n",
       "    </tr>\n",
       "    <tr>\n",
       "      <th>863</th>\n",
       "      <td>0</td>\n",
       "      <td>3</td>\n",
       "      <td>1</td>\n",
       "      <td>69.5500</td>\n",
       "      <td>0</td>\n",
       "      <td>5</td>\n",
       "      <td>0</td>\n",
       "      <td>3</td>\n",
       "    </tr>\n",
       "    <tr>\n",
       "      <th>879</th>\n",
       "      <td>1</td>\n",
       "      <td>1</td>\n",
       "      <td>1</td>\n",
       "      <td>83.1583</td>\n",
       "      <td>1</td>\n",
       "      <td>6</td>\n",
       "      <td>1</td>\n",
       "      <td>1</td>\n",
       "    </tr>\n",
       "  </tbody>\n",
       "</table>\n",
       "<p>114 rows × 8 columns</p>\n",
       "</div>"
      ],
      "text/plain": [
       "     Survived  Pclass  Sex      Fare  Embarked  Age_Group  Cabin_Flag  \\\n",
       "1           1       1    1   71.2833         1          5           1   \n",
       "27          0       1    0  263.0000         0          4           1   \n",
       "31          1       1    1  146.5208         1          5           1   \n",
       "34          0       1    0   82.1708         1          5           0   \n",
       "52          1       1    1   76.7292         1          6           1   \n",
       "..        ...     ...  ...       ...       ...        ...         ...   \n",
       "846         0       3    0   69.5500         0          5           0   \n",
       "849         1       1    1   89.1042         1          5           1   \n",
       "856         1       1    1  164.8667         0          6           0   \n",
       "863         0       3    1   69.5500         0          5           0   \n",
       "879         1       1    1   83.1583         1          6           1   \n",
       "\n",
       "     Family_Group  \n",
       "1               1  \n",
       "27              2  \n",
       "31              1  \n",
       "34              1  \n",
       "52              1  \n",
       "..            ...  \n",
       "846             3  \n",
       "849             1  \n",
       "856             1  \n",
       "863             3  \n",
       "879             1  \n",
       "\n",
       "[114 rows x 8 columns]"
      ]
     },
     "execution_count": 95,
     "metadata": {},
     "output_type": "execute_result"
    }
   ],
   "source": [
    "train[train['Fare'] > max_val]"
   ]
  },
  {
   "cell_type": "code",
   "execution_count": null,
   "id": "350a4b41-a43f-49ef-8fc4-69f4aece4e6f",
   "metadata": {},
   "outputs": [],
   "source": []
  },
  {
   "cell_type": "code",
   "execution_count": null,
   "id": "aad91516-00e8-40b6-86a1-a25e5eb25938",
   "metadata": {},
   "outputs": [],
   "source": []
  },
  {
   "cell_type": "markdown",
   "id": "7ce98747-6065-42ca-8373-be02209c36f0",
   "metadata": {},
   "source": [
    "## Transformation"
   ]
  },
  {
   "cell_type": "code",
   "execution_count": 96,
   "id": "23726308-fad9-4b86-8af6-18363dbaed4c",
   "metadata": {},
   "outputs": [],
   "source": [
    "train['Fare'] = np.log1p(train['Fare'])\n",
    "test['Fare'] = np.log1p(test['Fare'])"
   ]
  },
  {
   "cell_type": "code",
   "execution_count": 97,
   "id": "07aa7dc7-9eec-4d6c-9592-5c4c6727dd9e",
   "metadata": {},
   "outputs": [
    {
     "data": {
      "image/png": "[encoded data removed]",
      "text/plain": [
       "<Figure size 640x480 with 1 Axes>"
      ]
     },
     "metadata": {},
     "output_type": "display_data"
    }
   ],
   "source": [
    "sns.boxplot(train['Fare'])\n",
    "plt.title('Train Dataset Boxplot')\n",
    "plt.show()"
   ]
  },
  {
   "cell_type": "code",
   "execution_count": 98,
   "id": "e71c6775-ccf4-4aea-be43-6888b67789d8",
   "metadata": {},
   "outputs": [
    {
     "data": {
      "image/png": "[encoded data removed]",
      "text/plain": [
       "<Figure size 640x480 with 1 Axes>"
      ]
     },
     "metadata": {},
     "output_type": "display_data"
    }
   ],
   "source": [
    "sns.boxplot(test['Fare'])\n",
    "plt.title('Test Dataset Boxplot')\n",
    "plt.show()"
   ]
  },
  {
   "cell_type": "code",
   "execution_count": 99,
   "id": "af91cfd5-da50-409e-b93f-7a5fff005548",
   "metadata": {},
   "outputs": [
    {
     "data": {
      "text/html": [
       "<div>\n",
       "<style scoped>\n",
       "    .dataframe tbody tr th:only-of-type {\n",
       "        vertical-align: middle;\n",
       "    }\n",
       "\n",
       "    .dataframe tbody tr th {\n",
       "        vertical-align: top;\n",
       "    }\n",
       "\n",
       "    .dataframe thead th {\n",
       "        text-align: right;\n",
       "    }\n",
       "</style>\n",
       "<table border=\"1\" class=\"dataframe\">\n",
       "  <thead>\n",
       "    <tr style=\"text-align: right;\">\n",
       "      <th></th>\n",
       "      <th>Survived</th>\n",
       "      <th>Pclass</th>\n",
       "      <th>Sex</th>\n",
       "      <th>Fare</th>\n",
       "      <th>Embarked</th>\n",
       "      <th>Age_Group</th>\n",
       "      <th>Cabin_Flag</th>\n",
       "      <th>Family_Group</th>\n",
       "    </tr>\n",
       "  </thead>\n",
       "  <tbody>\n",
       "    <tr>\n",
       "      <th>0</th>\n",
       "      <td>0</td>\n",
       "      <td>3</td>\n",
       "      <td>0</td>\n",
       "      <td>2.110213</td>\n",
       "      <td>0</td>\n",
       "      <td>5</td>\n",
       "      <td>0</td>\n",
       "      <td>1</td>\n",
       "    </tr>\n",
       "    <tr>\n",
       "      <th>1</th>\n",
       "      <td>1</td>\n",
       "      <td>1</td>\n",
       "      <td>1</td>\n",
       "      <td>4.280593</td>\n",
       "      <td>1</td>\n",
       "      <td>5</td>\n",
       "      <td>1</td>\n",
       "      <td>1</td>\n",
       "    </tr>\n",
       "    <tr>\n",
       "      <th>2</th>\n",
       "      <td>1</td>\n",
       "      <td>3</td>\n",
       "      <td>1</td>\n",
       "      <td>2.188856</td>\n",
       "      <td>0</td>\n",
       "      <td>5</td>\n",
       "      <td>0</td>\n",
       "      <td>0</td>\n",
       "    </tr>\n",
       "    <tr>\n",
       "      <th>3</th>\n",
       "      <td>1</td>\n",
       "      <td>1</td>\n",
       "      <td>1</td>\n",
       "      <td>3.990834</td>\n",
       "      <td>0</td>\n",
       "      <td>5</td>\n",
       "      <td>1</td>\n",
       "      <td>1</td>\n",
       "    </tr>\n",
       "    <tr>\n",
       "      <th>4</th>\n",
       "      <td>0</td>\n",
       "      <td>3</td>\n",
       "      <td>0</td>\n",
       "      <td>2.202765</td>\n",
       "      <td>0</td>\n",
       "      <td>5</td>\n",
       "      <td>0</td>\n",
       "      <td>0</td>\n",
       "    </tr>\n",
       "  </tbody>\n",
       "</table>\n",
       "</div>"
      ],
      "text/plain": [
       "   Survived  Pclass  Sex      Fare  Embarked  Age_Group  Cabin_Flag  \\\n",
       "0         0       3    0  2.110213         0          5           0   \n",
       "1         1       1    1  4.280593         1          5           1   \n",
       "2         1       3    1  2.188856         0          5           0   \n",
       "3         1       1    1  3.990834         0          5           1   \n",
       "4         0       3    0  2.202765         0          5           0   \n",
       "\n",
       "   Family_Group  \n",
       "0             1  \n",
       "1             1  \n",
       "2             0  \n",
       "3             1  \n",
       "4             0  "
      ]
     },
     "execution_count": 99,
     "metadata": {},
     "output_type": "execute_result"
    }
   ],
   "source": [
    "train.head()"
   ]
  },
  {
   "cell_type": "code",
   "execution_count": 100,
   "id": "3f16b9e1-c799-4760-b3ac-3d4b02d5cdd9",
   "metadata": {},
   "outputs": [
    {
     "data": {
      "text/html": [
       "<div>\n",
       "<style scoped>\n",
       "    .dataframe tbody tr th:only-of-type {\n",
       "        vertical-align: middle;\n",
       "    }\n",
       "\n",
       "    .dataframe tbody tr th {\n",
       "        vertical-align: top;\n",
       "    }\n",
       "\n",
       "    .dataframe thead th {\n",
       "        text-align: right;\n",
       "    }\n",
       "</style>\n",
       "<table border=\"1\" class=\"dataframe\">\n",
       "  <thead>\n",
       "    <tr style=\"text-align: right;\">\n",
       "      <th></th>\n",
       "      <th>Pclass</th>\n",
       "      <th>Sex</th>\n",
       "      <th>Fare</th>\n",
       "      <th>Embarked</th>\n",
       "      <th>Age_Group</th>\n",
       "      <th>Cabin_Flag</th>\n",
       "      <th>Family_Group</th>\n",
       "    </tr>\n",
       "  </thead>\n",
       "  <tbody>\n",
       "    <tr>\n",
       "      <th>0</th>\n",
       "      <td>3</td>\n",
       "      <td>0</td>\n",
       "      <td>2.178064</td>\n",
       "      <td>2</td>\n",
       "      <td>5</td>\n",
       "      <td>0</td>\n",
       "      <td>0</td>\n",
       "    </tr>\n",
       "    <tr>\n",
       "      <th>1</th>\n",
       "      <td>3</td>\n",
       "      <td>1</td>\n",
       "      <td>2.079442</td>\n",
       "      <td>0</td>\n",
       "      <td>6</td>\n",
       "      <td>0</td>\n",
       "      <td>1</td>\n",
       "    </tr>\n",
       "    <tr>\n",
       "      <th>2</th>\n",
       "      <td>2</td>\n",
       "      <td>0</td>\n",
       "      <td>2.369075</td>\n",
       "      <td>2</td>\n",
       "      <td>7</td>\n",
       "      <td>0</td>\n",
       "      <td>0</td>\n",
       "    </tr>\n",
       "    <tr>\n",
       "      <th>3</th>\n",
       "      <td>3</td>\n",
       "      <td>0</td>\n",
       "      <td>2.268252</td>\n",
       "      <td>0</td>\n",
       "      <td>5</td>\n",
       "      <td>0</td>\n",
       "      <td>0</td>\n",
       "    </tr>\n",
       "    <tr>\n",
       "      <th>4</th>\n",
       "      <td>3</td>\n",
       "      <td>1</td>\n",
       "      <td>2.586824</td>\n",
       "      <td>0</td>\n",
       "      <td>5</td>\n",
       "      <td>0</td>\n",
       "      <td>1</td>\n",
       "    </tr>\n",
       "  </tbody>\n",
       "</table>\n",
       "</div>"
      ],
      "text/plain": [
       "   Pclass  Sex      Fare  Embarked  Age_Group  Cabin_Flag  Family_Group\n",
       "0       3    0  2.178064         2          5           0             0\n",
       "1       3    1  2.079442         0          6           0             1\n",
       "2       2    0  2.369075         2          7           0             0\n",
       "3       3    0  2.268252         0          5           0             0\n",
       "4       3    1  2.586824         0          5           0             1"
      ]
     },
     "execution_count": 100,
     "metadata": {},
     "output_type": "execute_result"
    }
   ],
   "source": [
    "test.head()"
   ]
  },
  {
   "cell_type": "markdown",
   "id": "ddad1a4e-eea5-48ee-a332-8a5ad7105dca",
   "metadata": {},
   "source": [
    "[Top](#Contents:)"
   ]
  },
  {
   "cell_type": "markdown",
   "id": "1a8f9f6b-40e7-4bf6-b9b6-2ba554ae1cec",
   "metadata": {},
   "source": [
    "## Imbalance Dataset Check"
   ]
  },
  {
   "cell_type": "code",
   "execution_count": 101,
   "id": "d6bfa4ee-1472-4d23-bbbf-78c6ffccac73",
   "metadata": {},
   "outputs": [
    {
     "data": {
      "text/plain": [
       "Survived\n",
       "0    61.616162\n",
       "1    38.383838\n",
       "Name: proportion, dtype: float64"
      ]
     },
     "execution_count": 101,
     "metadata": {},
     "output_type": "execute_result"
    }
   ],
   "source": [
    "train['Survived'].value_counts(normalize=True)*100\n"
   ]
  },
  {
   "cell_type": "markdown",
   "id": "17f94cf4-aa59-4305-bdfc-f627e498c29f",
   "metadata": {},
   "source": [
    "# Choosing-Model\n",
    "---\n",
    "\n",
    "🧪 **Baseline Models**\n",
    "These are great for quick benchmarks:\n",
    "\n",
    "- **Logistic Regression** – Interpretable and effective for binary classification\n",
    "- **K-Nearest Neighbors (KNN)** – Simple and intuitive, but sensitive to feature scaling\n",
    "- **Naive Bayes** – Fast and works well with categorical features\n",
    "\n",
    "---\n",
    "🌳 **Tree-Based Models**\n",
    "These often perform very well on Titanic:\n",
    "\n",
    "- **Decision Tree** – Easy to visualize and interpret\n",
    "- **Random Forest** – Ensemble of decision trees; reduces overfitting\n",
    "- **Gradient Boosting (e.g., XGBoost, LightGBM, CatBoost)** – Powerful and often top performers in competitions\n",
    "\n",
    "---\n",
    "🧠 **Advanced Models**\n",
    "For deeper experimentation:\n",
    "\n",
    "- **Support Vector Machine (SVM)** – Good for high-dimensional spaces\n",
    "- **Neural Networks (MLPClassifier from scikit-learn or Keras)** – Can capture complex patterns\n",
    "- **Stacking or Voting Classifiers** – Combine multiple models for better performance\n",
    "\n",
    "---\n",
    " 🧰 Bonus Tools\n",
    "- **Feature Selection**: Use `SelectKBest`, `RFE`, or model-based importance\n",
    "- **Hyperparameter Tuning**: Try `GridSearchCV` or `RandomizedSearchCV` to optimize performance\n",
    "\n",
    "---\n",
    "\n",
    "By [Bing AI](https://copilot.microsoft.com/chats/)"
   ]
  },
  {
   "cell_type": "markdown",
   "id": "b42411b6-694c-4bb6-8992-48a2434f554b",
   "metadata": {},
   "source": [
    "## Train Test Split"
   ]
  },
  {
   "cell_type": "code",
   "execution_count": 102,
   "id": "c221fb92-e408-4c30-b10f-d8d894ea43e0",
   "metadata": {},
   "outputs": [],
   "source": [
    "X = train.drop(['Survived'], axis=1)\n",
    "y = train['Survived']"
   ]
  },
  {
   "cell_type": "code",
   "execution_count": 103,
   "id": "64dc43f1-eccd-488f-9be1-6ef9e6b4413c",
   "metadata": {},
   "outputs": [],
   "source": [
    "X_train, X_test, y_train, y_test = train_test_split(X, y, test_size=0.2, random_state=42)"
   ]
  },
  {
   "cell_type": "code",
   "execution_count": 104,
   "id": "979d7d63-6b0c-4e01-925f-5b62d2ec2f66",
   "metadata": {},
   "outputs": [
    {
     "data": {
      "text/plain": [
       "((712, 7), (712,))"
      ]
     },
     "execution_count": 104,
     "metadata": {},
     "output_type": "execute_result"
    }
   ],
   "source": [
    "X_train.shape, y_train.shape"
   ]
  },
  {
   "cell_type": "markdown",
   "id": "0f9e9fa2-941b-49f9-a6ce-a84a1708177f",
   "metadata": {},
   "source": [
    "## ROC-AUC"
   ]
  },
  {
   "cell_type": "code",
   "execution_count": 105,
   "id": "0b3b17e1-71c3-42e0-91a2-c7f29dbd4022",
   "metadata": {},
   "outputs": [],
   "source": [
    "def plot_roc_auc(model, X_test, y_test):\n",
    "    y_proba = model.predict_proba(X_test)[:, 1]\n",
    "    auc_score = roc_auc_score(y_test, y_proba)\n",
    "    print(\"ROC AUC Score:\", auc_score)\n",
    "\n",
    "    # Plotting the ROC curve\n",
    "    fpr, tpr, _ = roc_curve(y_test, y_proba)\n",
    "    plt.figure()\n",
    "    plt.plot(fpr, tpr, color='darkorange', lw=2, label=f'ROC curve (AUC = {auc_score:.2f})')\n",
    "    plt.plot([0, 1], [0, 1], color='navy', lw=2, linestyle='--')  # Diagonal line\n",
    "    plt.xlim([0.0, 1.0])\n",
    "    plt.ylim([0.0, 1.05])\n",
    "    plt.xlabel('False Positive Rate')\n",
    "    plt.ylabel('True Positive Rate')\n",
    "    plt.title('Receiver Operating Characteristic (ROC)')\n",
    "    plt.legend(loc=\"lower right\")\n",
    "    plt.grid(True)\n",
    "    plt.show()\n"
   ]
  },
  {
   "cell_type": "markdown",
   "id": "f2d58040-e112-4abf-a0bb-094bcc87a373",
   "metadata": {},
   "source": [
    "## Logistic Regression"
   ]
  },
  {
   "cell_type": "code",
   "execution_count": 106,
   "id": "b8ccb4f5-6c0f-4db4-8deb-aab7b4f62b09",
   "metadata": {},
   "outputs": [
    {
     "data": {
      "text/plain": [
       "0.8212290502793296"
      ]
     },
     "execution_count": 106,
     "metadata": {},
     "output_type": "execute_result"
    }
   ],
   "source": [
    "model1 = LogisticRegression(\n",
    "    max_iter = 1000,\n",
    "    # class_weight='balanced'\n",
    ")\n",
    "\n",
    "model1.fit(X_train, y_train)\n",
    "model1_pred = model1.predict(X_test)\n",
    "accuracy_score(y_test, model1_pred)"
   ]
  },
  {
   "cell_type": "markdown",
   "id": "70d91a93-5265-4045-aca0-5d83437b7b65",
   "metadata": {},
   "source": [
    "### Confusion Matrix"
   ]
  },
  {
   "cell_type": "code",
   "execution_count": 107,
   "id": "dd9dd7c1-3f78-4a13-a007-26e287027bce",
   "metadata": {},
   "outputs": [
    {
     "data": {
      "image/png": "[encoded data removed]",
      "text/plain": [
       "<Figure size 640x480 with 2 Axes>"
      ]
     },
     "metadata": {},
     "output_type": "display_data"
    }
   ],
   "source": [
    "ConfusionMatrixDisplay.from_predictions(y_test, model1_pred)\n",
    "plt.title(\"Confusion Matrix - Logistic Regression\")\n",
    "plt.show()\n"
   ]
  },
  {
   "cell_type": "markdown",
   "id": "8b0cec84-be8e-49d5-a702-0bffece58101",
   "metadata": {},
   "source": [
    "### Classification Report"
   ]
  },
  {
   "cell_type": "code",
   "execution_count": 108,
   "id": "b112eebf-47c5-4fb7-bed8-4544937397d1",
   "metadata": {},
   "outputs": [
    {
     "name": "stdout",
     "output_type": "stream",
     "text": [
      "Classification Report:\n",
      "              precision    recall  f1-score   support\n",
      "\n",
      "           0       0.84      0.86      0.85       105\n",
      "           1       0.79      0.77      0.78        74\n",
      "\n",
      "    accuracy                           0.82       179\n",
      "   macro avg       0.82      0.81      0.81       179\n",
      "weighted avg       0.82      0.82      0.82       179\n",
      "\n"
     ]
    }
   ],
   "source": [
    "# Print classification report\n",
    "print(\"Classification Report:\")\n",
    "print(classification_report(y_test, model1_pred))"
   ]
  },
  {
   "cell_type": "markdown",
   "id": "7a778a5d-b565-4d49-9875-55537ccee0ba",
   "metadata": {},
   "source": [
    "### ROC AUC Score"
   ]
  },
  {
   "cell_type": "code",
   "execution_count": 109,
   "id": "e1602e6f-4ffa-4b25-b674-305b1b092e61",
   "metadata": {},
   "outputs": [
    {
     "name": "stdout",
     "output_type": "stream",
     "text": [
      "ROC AUC Score: 0.9008365508365509\n"
     ]
    },
    {
     "data": {
      "image/png": "[encoded data removed]",
      "text/plain": [
       "<Figure size 640x480 with 1 Axes>"
      ]
     },
     "metadata": {},
     "output_type": "display_data"
    }
   ],
   "source": [
    "# Print ROC AUC Score\n",
    "plot_roc_auc(model1, X_test, y_test)"
   ]
  },
  {
   "cell_type": "markdown",
   "id": "f9d6fb38-9967-4974-bac8-929c97c8a780",
   "metadata": {},
   "source": [
    "## K-Nearest Neighbors (KNN)"
   ]
  },
  {
   "cell_type": "code",
   "execution_count": 110,
   "id": "89377f20-d8fa-4c45-ae2d-0eacbdd267f1",
   "metadata": {},
   "outputs": [
    {
     "data": {
      "text/plain": [
       "0.8044692737430168"
      ]
     },
     "execution_count": 110,
     "metadata": {},
     "output_type": "execute_result"
    }
   ],
   "source": [
    "model2 = KNeighborsClassifier()\n",
    "model2.fit(X_train, y_train)\n",
    "model2_pred = model2.predict(X_test)\n",
    "accuracy_score(y_test, model2_pred)"
   ]
  },
  {
   "cell_type": "markdown",
   "id": "b6a3e0c6-2ba4-4805-982b-b998cf6e4b62",
   "metadata": {},
   "source": [
    "### Confusion Matrix"
   ]
  },
  {
   "cell_type": "code",
   "execution_count": 111,
   "id": "2d441024-ad23-4fef-8592-96448d1c6cca",
   "metadata": {},
   "outputs": [
    {
     "data": {
      "image/png": "[encoded data removed]",
      "text/plain": [
       "<Figure size 640x480 with 2 Axes>"
      ]
     },
     "metadata": {},
     "output_type": "display_data"
    }
   ],
   "source": [
    "ConfusionMatrixDisplay.from_predictions(y_test, model2_pred)\n",
    "plt.title(\"Confusion Matrix - KNN\")\n",
    "plt.show()"
   ]
  },
  {
   "cell_type": "markdown",
   "id": "7062c139-34a1-4072-a7c8-9bb1e6b7a453",
   "metadata": {},
   "source": [
    "### Classification Report"
   ]
  },
  {
   "cell_type": "code",
   "execution_count": 112,
   "id": "d75f747e-2d9d-4c98-a483-00a36a5ace53",
   "metadata": {},
   "outputs": [
    {
     "name": "stdout",
     "output_type": "stream",
     "text": [
      "Classification Report:\n",
      "              precision    recall  f1-score   support\n",
      "\n",
      "           0       0.84      0.83      0.83       105\n",
      "           1       0.76      0.77      0.77        74\n",
      "\n",
      "    accuracy                           0.80       179\n",
      "   macro avg       0.80      0.80      0.80       179\n",
      "weighted avg       0.80      0.80      0.80       179\n",
      "\n"
     ]
    }
   ],
   "source": [
    "# Print classification report\n",
    "print(\"Classification Report:\")\n",
    "print(classification_report(y_test, model2_pred))"
   ]
  },
  {
   "cell_type": "markdown",
   "id": "25adf320-4e31-4412-8936-55bc5952465d",
   "metadata": {},
   "source": [
    "### ROC AUC Score"
   ]
  },
  {
   "cell_type": "code",
   "execution_count": 113,
   "id": "ac29c327-32e0-47f2-99d7-61fa70a3a0db",
   "metadata": {},
   "outputs": [
    {
     "name": "stdout",
     "output_type": "stream",
     "text": [
      "ROC AUC Score: 0.8472972972972974\n"
     ]
    },
    {
     "data": {
      "image/png": "[encoded data removed]",
      "text/plain": [
       "<Figure size 640x480 with 1 Axes>"
      ]
     },
     "metadata": {},
     "output_type": "display_data"
    }
   ],
   "source": [
    "plot_roc_auc(model2, X_test, y_test)"
   ]
  },
  {
   "cell_type": "markdown",
   "id": "d7ce954c-628f-4547-a859-8ef80ae9f818",
   "metadata": {},
   "source": [
    "## Naive Bayes"
   ]
  },
  {
   "cell_type": "code",
   "execution_count": 114,
   "id": "40ef053e-4923-4856-8726-6e739dfc8eb3",
   "metadata": {},
   "outputs": [
    {
     "data": {
      "text/plain": [
       "0.776536312849162"
      ]
     },
     "execution_count": 114,
     "metadata": {},
     "output_type": "execute_result"
    }
   ],
   "source": [
    "model3 = GaussianNB()\n",
    "model3.fit(X_train, y_train)\n",
    "model3_pred = model3.predict(X_test)\n",
    "accuracy_score(y_test, model3_pred)"
   ]
  },
  {
   "cell_type": "markdown",
   "id": "0ae922a7-4486-400c-89f7-9f747ba013af",
   "metadata": {},
   "source": [
    "### Confusion Matrix"
   ]
  },
  {
   "cell_type": "code",
   "execution_count": 115,
   "id": "52d37d33-3754-4300-afa4-2d096ea7fb04",
   "metadata": {},
   "outputs": [
    {
     "data": {
      "image/png": "[encoded data removed]",
      "text/plain": [
       "<Figure size 640x480 with 2 Axes>"
      ]
     },
     "metadata": {},
     "output_type": "display_data"
    }
   ],
   "source": [
    "ConfusionMatrixDisplay.from_predictions(y_test, model3_pred)\n",
    "plt.title(\"Confusion Matrix - Naive Bayes\")\n",
    "plt.show()"
   ]
  },
  {
   "cell_type": "markdown",
   "id": "48c662ed-45a2-4660-a8b5-8584ee41f135",
   "metadata": {},
   "source": [
    "### Classification Report"
   ]
  },
  {
   "cell_type": "code",
   "execution_count": 116,
   "id": "05960d8b-a28f-4a8b-a75a-a14db7f112d6",
   "metadata": {},
   "outputs": [
    {
     "name": "stdout",
     "output_type": "stream",
     "text": [
      "Classification Report:\n",
      "              precision    recall  f1-score   support\n",
      "\n",
      "           0       0.86      0.74      0.80       105\n",
      "           1       0.69      0.82      0.75        74\n",
      "\n",
      "    accuracy                           0.78       179\n",
      "   macro avg       0.78      0.78      0.77       179\n",
      "weighted avg       0.79      0.78      0.78       179\n",
      "\n"
     ]
    }
   ],
   "source": [
    "print(\"Classification Report:\")\n",
    "print(classification_report(y_test, model3_pred))"
   ]
  },
  {
   "cell_type": "markdown",
   "id": "0279027d-7304-4a3d-b3de-8b60de3d4cd6",
   "metadata": {},
   "source": [
    "### ROC-AUC Score"
   ]
  },
  {
   "cell_type": "code",
   "execution_count": 117,
   "id": "12b6c8c3-1aac-4890-b56d-f62459e526f7",
   "metadata": {},
   "outputs": [
    {
     "name": "stdout",
     "output_type": "stream",
     "text": [
      "ROC AUC Score: 0.8617117117117117\n"
     ]
    },
    {
     "data": {
      "image/png": "[encoded data removed]",
      "text/plain": [
       "<Figure size 640x480 with 1 Axes>"
      ]
     },
     "metadata": {},
     "output_type": "display_data"
    }
   ],
   "source": [
    "plot_roc_auc(model3, X_test, y_test)"
   ]
  },
  {
   "cell_type": "markdown",
   "id": "a357080a-c447-4f77-a316-0b7c2e590073",
   "metadata": {},
   "source": [
    "## Decision Tree"
   ]
  },
  {
   "cell_type": "code",
   "execution_count": 118,
   "id": "505a716f-c728-44ac-a4fd-1a782c9096a5",
   "metadata": {},
   "outputs": [
    {
     "data": {
      "text/plain": [
       "0.8268156424581006"
      ]
     },
     "execution_count": 118,
     "metadata": {},
     "output_type": "execute_result"
    }
   ],
   "source": [
    "model4 = DecisionTreeClassifier(\n",
    "    criterion='entropy',\n",
    "    splitter='random',\n",
    "    max_depth=8,\n",
    ")\n",
    "\n",
    "model4.fit(X_train, y_train)\n",
    "model4_pred = model4.predict(X_test)\n",
    "accuracy_score(y_test, model4_pred)"
   ]
  },
  {
   "cell_type": "markdown",
   "id": "6df617bd-8490-446a-9049-d28abda9af96",
   "metadata": {},
   "source": [
    "### Confusion Matrix"
   ]
  },
  {
   "cell_type": "code",
   "execution_count": 119,
   "id": "b8ef06fe-2e19-4c5d-bffa-f7b0fff85438",
   "metadata": {},
   "outputs": [
    {
     "data": {
      "image/png": "[encoded data removed]",
      "text/plain": [
       "<Figure size 640x480 with 2 Axes>"
      ]
     },
     "metadata": {},
     "output_type": "display_data"
    }
   ],
   "source": [
    "ConfusionMatrixDisplay.from_predictions(y_test, model4_pred)\n",
    "plt.title(\"Confusion Matrix - Decision Tree\")\n",
    "plt.show()"
   ]
  },
  {
   "cell_type": "markdown",
   "id": "cf672873-7b52-40ef-bccd-331bc8ee4290",
   "metadata": {},
   "source": [
    "### Classification Report"
   ]
  },
  {
   "cell_type": "code",
   "execution_count": 120,
   "id": "044bf890-5fae-4cd7-86e7-ca792b8c76be",
   "metadata": {},
   "outputs": [
    {
     "name": "stdout",
     "output_type": "stream",
     "text": [
      "Classification Report:\n",
      "              precision    recall  f1-score   support\n",
      "\n",
      "           0       0.81      0.91      0.86       105\n",
      "           1       0.85      0.70      0.77        74\n",
      "\n",
      "    accuracy                           0.83       179\n",
      "   macro avg       0.83      0.81      0.82       179\n",
      "weighted avg       0.83      0.83      0.82       179\n",
      "\n"
     ]
    }
   ],
   "source": [
    "print(\"Classification Report:\")\n",
    "print(classification_report(y_test, model4_pred))"
   ]
  },
  {
   "cell_type": "markdown",
   "id": "355585ca-d624-4d4a-bb1b-e0bd32401350",
   "metadata": {},
   "source": [
    "### ROC-AUC Score"
   ]
  },
  {
   "cell_type": "code",
   "execution_count": 121,
   "id": "97422578-3f47-4928-a73f-5365204e0437",
   "metadata": {},
   "outputs": [
    {
     "name": "stdout",
     "output_type": "stream",
     "text": [
      "ROC AUC Score: 0.8851351351351352\n"
     ]
    },
    {
     "data": {
      "image/png": "[encoded data removed]",
      "text/plain": [
       "<Figure size 640x480 with 1 Axes>"
      ]
     },
     "metadata": {},
     "output_type": "display_data"
    }
   ],
   "source": [
    "plot_roc_auc(model4, X_test, y_test)"
   ]
  },
  {
   "cell_type": "markdown",
   "id": "65c65528-378e-49b0-96a2-daf2ebe38a7b",
   "metadata": {},
   "source": [
    "## Random Forest"
   ]
  },
  {
   "cell_type": "code",
   "execution_count": 122,
   "id": "837ad21d-254b-4c75-833e-c93946bf60bb",
   "metadata": {},
   "outputs": [
    {
     "data": {
      "text/plain": [
       "0.8379888268156425"
      ]
     },
     "execution_count": 122,
     "metadata": {},
     "output_type": "execute_result"
    }
   ],
   "source": [
    "model5 = RandomForestClassifier(\n",
    "    n_estimators=1000,\n",
    "    criterion='gini',\n",
    "    max_depth=8,\n",
    "    bootstrap=True,\n",
    "    oob_score=False,\n",
    ")\n",
    "\n",
    "model5.fit(X_train, y_train)\n",
    "model5_pred = model5.predict(X_test)\n",
    "accuracy_score(y_test, model5_pred)"
   ]
  },
  {
   "cell_type": "markdown",
   "id": "42ebbc5d-1fc1-4cd5-a5bf-052699d2a240",
   "metadata": {},
   "source": [
    "### Confusion Matrix"
   ]
  },
  {
   "cell_type": "code",
   "execution_count": 123,
   "id": "cb713f74-6094-4864-b0b8-40d00b95b146",
   "metadata": {},
   "outputs": [
    {
     "data": {
      "image/png": "[encoded data removed]",
      "text/plain": [
       "<Figure size 640x480 with 2 Axes>"
      ]
     },
     "metadata": {},
     "output_type": "display_data"
    }
   ],
   "source": [
    "ConfusionMatrixDisplay.from_predictions(y_test, model5_pred)\n",
    "plt.title(\"Confusion Matrix - Random Forest\")\n",
    "plt.show()"
   ]
  },
  {
   "cell_type": "markdown",
   "id": "9757cc9e-50e5-4608-afd3-5a0a92fa15a3",
   "metadata": {},
   "source": [
    "### Classification Report"
   ]
  },
  {
   "cell_type": "code",
   "execution_count": 124,
   "id": "24594172-2f55-4eb2-8fae-13db647218f2",
   "metadata": {},
   "outputs": [
    {
     "name": "stdout",
     "output_type": "stream",
     "text": [
      "Classification Report:\n",
      "              precision    recall  f1-score   support\n",
      "\n",
      "           0       0.85      0.89      0.87       105\n",
      "           1       0.83      0.77      0.80        74\n",
      "\n",
      "    accuracy                           0.84       179\n",
      "   macro avg       0.84      0.83      0.83       179\n",
      "weighted avg       0.84      0.84      0.84       179\n",
      "\n"
     ]
    }
   ],
   "source": [
    "print(\"Classification Report:\")\n",
    "print(classification_report(y_test, model5_pred))"
   ]
  },
  {
   "cell_type": "markdown",
   "id": "63f73b70-276f-4f2a-a211-2f6e572019f8",
   "metadata": {},
   "source": [
    "### ROC-AUC Score"
   ]
  },
  {
   "cell_type": "code",
   "execution_count": 125,
   "id": "d3259ee3-ef80-4333-875b-111d07779b01",
   "metadata": {},
   "outputs": [
    {
     "name": "stdout",
     "output_type": "stream",
     "text": [
      "ROC AUC Score: 0.8976190476190475\n"
     ]
    },
    {
     "data": {
      "image/png": "[encoded data removed]",
      "text/plain": [
       "<Figure size 640x480 with 1 Axes>"
      ]
     },
     "metadata": {},
     "output_type": "display_data"
    }
   ],
   "source": [
    "plot_roc_auc(model5, X_test, y_test)"
   ]
  },
  {
   "cell_type": "markdown",
   "id": "a948e359-8672-4705-addf-2be1fa2b58bf",
   "metadata": {},
   "source": [
    "## Gradient Boosting"
   ]
  },
  {
   "cell_type": "code",
   "execution_count": 126,
   "id": "753ea80e-801a-458d-90f3-9643ba47f59a",
   "metadata": {},
   "outputs": [
    {
     "data": {
      "text/plain": [
       "0.8212290502793296"
      ]
     },
     "execution_count": 126,
     "metadata": {},
     "output_type": "execute_result"
    }
   ],
   "source": [
    "model6 = GradientBoostingClassifier(\n",
    "    # n_estimators=1000, \n",
    "    # subsample=0.75, \n",
    "    criterion='friedman_mse'\n",
    ")\n",
    "\n",
    "model6.fit(X_train, y_train)\n",
    "model6_pred = model6.predict(X_test)\n",
    "accuracy_score(y_test, model6_pred)"
   ]
  },
  {
   "cell_type": "markdown",
   "id": "35e59679-3da6-4167-bdd8-d01a83960e18",
   "metadata": {},
   "source": [
    "### Confusion Matrix"
   ]
  },
  {
   "cell_type": "code",
   "execution_count": 127,
   "id": "65a64583-f454-4168-81e1-125ce7c2827c",
   "metadata": {},
   "outputs": [
    {
     "data": {
      "image/png": "[encoded data removed]",
      "text/plain": [
       "<Figure size 640x480 with 2 Axes>"
      ]
     },
     "metadata": {},
     "output_type": "display_data"
    }
   ],
   "source": [
    "ConfusionMatrixDisplay.from_predictions(y_test, model6_pred)\n",
    "plt.title(\"Confusion Matrix - Gradient Boosting\")\n",
    "plt.show()"
   ]
  },
  {
   "cell_type": "markdown",
   "id": "7c5a9dd8-67fc-41b5-bd92-a65cc621acc7",
   "metadata": {},
   "source": [
    "### Classification Report"
   ]
  },
  {
   "cell_type": "code",
   "execution_count": 128,
   "id": "704cdd42-c27a-4bb1-a844-16c0ddb70a08",
   "metadata": {},
   "outputs": [
    {
     "name": "stdout",
     "output_type": "stream",
     "text": [
      "Classification Report:\n",
      "              precision    recall  f1-score   support\n",
      "\n",
      "           0       0.82      0.89      0.85       105\n",
      "           1       0.82      0.73      0.77        74\n",
      "\n",
      "    accuracy                           0.82       179\n",
      "   macro avg       0.82      0.81      0.81       179\n",
      "weighted avg       0.82      0.82      0.82       179\n",
      "\n"
     ]
    }
   ],
   "source": [
    "print(\"Classification Report:\")\n",
    "print(classification_report(y_test, model6_pred))"
   ]
  },
  {
   "cell_type": "markdown",
   "id": "ba74ef23-7791-44c2-93f0-e4c7c512c721",
   "metadata": {},
   "source": [
    "### ROC-AUC Score"
   ]
  },
  {
   "cell_type": "code",
   "execution_count": 129,
   "id": "0ea42d86-835a-4eca-89d3-60d6016bc88a",
   "metadata": {},
   "outputs": [
    {
     "name": "stdout",
     "output_type": "stream",
     "text": [
      "ROC AUC Score: 0.901930501930502\n"
     ]
    },
    {
     "data": {
      "image/png": "[encoded data removed]",
      "text/plain": [
       "<Figure size 640x480 with 1 Axes>"
      ]
     },
     "metadata": {},
     "output_type": "display_data"
    }
   ],
   "source": [
    "plot_roc_auc(model6, X_test, y_test)"
   ]
  },
  {
   "cell_type": "markdown",
   "id": "6813f936-1cf0-4358-82ff-efaba72b4f6d",
   "metadata": {},
   "source": [
    "## Support Vector Machine"
   ]
  },
  {
   "cell_type": "code",
   "execution_count": 130,
   "id": "eba1820e-563d-4f9c-aaa9-9e865bcb54e7",
   "metadata": {},
   "outputs": [
    {
     "data": {
      "text/plain": [
       "0.8212290502793296"
      ]
     },
     "execution_count": 130,
     "metadata": {},
     "output_type": "execute_result"
    }
   ],
   "source": [
    "model7 = SVC(probability=True)\n",
    "\n",
    "model7.fit(X_train, y_train)\n",
    "model7_pred = model6.predict(X_test)\n",
    "accuracy_score(y_test, model7_pred)"
   ]
  },
  {
   "cell_type": "markdown",
   "id": "a430db6b-71e5-409b-a2dc-2d8f3fbcdd21",
   "metadata": {},
   "source": [
    "### Confusion Matrix"
   ]
  },
  {
   "cell_type": "code",
   "execution_count": 131,
   "id": "1fa4fc94-aaf6-4db0-9447-a8273961d80b",
   "metadata": {},
   "outputs": [
    {
     "data": {
      "image/png": "[encoded data removed]",
      "text/plain": [
       "<Figure size 640x480 with 2 Axes>"
      ]
     },
     "metadata": {},
     "output_type": "display_data"
    }
   ],
   "source": [
    "ConfusionMatrixDisplay.from_predictions(y_test, model7_pred)\n",
    "plt.title(\"Confusion Matrix - Support Vector Machine\")\n",
    "plt.show()"
   ]
  },
  {
   "cell_type": "markdown",
   "id": "2b29d1dc-b447-4038-99d2-04e54f4b6ead",
   "metadata": {},
   "source": [
    "### Classification Report"
   ]
  },
  {
   "cell_type": "code",
   "execution_count": 132,
   "id": "6dcbb395-ed04-4612-a91a-b1328087eb31",
   "metadata": {},
   "outputs": [
    {
     "name": "stdout",
     "output_type": "stream",
     "text": [
      "Classification Report:\n",
      "              precision    recall  f1-score   support\n",
      "\n",
      "           0       0.82      0.89      0.85       105\n",
      "           1       0.82      0.73      0.77        74\n",
      "\n",
      "    accuracy                           0.82       179\n",
      "   macro avg       0.82      0.81      0.81       179\n",
      "weighted avg       0.82      0.82      0.82       179\n",
      "\n"
     ]
    }
   ],
   "source": [
    "print(\"Classification Report:\")\n",
    "print(classification_report(y_test, model7_pred))"
   ]
  },
  {
   "cell_type": "markdown",
   "id": "554a3401-5cd0-424d-939e-27827753e85c",
   "metadata": {},
   "source": [
    "### ROC-AUC Score"
   ]
  },
  {
   "cell_type": "code",
   "execution_count": 133,
   "id": "4742a5b4-0439-4061-9d5f-6432c5f2c85d",
   "metadata": {},
   "outputs": [
    {
     "name": "stdout",
     "output_type": "stream",
     "text": [
      "ROC AUC Score: 0.8906692406692407\n"
     ]
    },
    {
     "data": {
      "image/png": "[encoded data removed]",
      "text/plain": [
       "<Figure size 640x480 with 1 Axes>"
      ]
     },
     "metadata": {},
     "output_type": "display_data"
    }
   ],
   "source": [
    "plot_roc_auc(model7, X_test, y_test)"
   ]
  },
  {
   "cell_type": "markdown",
   "id": "114f8bc5-391c-41bd-b78a-e49da8d8cd56",
   "metadata": {},
   "source": [
    "## Neural Networks - MLPClassifier"
   ]
  },
  {
   "cell_type": "code",
   "execution_count": 134,
   "id": "b2e7e23f-d7eb-4b23-8203-c2ceecc6fd31",
   "metadata": {},
   "outputs": [
    {
     "data": {
      "text/plain": [
       "0.8435754189944135"
      ]
     },
     "execution_count": 134,
     "metadata": {},
     "output_type": "execute_result"
    }
   ],
   "source": [
    "model8 = MLPClassifier(hidden_layer_sizes=(32,64,32), max_iter=1000, random_state=42)\n",
    "model8.fit(X_train, y_train)\n",
    "model8_pred = model8.predict(X_test)\n",
    "accuracy_score(y_test, model8_pred)"
   ]
  },
  {
   "cell_type": "markdown",
   "id": "0cabd6b1-07e4-4429-9286-8ca7f3e4cd17",
   "metadata": {},
   "source": [
    "### Confusion Matrix"
   ]
  },
  {
   "cell_type": "code",
   "execution_count": 135,
   "id": "70c661ce-4508-4c7a-a7e1-5680f290fa34",
   "metadata": {},
   "outputs": [
    {
     "data": {
      "image/png": "[encoded data removed]",
      "text/plain": [
       "<Figure size 640x480 with 2 Axes>"
      ]
     },
     "metadata": {},
     "output_type": "display_data"
    }
   ],
   "source": [
    "ConfusionMatrixDisplay.from_predictions(y_test, model8_pred)\n",
    "plt.title(\"Confusion Matrix - Neural Network\")\n",
    "plt.show()"
   ]
  },
  {
   "cell_type": "markdown",
   "id": "1f6e2a23-e038-4a67-b4f3-5da85881e251",
   "metadata": {},
   "source": [
    "### Classification Report"
   ]
  },
  {
   "cell_type": "code",
   "execution_count": 136,
   "id": "e213cc02-a5ad-4166-bc4b-159afb0c1fe4",
   "metadata": {},
   "outputs": [
    {
     "name": "stdout",
     "output_type": "stream",
     "text": [
      "Classification Report:\n",
      "              precision    recall  f1-score   support\n",
      "\n",
      "           0       0.85      0.89      0.87       105\n",
      "           1       0.83      0.78      0.81        74\n",
      "\n",
      "    accuracy                           0.84       179\n",
      "   macro avg       0.84      0.83      0.84       179\n",
      "weighted avg       0.84      0.84      0.84       179\n",
      "\n"
     ]
    }
   ],
   "source": [
    "print(\"Classification Report:\")\n",
    "print(classification_report(y_test, model8_pred))"
   ]
  },
  {
   "cell_type": "markdown",
   "id": "6133aae7-5a32-48b9-8991-41e1a32051d6",
   "metadata": {},
   "source": [
    "### ROC-AUC Score"
   ]
  },
  {
   "cell_type": "code",
   "execution_count": 137,
   "id": "87be8951-9725-42c6-b50c-ccfcc098028f",
   "metadata": {},
   "outputs": [
    {
     "name": "stdout",
     "output_type": "stream",
     "text": [
      "ROC AUC Score: 0.8978764478764478\n"
     ]
    },
    {
     "data": {
      "image/png": "[encoded data removed]",
      "text/plain": [
       "<Figure size 640x480 with 1 Axes>"
      ]
     },
     "metadata": {},
     "output_type": "display_data"
    }
   ],
   "source": [
    "plot_roc_auc(model8, X_test, y_test)"
   ]
  },
  {
   "cell_type": "markdown",
   "id": "5fb9834c-4aa8-4db0-a310-b66a93fdaa7b",
   "metadata": {},
   "source": [
    "## Stacking"
   ]
  },
  {
   "cell_type": "code",
   "execution_count": 138,
   "id": "502b510c-db33-4242-b784-8577b2583253",
   "metadata": {},
   "outputs": [],
   "source": [
    "clf1 = LogisticRegression()\n",
    "clf2 = DecisionTreeClassifier()\n",
    "clf3 = KNeighborsClassifier()\n",
    "clf4 = RandomForestClassifier()"
   ]
  },
  {
   "cell_type": "code",
   "execution_count": 139,
   "id": "5aa7b259-ad00-4018-9e8a-79872cd13b25",
   "metadata": {},
   "outputs": [],
   "source": [
    "estimators = [('Model1_LR', clf1), ('Model2_DT', clf2), ('Model3_KNN', clf3), ('Model4_RF', clf4)]"
   ]
  },
  {
   "cell_type": "code",
   "execution_count": 140,
   "id": "929570b1-c4fd-425c-b11b-9283f67cf2af",
   "metadata": {},
   "outputs": [
    {
     "data": {
      "text/plain": [
       "0.8603351955307262"
      ]
     },
     "execution_count": 140,
     "metadata": {},
     "output_type": "execute_result"
    }
   ],
   "source": [
    "model9 = StackingClassifier(\n",
    "    estimators = estimators,\n",
    "    final_estimator=clf4,\n",
    "    cv = 5\n",
    ")\n",
    "\n",
    "model9.fit(X_train, y_train)\n",
    "model9_pred = model9.predict(X_test)\n",
    "accuracy_score(y_test, model9_pred)"
   ]
  },
  {
   "cell_type": "markdown",
   "id": "d6927265-b3a2-40dc-846a-41d199c3605f",
   "metadata": {},
   "source": [
    "### Confusion Matrix"
   ]
  },
  {
   "cell_type": "code",
   "execution_count": 141,
   "id": "e75de8d2-d651-4427-99eb-5e4319f69d34",
   "metadata": {},
   "outputs": [
    {
     "data": {
      "image/png": "[encoded data removed]",
      "text/plain": [
       "<Figure size 640x480 with 2 Axes>"
      ]
     },
     "metadata": {},
     "output_type": "display_data"
    }
   ],
   "source": [
    "ConfusionMatrixDisplay.from_predictions(y_test, model9_pred)\n",
    "plt.title(\"Confusion Matrix - Stacking\")\n",
    "plt.show()"
   ]
  },
  {
   "cell_type": "markdown",
   "id": "5730127e-7dc9-4c5e-8a9d-53aab6831247",
   "metadata": {},
   "source": [
    "### Classification Report"
   ]
  },
  {
   "cell_type": "code",
   "execution_count": 142,
   "id": "3dc5673c-287a-47ff-b2ec-71e02f030700",
   "metadata": {},
   "outputs": [
    {
     "name": "stdout",
     "output_type": "stream",
     "text": [
      "Classification Report:\n",
      "              precision    recall  f1-score   support\n",
      "\n",
      "           0       0.89      0.87      0.88       105\n",
      "           1       0.82      0.85      0.83        74\n",
      "\n",
      "    accuracy                           0.86       179\n",
      "   macro avg       0.86      0.86      0.86       179\n",
      "weighted avg       0.86      0.86      0.86       179\n",
      "\n"
     ]
    }
   ],
   "source": [
    "print(\"Classification Report:\")\n",
    "print(classification_report(y_test, model9_pred))"
   ]
  },
  {
   "cell_type": "markdown",
   "id": "f0d4855e-e983-4819-a581-073a15cf5b59",
   "metadata": {},
   "source": [
    "### ROC-AUC Score"
   ]
  },
  {
   "cell_type": "code",
   "execution_count": 143,
   "id": "1f444bf5-c9d5-4a25-9947-51d4e0c997e0",
   "metadata": {},
   "outputs": [
    {
     "name": "stdout",
     "output_type": "stream",
     "text": [
      "ROC AUC Score: 0.8893178893178892\n"
     ]
    },
    {
     "data": {
      "image/png": "[encoded data removed]",
      "text/plain": [
       "<Figure size 640x480 with 1 Axes>"
      ]
     },
     "metadata": {},
     "output_type": "display_data"
    }
   ],
   "source": [
    "plot_roc_auc(model9, X_test, y_test)"
   ]
  },
  {
   "cell_type": "code",
   "execution_count": null,
   "id": "dadaea48-76bd-42dd-b7ff-646d4dda3e9e",
   "metadata": {},
   "outputs": [],
   "source": []
  },
  {
   "cell_type": "markdown",
   "id": "24e0c64a-cf9a-4c9f-828d-f520e5b5c9d6",
   "metadata": {},
   "source": [
    "## Models Selection"
   ]
  },
  {
   "cell_type": "code",
   "execution_count": 147,
   "id": "798b6d5a-0428-46e1-a660-77aa3e2fc56a",
   "metadata": {},
   "outputs": [],
   "source": [
    "model_list = [\n",
    "    accuracy_score(y_test, model1_pred),\n",
    "    accuracy_score(y_test, model2_pred),\n",
    "    accuracy_score(y_test, model3_pred),\n",
    "    accuracy_score(y_test, model4_pred),\n",
    "    accuracy_score(y_test, model5_pred),\n",
    "    accuracy_score(y_test, model6_pred),\n",
    "    accuracy_score(y_test, model7_pred),\n",
    "    accuracy_score(y_test, model8_pred),\n",
    "    accuracy_score(y_test, model9_pred),\n",
    "]"
   ]
  },
  {
   "cell_type": "code",
   "execution_count": 149,
   "id": "f8f53c88-0e3d-4538-848a-bfc4e9fe2616",
   "metadata": {},
   "outputs": [],
   "source": [
    "model_name = [\n",
    "    'Logistic Regression',\n",
    "    'KNN',\n",
    "    'Naive Bayes',\n",
    "    'Decision Tree',\n",
    "    'Random Forest',\n",
    "    'Gradient Boosting',\n",
    "    'SVM',\n",
    "    'Neural Network',\n",
    "    'Stacking'\n",
    "]"
   ]
  },
  {
   "cell_type": "code",
   "execution_count": 165,
   "id": "de4a503a-42e5-4566-821b-4648ca45ed8c",
   "metadata": {},
   "outputs": [],
   "source": [
    "model_var = [\n",
    "    'model1',\n",
    "    'model2',\n",
    "    'model3',\n",
    "    'model4',\n",
    "    'model5',\n",
    "    'model6',\n",
    "    'model7',\n",
    "    'model8',\n",
    "    'model9'\n",
    "]"
   ]
  },
  {
   "cell_type": "code",
   "execution_count": 171,
   "id": "66da6a51-1555-4a76-8c26-aee7776ca775",
   "metadata": {},
   "outputs": [],
   "source": [
    "accuracy_formatted = [round(acc, 4)*100 for acc in model_list]\n",
    "temp = {\n",
    "    'Model' : model_var,\n",
    "    'Name' : model_name,\n",
    "    'Accuracy' : accuracy_formatted\n",
    "}\n",
    "\n",
    "model_df = pd.DataFrame(temp)"
   ]
  },
  {
   "cell_type": "code",
   "execution_count": 172,
   "id": "5b9f1392-84d0-4444-a81f-18a07de05eee",
   "metadata": {},
   "outputs": [
    {
     "data": {
      "text/html": [
       "<div>\n",
       "<style scoped>\n",
       "    .dataframe tbody tr th:only-of-type {\n",
       "        vertical-align: middle;\n",
       "    }\n",
       "\n",
       "    .dataframe tbody tr th {\n",
       "        vertical-align: top;\n",
       "    }\n",
       "\n",
       "    .dataframe thead th {\n",
       "        text-align: right;\n",
       "    }\n",
       "</style>\n",
       "<table border=\"1\" class=\"dataframe\">\n",
       "  <thead>\n",
       "    <tr style=\"text-align: right;\">\n",
       "      <th></th>\n",
       "      <th>Model</th>\n",
       "      <th>Name</th>\n",
       "      <th>Accuracy</th>\n",
       "    </tr>\n",
       "  </thead>\n",
       "  <tbody>\n",
       "    <tr>\n",
       "      <th>0</th>\n",
       "      <td>model1</td>\n",
       "      <td>Logistic Regression</td>\n",
       "      <td>82.12</td>\n",
       "    </tr>\n",
       "    <tr>\n",
       "      <th>1</th>\n",
       "      <td>model2</td>\n",
       "      <td>KNN</td>\n",
       "      <td>80.45</td>\n",
       "    </tr>\n",
       "    <tr>\n",
       "      <th>2</th>\n",
       "      <td>model3</td>\n",
       "      <td>Naive Bayes</td>\n",
       "      <td>77.65</td>\n",
       "    </tr>\n",
       "    <tr>\n",
       "      <th>3</th>\n",
       "      <td>model4</td>\n",
       "      <td>Decision Tree</td>\n",
       "      <td>82.68</td>\n",
       "    </tr>\n",
       "    <tr>\n",
       "      <th>4</th>\n",
       "      <td>model5</td>\n",
       "      <td>Random Forest</td>\n",
       "      <td>83.80</td>\n",
       "    </tr>\n",
       "    <tr>\n",
       "      <th>5</th>\n",
       "      <td>model6</td>\n",
       "      <td>Gradient Boosting</td>\n",
       "      <td>82.12</td>\n",
       "    </tr>\n",
       "    <tr>\n",
       "      <th>6</th>\n",
       "      <td>model7</td>\n",
       "      <td>SVM</td>\n",
       "      <td>82.12</td>\n",
       "    </tr>\n",
       "    <tr>\n",
       "      <th>7</th>\n",
       "      <td>model8</td>\n",
       "      <td>Neural Network</td>\n",
       "      <td>84.36</td>\n",
       "    </tr>\n",
       "    <tr>\n",
       "      <th>8</th>\n",
       "      <td>model9</td>\n",
       "      <td>Stacking</td>\n",
       "      <td>86.03</td>\n",
       "    </tr>\n",
       "  </tbody>\n",
       "</table>\n",
       "</div>"
      ],
      "text/plain": [
       "    Model                 Name  Accuracy\n",
       "0  model1  Logistic Regression     82.12\n",
       "1  model2                  KNN     80.45\n",
       "2  model3          Naive Bayes     77.65\n",
       "3  model4        Decision Tree     82.68\n",
       "4  model5        Random Forest     83.80\n",
       "5  model6    Gradient Boosting     82.12\n",
       "6  model7                  SVM     82.12\n",
       "7  model8       Neural Network     84.36\n",
       "8  model9             Stacking     86.03"
      ]
     },
     "execution_count": 172,
     "metadata": {},
     "output_type": "execute_result"
    }
   ],
   "source": [
    "model_df"
   ]
  },
  {
   "cell_type": "code",
   "execution_count": 173,
   "id": "b3412dc3-036f-4eb4-91cc-0c4d110c20b6",
   "metadata": {},
   "outputs": [
    {
     "data": {
      "text/html": [
       "<div>\n",
       "<style scoped>\n",
       "    .dataframe tbody tr th:only-of-type {\n",
       "        vertical-align: middle;\n",
       "    }\n",
       "\n",
       "    .dataframe tbody tr th {\n",
       "        vertical-align: top;\n",
       "    }\n",
       "\n",
       "    .dataframe thead th {\n",
       "        text-align: right;\n",
       "    }\n",
       "</style>\n",
       "<table border=\"1\" class=\"dataframe\">\n",
       "  <thead>\n",
       "    <tr style=\"text-align: right;\">\n",
       "      <th></th>\n",
       "      <th>Model</th>\n",
       "      <th>Name</th>\n",
       "      <th>Accuracy</th>\n",
       "    </tr>\n",
       "  </thead>\n",
       "  <tbody>\n",
       "    <tr>\n",
       "      <th>8</th>\n",
       "      <td>model9</td>\n",
       "      <td>Stacking</td>\n",
       "      <td>86.03</td>\n",
       "    </tr>\n",
       "    <tr>\n",
       "      <th>7</th>\n",
       "      <td>model8</td>\n",
       "      <td>Neural Network</td>\n",
       "      <td>84.36</td>\n",
       "    </tr>\n",
       "    <tr>\n",
       "      <th>4</th>\n",
       "      <td>model5</td>\n",
       "      <td>Random Forest</td>\n",
       "      <td>83.80</td>\n",
       "    </tr>\n",
       "    <tr>\n",
       "      <th>3</th>\n",
       "      <td>model4</td>\n",
       "      <td>Decision Tree</td>\n",
       "      <td>82.68</td>\n",
       "    </tr>\n",
       "    <tr>\n",
       "      <th>0</th>\n",
       "      <td>model1</td>\n",
       "      <td>Logistic Regression</td>\n",
       "      <td>82.12</td>\n",
       "    </tr>\n",
       "    <tr>\n",
       "      <th>6</th>\n",
       "      <td>model7</td>\n",
       "      <td>SVM</td>\n",
       "      <td>82.12</td>\n",
       "    </tr>\n",
       "    <tr>\n",
       "      <th>5</th>\n",
       "      <td>model6</td>\n",
       "      <td>Gradient Boosting</td>\n",
       "      <td>82.12</td>\n",
       "    </tr>\n",
       "    <tr>\n",
       "      <th>1</th>\n",
       "      <td>model2</td>\n",
       "      <td>KNN</td>\n",
       "      <td>80.45</td>\n",
       "    </tr>\n",
       "    <tr>\n",
       "      <th>2</th>\n",
       "      <td>model3</td>\n",
       "      <td>Naive Bayes</td>\n",
       "      <td>77.65</td>\n",
       "    </tr>\n",
       "  </tbody>\n",
       "</table>\n",
       "</div>"
      ],
      "text/plain": [
       "    Model                 Name  Accuracy\n",
       "8  model9             Stacking     86.03\n",
       "7  model8       Neural Network     84.36\n",
       "4  model5        Random Forest     83.80\n",
       "3  model4        Decision Tree     82.68\n",
       "0  model1  Logistic Regression     82.12\n",
       "6  model7                  SVM     82.12\n",
       "5  model6    Gradient Boosting     82.12\n",
       "1  model2                  KNN     80.45\n",
       "2  model3          Naive Bayes     77.65"
      ]
     },
     "execution_count": 173,
     "metadata": {},
     "output_type": "execute_result"
    }
   ],
   "source": [
    "model_df.sort_values(by='Accuracy', ascending=False)"
   ]
  },
  {
   "cell_type": "markdown",
   "id": "76e9e952-7a0a-44b7-9fd6-959981d452d8",
   "metadata": {},
   "source": [
    "### Observation\n",
    "\n",
    "**Model Performance At A Glance 🚀**\n",
    "\n",
    "**Top Insights ✨**\n",
    "- Stacking (Model 9) leads the pack with an impressive `86.03%` Accuracy and a solid `0.86` F1 Score. It's your most accurate model!\n",
    "- Neural Network (Model 8) is a strong runner-up, hitting `84.36%` Accuracy and `0.84` F1 Score.\n",
    "- Random Forest (Model 5) also shines with `83.80%` Accuracy and `0.84` F1 Score.\n",
    "\n",
    "**What to Consider Next 🤔**\n",
    "- Accuracy isn't everything! Think about Precision, Recall, and F1 Score, especially for imbalanced data.\n",
    "- Simpler models (like Logistic Regression or Decision Trees) are easier to understand, even if slightly less accurate.\n",
    "- Watch out for Overfitting: Gradient Boosting (Model 7) showed a notable gap between training and test accuracy.\n",
    "\n",
    "**In short:** Stacking (Model 9) is my accuracy Champion🏆"
   ]
  },
  {
   "cell_type": "code",
   "execution_count": null,
   "id": "74a113d5-249a-494b-b3b7-9cf977575462",
   "metadata": {},
   "outputs": [],
   "source": []
  },
  {
   "cell_type": "code",
   "execution_count": null,
   "id": "0e96fd89-abcf-4257-90f0-1735ccca71aa",
   "metadata": {},
   "outputs": [],
   "source": []
  },
  {
   "cell_type": "code",
   "execution_count": null,
   "id": "ce5a6b4f-bd72-4916-953a-6a3b42fb6a23",
   "metadata": {},
   "outputs": [],
   "source": []
  },
  {
   "cell_type": "code",
   "execution_count": null,
   "id": "6658e181-43db-4a5f-9076-0ccf0499e6bc",
   "metadata": {},
   "outputs": [],
   "source": []
  },
  {
   "cell_type": "code",
   "execution_count": null,
   "id": "94847523-7829-4a63-bc3f-0af212681b7e",
   "metadata": {},
   "outputs": [],
   "source": []
  },
  {
   "cell_type": "code",
   "execution_count": null,
   "id": "70d49a4b-99c8-46b7-93cd-17865f9cc11d",
   "metadata": {},
   "outputs": [],
   "source": []
  },
  {
   "cell_type": "code",
   "execution_count": null,
   "id": "f19a1490-972b-4d03-bc55-fde163437c4f",
   "metadata": {},
   "outputs": [],
   "source": []
  },
  {
   "cell_type": "markdown",
   "id": "30d99706-b3eb-48d8-8097-9799974acc34",
   "metadata": {},
   "source": [
    "[Top](#Contents:)"
   ]
  },
  {
   "cell_type": "markdown",
   "id": "195a26e1-1e19-4c48-8dec-1632542f1dfd",
   "metadata": {},
   "source": [
    "# Export-Model"
   ]
  },
  {
   "cell_type": "code",
   "execution_count": 178,
   "id": "9ce03a6d-e7b0-4012-b6b0-1996dc0b178b",
   "metadata": {},
   "outputs": [
    {
     "name": "stdout",
     "output_type": "stream",
     "text": [
      "Created folder: saved_models\n",
      "Model successfully saved to: saved_models\\Titanic_Survived_Model.pkl\n"
     ]
    }
   ],
   "source": [
    "# Define the folder and file path\n",
    "output_folder = 'saved_models'\n",
    "model_filename = 'Titanic_Survived_Model.pkl' # .pkl is a common extension for pickled files\n",
    "full_path = os.path.join(output_folder, model_filename)\n",
    "\n",
    "# Create the output folder if it doesn't exist\n",
    "if not os.path.exists(output_folder):\n",
    "    os.makedirs(output_folder)\n",
    "    print(f\"Created folder: {output_folder}\")\n",
    "\n",
    "# Save the model\n",
    "try:\n",
    "    with open(full_path, 'wb') as file: # 'wb' means write in binary mode\n",
    "        pickle.dump(model9, file)\n",
    "    print(f\"Model successfully saved to: {full_path}\")\n",
    "except Exception as e:\n",
    "    print(f\"Error saving model: {e}\")"
   ]
  },
  {
   "cell_type": "code",
   "execution_count": null,
   "id": "e3e5d352-2f0a-4916-9d43-d54a67fbca4a",
   "metadata": {},
   "outputs": [],
   "source": []
  },
  {
   "cell_type": "code",
   "execution_count": null,
   "id": "deefc656-74d2-465b-97db-d6d5150308d2",
   "metadata": {},
   "outputs": [],
   "source": []
  },
  {
   "cell_type": "markdown",
   "id": "a9392cb2-bd37-4f29-8d11-4c49f39b2387",
   "metadata": {},
   "source": [
    "[Top](#Contents:)"
   ]
  },
  {
   "cell_type": "markdown",
   "id": "88ecd2ab-40de-41c1-9111-bf317602e593",
   "metadata": {},
   "source": [
    "# References"
   ]
  },
  {
   "cell_type": "markdown",
   "id": "d1b5258f-715b-42d5-92a0-fa63c7ea43d0",
   "metadata": {},
   "source": [
    "\n",
    "\n",
    "- **Dataset** : \n",
    "https://www.kaggle.com/c/titanic/data?select=train.csv\n",
    "\n",
    "- **Code** : \n",
    "https://www.kaggle.com/code/nadintamer/titanic-survival-predictions-beginner#7)-Creating-Submission-File"
   ]
  },
  {
   "cell_type": "code",
   "execution_count": null,
   "id": "c5dde7ec-4d0a-4487-b19f-da89c11527d2",
   "metadata": {},
   "outputs": [],
   "source": []
  },
  {
   "cell_type": "markdown",
   "id": "cff96b25-30eb-43c1-8508-c4e2d6ffcfb2",
   "metadata": {},
   "source": [
    "[Top](#Contents:)"
   ]
  }
 ],
 "metadata": {
  "kernelspec": {
   "display_name": "venv",
   "language": "python",
   "name": "venv"
  },
  "language_info": {
   "codemirror_mode": {
    "name": "ipython",
    "version": 3
   },
   "file_extension": ".py",
   "mimetype": "text/x-python",
   "name": "python",
   "nbconvert_exporter": "python",
   "pygments_lexer": "ipython3",
   "version": "3.13.2"
  }
 },
 "nbformat": 4,
 "nbformat_minor": 5
}
