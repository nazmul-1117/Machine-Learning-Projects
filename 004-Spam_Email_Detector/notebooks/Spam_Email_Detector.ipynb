{
 "cells": [
  {
   "cell_type": "markdown",
   "id": "b5fd8397-b6af-4e0f-94e9-1e922020d096",
   "metadata": {},
   "source": [
    "<!-- Google Fonts -->\n",
    "<link href=\"https://fonts.googleapis.com/css2?family=Georgia&display=swap\" rel=\"stylesheet\">\n",
    "\n",
    "<div style=\"text-align:center; margin-top:40px;\">\n",
    "  <span style=\"\n",
    "    color:#568203;\n",
    "    font-family:Georgia, serif;\n",
    "    font-size:42px;\n",
    "    font-weight:bold;\n",
    "    text-shadow: 1px 1px 3px #aaa;\n",
    "    letter-spacing: 2px;\">\n",
    "    Spam Email Detector 🗑️\n",
    "  </span>\n",
    "</div>\n",
    "\n",
    "<div style=\"text-align:center; margin-top:40px;\">\n",
    "    <img src=\"../static/assets/images/spam-filter.png\" \n",
    "         style=\"max-width:80%; border-radius:10px; box-shadow: 0 4px 12px rgba(0,0,0,0.3);\">\n",
    "</div>"
   ]
  },
  {
   "cell_type": "markdown",
   "id": "96dcce24-dfd0-493f-bf3f-0462fda114b9",
   "metadata": {},
   "source": [
    "*Emails containing \"scams, overpromising, money, manipulative language causing unnecessary pressure on the recipient\" are a sign of potential spam.*"
   ]
  },
  {
   "cell_type": "markdown",
   "id": "fd919a81-a227-4e9b-ba18-8425efdb7786",
   "metadata": {},
   "source": [
    "---\n",
    "<!-- Google Fonts -->\n",
    "<link href=\"https://fonts.googleapis.com/css2?family=Roboto+Slab:wght@700&display=swap\" rel=\"stylesheet\">\n",
    "\n",
    "# <span style=\"color:transparent;\"> 📚 Table of Contents 🧠 <a name='introduction'></a> </span>\n",
    "\n",
    "<div style=\"\n",
    "    border-radius: 15px; \n",
    "    border: 2px solid #00ced1; \n",
    "    padding: 20px; \n",
    "    /* background: linear-gradient(135deg, #b71c1c, #f57f17 40%, #212121 90%); */\n",
    "    background: linear-gradient(90deg, #00d2ff 0%, #3a47d5 100%);\n",
    "    text-align: center; \n",
    "    box-shadow: 0px 8px 16px rgba(0, 0, 0, 0.25); \n",
    "    font-family: 'Roboto Slab', serif;\n",
    "    margin-top: 30px;\n",
    "\">\n",
    "    <h1 style=\"\n",
    "        color: #7cfc00; \n",
    "        text-shadow: 1px 1px 2px rgba(0, 0, 0, 0.5); \n",
    "        font-weight: bold; \n",
    "        font-size: 36px; \n",
    "        letter-spacing: 1px;\n",
    "    \">\n",
    "        📚 Table of Contents\n",
    "    </h1>\n",
    "</div>"
   ]
  },
  {
   "cell_type": "markdown",
   "id": "e249aa96-a646-499f-9d34-e235564f4d42",
   "metadata": {},
   "source": [
    "1. 📖 [Introduction](#introduction)\n",
    "2. 🧰 [Import Libraries](#import-libraries)\n",
    "3. 📂 [Import Dataset](#import-dataset)\n",
    "4. 🧠 [Understanding the Data](#understanding-the-data)\n",
    "5. 📊 [Data Visualization](#data-visualization)\n",
    "6. 🧼 [Data Preprocessing](#data-preprocessing)\n",
    "7. 🤖 [Model Train](#model-train)\n",
    "8. 🧪 [Model Evaluation](#model-evaluation)\n",
    "9. 💾 [Save Model](#save-model)\n",
    "10. 📚 [References](#references)"
   ]
  },
  {
   "cell_type": "markdown",
   "id": "bafd7b7e-2dd5-48ed-9480-dee681b397ed",
   "metadata": {},
   "source": [
    "---\n",
    "<!-- Google Fonts -->\n",
    "<link href=\"https://fonts.googleapis.com/css2?family=Roboto+Slab:wght@700&display=swap\" rel=\"stylesheet\">\n",
    "\n",
    "# <span style=\"color:transparent;\">🗑️ Introduction 🧠 <a name='introduction'></a> </span>\n",
    "\n",
    "<div style=\"\n",
    "    border-radius: 15px; \n",
    "    border: 2px solid #00ced1; \n",
    "    padding: 20px; \n",
    "    /* background: linear-gradient(135deg, #b71c1c, #f57f17 40%, #212121 90%); */\n",
    "    background: linear-gradient(90deg, #00d2ff 0%, #3a47d5 100%);\n",
    "    text-align: center; \n",
    "    box-shadow: 0px 8px 16px rgba(0, 0, 0, 0.25); \n",
    "    font-family: 'Roboto Slab', serif;\n",
    "    margin-top: 30px;\n",
    "\">\n",
    "    <h1 style=\"\n",
    "        color: #7cfc00; \n",
    "        text-shadow: 1px 1px 2px rgba(0, 0, 0, 0.5); \n",
    "        font-weight: bold; \n",
    "        font-size: 36px; \n",
    "        letter-spacing: 1px;\n",
    "    \">\n",
    "        🗑️ Introduction 📖\n",
    "    </h1>\n",
    "</div>"
   ]
  },
  {
   "cell_type": "markdown",
   "id": "7a82c8bc-0472-43c7-a38d-9b7d6a63384c",
   "metadata": {},
   "source": [
    "**🧠 Introduction**\n",
    "\n",
    "Email remains one of the most essential communication tools in both personal and professional settings. However, the widespread use of email has also led to an increase in spam—unwanted, unsolicited, and often malicious messages that clutter inboxes and pose security risks. Detecting spam manually is inefficient and unreliable, which is why automated spam detection systems are critical.\n",
    "\n",
    "This project aims to build a machine learning-based **Spam Email Detector** that can accurately classify emails as either *spam* or *not spam* based on their content and metadata. By leveraging natural language processing (NLP) and classification algorithms, the system will learn to identify patterns and features commonly associated with spam emails.\n",
    "\n",
    "---\n",
    "\n",
    "**📚 Project Overview**\n",
    "\n",
    "The Spam Email Detector project follows a standard machine learning pipeline:\n",
    "\n",
    "- **Data Collection**: Use publicly available datasets containing labeled spam and ham (non-spam) emails.\n",
    "- **Data Preprocessing**: Clean and tokenize email text, remove stopwords, and convert text into numerical features using techniques like TF-IDF or word embeddings.\n",
    "- **Feature Engineering**: Extract relevant features such as email length, presence of suspicious keywords, sender domain, etc.\n",
    "- **Model Training**: Train classification models (e.g., Naive Bayes, Logistic Regression, SVM, or Random Forest) to distinguish spam from ham.\n",
    "- **Evaluation**: Assess model performance using metrics like accuracy, precision, recall, and F1-score.\n",
    "- **Deployment**: Optionally, deploy the model via a simple web interface or API for real-time spam detection.\n",
    "\n",
    "---\n",
    "\n",
    "**🎯 Motivation**\n",
    "\n",
    "Spam emails are more than just a nuisance—they can lead to phishing attacks, data breaches, and financial loss. Traditional rule-based spam filters often fail to adapt to evolving spam tactics. A machine learning approach offers:\n",
    "\n",
    "- **Adaptability**: Learns from data and improves over time.\n",
    "- **Scalability**: Can handle large volumes of email efficiently.\n",
    "- **Accuracy**: Detects subtle patterns that rule-based systems might miss.\n",
    "\n",
    "This project not only provides a practical solution to a real-world problem but also serves as an excellent learning opportunity in NLP, classification, and model deployment.\n",
    "\n",
    "---\n",
    "\n",
    "**📂 Datasets**\n",
    "\n",
    "Here are some commonly used datasets for spam detection:\n",
    "\n",
    "| Dataset Name              | Description                                                                 | Source |\n",
    "|---------------------------|-----------------------------------------------------------------------------|--------|\n",
    "| **SpamAssassin Public Corpus** | A well-known dataset with labeled spam and ham emails.                         | [Link](https://spamassassin.apache.org/old/publiccorpus/) |\n",
    "| **Enron Email Dataset**        | Real-world emails from the Enron corporation, useful for NLP tasks.           | [Link](https://www.cs.cmu.edu/~enron/) |\n",
    "| **SMS Spam Collection**       | A dataset of SMS messages labeled as spam or ham. Good for short-text models. | [Link](https://www.kaggle.com/datasets/uciml/sms-spam-collection-dataset) |\n",
    "| **Ling-Spam Dataset**         | Emails from a linguistics mailing list, labeled for spam detection.           | [Link](http://www.aueb.gr/users/ion/data/lingspam_public.tar.gz) |"
   ]
  },
  {
   "cell_type": "markdown",
   "id": "4bf520b8-77c9-4b03-a94f-5427302f838e",
   "metadata": {},
   "source": [
    "---\n",
    "<!-- Google Fonts -->\n",
    "<link href=\"https://fonts.googleapis.com/css2?family=Roboto+Slab:wght@700&display=swap\" rel=\"stylesheet\">\n",
    "\n",
    "# <span style=\"color:transparent;\">🗑️ Import Libraries <a name='import-libraries'></a> </span>\n",
    "\n",
    "<div style=\"\n",
    "    border-radius: 15px; \n",
    "    border: 2px solid #00ced1; \n",
    "    padding: 20px; \n",
    "    /* background: linear-gradient(135deg, #b71c1c, #f57f17 40%, #212121 90%); */\n",
    "    background: linear-gradient(90deg, #00d2ff 0%, #3a47d5 100%);\n",
    "    text-align: center; \n",
    "    box-shadow: 0px 8px 16px rgba(0, 0, 0, 0.25); \n",
    "    font-family: 'Roboto Slab', serif;\n",
    "    margin-top: 30px;\n",
    "\">\n",
    "    <h1 style=\"\n",
    "        color: #7cfc00; \n",
    "        text-shadow: 1px 1px 2px rgba(0, 0, 0, 0.5); \n",
    "        font-weight: bold; \n",
    "        font-size: 36px; \n",
    "        letter-spacing: 1px;\n",
    "    \">\n",
    "        🗑️ Import Libraries\n",
    "    </h1>\n",
    "</div>"
   ]
  },
  {
   "cell_type": "code",
   "execution_count": 69,
   "id": "0a0c399e-6e53-4060-9583-01891356700c",
   "metadata": {},
   "outputs": [],
   "source": [
    "# data manipulation\n",
    "import pandas as pd\n",
    "import numpy as np\n",
    "import matplotlib.pyplot as plt\n",
    "import seaborn as sns\n",
    "%matplotlib inline\n",
    "import re\n",
    "\n",
    "# system libraries\n",
    "import os\n",
    "import sys\n",
    "\n",
    "# Import Pickle\n",
    "import pickle"
   ]
  },
  {
   "cell_type": "code",
   "execution_count": 40,
   "id": "bbf42702-4466-499c-95cc-dde43aa0f77e",
   "metadata": {},
   "outputs": [],
   "source": [
    "from sklearn.model_selection import train_test_split\n",
    "from sklearn.feature_extraction.text import TfidfVectorizer\n",
    "\n",
    "# Machine Learning Models\n",
    "from sklearn.linear_model import LogisticRegression\n",
    "from sklearn.ensemble import RandomForestClassifier\n",
    "from sklearn.ensemble import StackingClassifier\n",
    "from sklearn.neighbors import KNeighborsClassifier\n",
    "from sklearn.neural_network import MLPClassifier\n",
    "from xgboost import XGBClassifier\n",
    "\n",
    "# Metrices\n",
    "from sklearn.metrics import accuracy_score, confusion_matrix, f1_score, recall_score, ConfusionMatrixDisplay\n",
    "from sklearn.metrics import classification_report, roc_auc_score, roc_curve"
   ]
  },
  {
   "cell_type": "code",
   "execution_count": null,
   "id": "03d8b163-8fc2-4d29-a8c6-756ef825eba7",
   "metadata": {},
   "outputs": [],
   "source": []
  },
  {
   "cell_type": "code",
   "execution_count": null,
   "id": "29d1c672-2b8c-4929-9ff2-667a5c8db978",
   "metadata": {},
   "outputs": [],
   "source": []
  },
  {
   "cell_type": "markdown",
   "id": "222f5693-0013-4fb5-81ef-17ece5948f8d",
   "metadata": {},
   "source": [
    "---\n",
    "<!-- Google Fonts -->\n",
    "<link href=\"https://fonts.googleapis.com/css2?family=Roboto+Slab:wght@700&display=swap\" rel=\"stylesheet\">\n",
    "\n",
    "# <span style=\"color:transparent;\">🗑️ Import Dataset 🧠 <a name='import-dataset'></a> </span>\n",
    "\n",
    "<div style=\"\n",
    "    border-radius: 15px; \n",
    "    border: 2px solid #00ced1; \n",
    "    padding: 20px; \n",
    "    /* background: linear-gradient(135deg, #b71c1c, #f57f17 40%, #212121 90%); */\n",
    "    background: linear-gradient(90deg, #00d2ff 0%, #3a47d5 100%);\n",
    "    text-align: center; \n",
    "    box-shadow: 0px 8px 16px rgba(0, 0, 0, 0.25); \n",
    "    font-family: 'Roboto Slab', serif;\n",
    "    margin-top: 30px;\n",
    "\">\n",
    "    <h1 style=\"\n",
    "        color: #7cfc00; \n",
    "        text-shadow: 1px 1px 2px rgba(0, 0, 0, 0.5); \n",
    "        font-weight: bold; \n",
    "        font-size: 36px; \n",
    "        letter-spacing: 1px;\n",
    "    \">\n",
    "        🗑️ Import Dataset\n",
    "    </h1>\n",
    "</div>"
   ]
  },
  {
   "cell_type": "code",
   "execution_count": 2,
   "id": "9a6f1c56-0017-400e-94ed-00c83a73813a",
   "metadata": {},
   "outputs": [
    {
     "name": "stdout",
     "output_type": "stream",
     "text": [
      "data successfully read ✅\n"
     ]
    }
   ],
   "source": [
    "try:\n",
    "    df = pd.read_csv('../data/raw/combined_data.csv')\n",
    "    print('data successfully read ✅')\n",
    "except:\n",
    "    print(\"data doesn't read ❌\")"
   ]
  },
  {
   "cell_type": "code",
   "execution_count": 3,
   "id": "ae54ce6b-41f8-41ec-86cd-e6847c8f57df",
   "metadata": {},
   "outputs": [],
   "source": [
    "df_bckp = df.copy()"
   ]
  },
  {
   "cell_type": "code",
   "execution_count": 4,
   "id": "4befbc08-7b2a-4afa-9387-a5a704a3dc1e",
   "metadata": {},
   "outputs": [
    {
     "data": {
      "text/plain": [
       "(83448, 2)"
      ]
     },
     "execution_count": 4,
     "metadata": {},
     "output_type": "execute_result"
    }
   ],
   "source": [
    "df_bckp.shape"
   ]
  },
  {
   "cell_type": "markdown",
   "id": "9e50e701-96d2-44ef-8bf1-98da7df2aa48",
   "metadata": {},
   "source": [
    "---\n",
    "<!-- Google Fonts -->\n",
    "<link href=\"https://fonts.googleapis.com/css2?family=Roboto+Slab:wght@700&display=swap\" rel=\"stylesheet\">\n",
    "\n",
    "# <span style=\"color:transparent;\">🗑️ Understanding The Data 🧠 <a name='understanding-the-data'></a> </span>\n",
    "\n",
    "<div style=\"\n",
    "    border-radius: 15px; \n",
    "    border: 2px solid #00ced1; \n",
    "    padding: 20px; \n",
    "    /* background: linear-gradient(135deg, #b71c1c, #f57f17 40%, #212121 90%); */\n",
    "    background: linear-gradient(90deg, #00d2ff 0%, #3a47d5 100%);\n",
    "    text-align: center; \n",
    "    box-shadow: 0px 8px 16px rgba(0, 0, 0, 0.25); \n",
    "    font-family: 'Roboto Slab', serif;\n",
    "    margin-top: 30px;\n",
    "\">\n",
    "    <h1 style=\"\n",
    "        color: #7cfc00; \n",
    "        text-shadow: 1px 1px 2px rgba(0, 0, 0, 0.5); \n",
    "        font-weight: bold; \n",
    "        font-size: 36px; \n",
    "        letter-spacing: 1px;\n",
    "    \">\n",
    "        🗑️ Understanding The Data\n",
    "    </h1>\n",
    "</div>"
   ]
  },
  {
   "cell_type": "code",
   "execution_count": 5,
   "id": "65ffaec7-c4cc-40c1-943b-f4d8102bcb52",
   "metadata": {},
   "outputs": [
    {
     "data": {
      "text/plain": [
       "(83448, 2)"
      ]
     },
     "execution_count": 5,
     "metadata": {},
     "output_type": "execute_result"
    }
   ],
   "source": [
    "df.shape"
   ]
  },
  {
   "cell_type": "code",
   "execution_count": 6,
   "id": "5e2d4624-9b47-4213-a479-0577f066b3b3",
   "metadata": {},
   "outputs": [
    {
     "data": {
      "text/html": [
       "<div>\n",
       "<style scoped>\n",
       "    .dataframe tbody tr th:only-of-type {\n",
       "        vertical-align: middle;\n",
       "    }\n",
       "\n",
       "    .dataframe tbody tr th {\n",
       "        vertical-align: top;\n",
       "    }\n",
       "\n",
       "    .dataframe thead th {\n",
       "        text-align: right;\n",
       "    }\n",
       "</style>\n",
       "<table border=\"1\" class=\"dataframe\">\n",
       "  <thead>\n",
       "    <tr style=\"text-align: right;\">\n",
       "      <th></th>\n",
       "      <th>label</th>\n",
       "      <th>text</th>\n",
       "    </tr>\n",
       "  </thead>\n",
       "  <tbody>\n",
       "    <tr>\n",
       "      <th>0</th>\n",
       "      <td>1</td>\n",
       "      <td>ounce feather bowl hummingbird opec moment ala...</td>\n",
       "    </tr>\n",
       "    <tr>\n",
       "      <th>1</th>\n",
       "      <td>1</td>\n",
       "      <td>wulvob get your medircations online qnb ikud v...</td>\n",
       "    </tr>\n",
       "    <tr>\n",
       "      <th>2</th>\n",
       "      <td>0</td>\n",
       "      <td>computer connection from cnn com wednesday es...</td>\n",
       "    </tr>\n",
       "    <tr>\n",
       "      <th>3</th>\n",
       "      <td>1</td>\n",
       "      <td>university degree obtain a prosperous future m...</td>\n",
       "    </tr>\n",
       "    <tr>\n",
       "      <th>4</th>\n",
       "      <td>0</td>\n",
       "      <td>thanks for all your answers guys i know i shou...</td>\n",
       "    </tr>\n",
       "  </tbody>\n",
       "</table>\n",
       "</div>"
      ],
      "text/plain": [
       "   label                                               text\n",
       "0      1  ounce feather bowl hummingbird opec moment ala...\n",
       "1      1  wulvob get your medircations online qnb ikud v...\n",
       "2      0   computer connection from cnn com wednesday es...\n",
       "3      1  university degree obtain a prosperous future m...\n",
       "4      0  thanks for all your answers guys i know i shou..."
      ]
     },
     "execution_count": 6,
     "metadata": {},
     "output_type": "execute_result"
    }
   ],
   "source": [
    "df.head()"
   ]
  },
  {
   "cell_type": "code",
   "execution_count": 7,
   "id": "694fac85-d5be-4b1e-ba51-dc9681239a24",
   "metadata": {},
   "outputs": [
    {
     "data": {
      "text/html": [
       "<div>\n",
       "<style scoped>\n",
       "    .dataframe tbody tr th:only-of-type {\n",
       "        vertical-align: middle;\n",
       "    }\n",
       "\n",
       "    .dataframe tbody tr th {\n",
       "        vertical-align: top;\n",
       "    }\n",
       "\n",
       "    .dataframe thead th {\n",
       "        text-align: right;\n",
       "    }\n",
       "</style>\n",
       "<table border=\"1\" class=\"dataframe\">\n",
       "  <thead>\n",
       "    <tr style=\"text-align: right;\">\n",
       "      <th></th>\n",
       "      <th>label</th>\n",
       "      <th>text</th>\n",
       "    </tr>\n",
       "  </thead>\n",
       "  <tbody>\n",
       "    <tr>\n",
       "      <th>83443</th>\n",
       "      <td>0</td>\n",
       "      <td>hi given a date how do i get the last date of ...</td>\n",
       "    </tr>\n",
       "    <tr>\n",
       "      <th>83444</th>\n",
       "      <td>1</td>\n",
       "      <td>now you can order software on cd or download i...</td>\n",
       "    </tr>\n",
       "    <tr>\n",
       "      <th>83445</th>\n",
       "      <td>1</td>\n",
       "      <td>dear valued member canadianpharmacy provides a...</td>\n",
       "    </tr>\n",
       "    <tr>\n",
       "      <th>83446</th>\n",
       "      <td>0</td>\n",
       "      <td>subscribe change profile contact us long term ...</td>\n",
       "    </tr>\n",
       "    <tr>\n",
       "      <th>83447</th>\n",
       "      <td>1</td>\n",
       "      <td>get the most out of life ! viagra has helped m...</td>\n",
       "    </tr>\n",
       "  </tbody>\n",
       "</table>\n",
       "</div>"
      ],
      "text/plain": [
       "       label                                               text\n",
       "83443      0  hi given a date how do i get the last date of ...\n",
       "83444      1  now you can order software on cd or download i...\n",
       "83445      1  dear valued member canadianpharmacy provides a...\n",
       "83446      0  subscribe change profile contact us long term ...\n",
       "83447      1  get the most out of life ! viagra has helped m..."
      ]
     },
     "execution_count": 7,
     "metadata": {},
     "output_type": "execute_result"
    }
   ],
   "source": [
    "df.tail()"
   ]
  },
  {
   "cell_type": "code",
   "execution_count": 8,
   "id": "612fabde-a65b-4574-a3a1-f28db2f70000",
   "metadata": {},
   "outputs": [
    {
     "name": "stdout",
     "output_type": "stream",
     "text": [
      "<class 'pandas.core.frame.DataFrame'>\n",
      "RangeIndex: 83448 entries, 0 to 83447\n",
      "Data columns (total 2 columns):\n",
      " #   Column  Non-Null Count  Dtype \n",
      "---  ------  --------------  ----- \n",
      " 0   label   83448 non-null  int64 \n",
      " 1   text    83448 non-null  object\n",
      "dtypes: int64(1), object(1)\n",
      "memory usage: 1.3+ MB\n"
     ]
    }
   ],
   "source": [
    "df.info()"
   ]
  },
  {
   "cell_type": "code",
   "execution_count": 9,
   "id": "09aad8f9-684a-4ebf-b179-c4cda5e31b00",
   "metadata": {},
   "outputs": [
    {
     "data": {
      "text/plain": [
       "label        2\n",
       "text     83446\n",
       "dtype: int64"
      ]
     },
     "execution_count": 9,
     "metadata": {},
     "output_type": "execute_result"
    }
   ],
   "source": [
    "df.nunique()"
   ]
  },
  {
   "cell_type": "code",
   "execution_count": 10,
   "id": "0d4e04c4-5d9c-4fb3-b09d-a4b5adb7b0ba",
   "metadata": {},
   "outputs": [
    {
     "data": {
      "text/plain": [
       "2206"
      ]
     },
     "execution_count": 10,
     "metadata": {},
     "output_type": "execute_result"
    }
   ],
   "source": [
    "len(df['text'][50101])"
   ]
  },
  {
   "cell_type": "code",
   "execution_count": 11,
   "id": "95e4a795-7280-49cc-b1de-9305da6757b1",
   "metadata": {},
   "outputs": [
    {
     "data": {
      "text/plain": [
       "'hi i have time series data stored in csv files see below for an example of the data i understand that in order to analyze my data in r i need to first transform it into a ts object howeve i could not find an example on how exactly to do that is ts the only function i need what are the steps that i need to go through to build a time series object from raw data like this thanks tom date value escapenumber escapenumber escapenumber escapenumber escapenumber escapenumber escapenumber escapenumber escapenumber escapenumber escapenumber escapenumber escapenumber escapenumber escapenumber escapenumber escapenumber escapenumber escapenumber escapenumber escapenumber escapenumber escapenumber escapenumber escapenumber escapenumber escapenumber escapenumber escapenumber escapenumber escapenumber escapenumber escapenumber escapenumber escapenumber escapenumber escapenumber escapenumber escapenumber escapenumber escapenumber escapenumber escapenumber escapenumber escapenumber escapenumber escapenumber escapenumber escapenumber escapenumber escapenumber escapenumber escapenumber escapenumber escapenumber escapenumber escapenumber escapenumber escapenumber escapenumber escapenumber escapenumber escapenumber escapenumber escapenumber escapenumber escapenumber escapenumber escapenumber escapenumber escapenumber escapenumber escapenumber escapenumber escapenumber escapenumber escapenumber escapenumber escapenumber escapenumber escapenumber escapenumber escapenumber escapenumber escapenumber escapenumber escapenumber escapenumber escapenumber escapenumber escapenumber escapenumber escapenumber escapenumber escapenumber escapenumber escapenumber escapenumber escapenumber escapenumber escapenumber escapenumber escapenumber escapenumber escapenumber escapenumber escapenumber escapenumber escapenumber escapenumber escapenumber escapenumber escapenumber escapenumber escapenumber escapenumber escapenumber escapenumber escapenumber escapenumber alternative html version deleted r help stat math ethz ch mailing list https stat ethz ch mailman listinfo r help please do read the posting guide http www r project org posting guide html and provide commented minimal self contained reproducible code '"
      ]
     },
     "execution_count": 11,
     "metadata": {},
     "output_type": "execute_result"
    }
   ],
   "source": [
    "df['text'][50101]"
   ]
  },
  {
   "cell_type": "code",
   "execution_count": 12,
   "id": "41081094-e52c-4515-88cc-894ac01a8e36",
   "metadata": {},
   "outputs": [
    {
     "data": {
      "text/plain": [
       "label    0\n",
       "text     0\n",
       "dtype: int64"
      ]
     },
     "execution_count": 12,
     "metadata": {},
     "output_type": "execute_result"
    }
   ],
   "source": [
    "df.isnull().sum()"
   ]
  },
  {
   "cell_type": "code",
   "execution_count": 13,
   "id": "a9f99c08-ebaa-4fff-8f39-3ebb48f6ac00",
   "metadata": {},
   "outputs": [
    {
     "data": {
      "text/plain": [
       "np.int64(0)"
      ]
     },
     "execution_count": 13,
     "metadata": {},
     "output_type": "execute_result"
    }
   ],
   "source": [
    "df.duplicated().sum()"
   ]
  },
  {
   "cell_type": "code",
   "execution_count": 14,
   "id": "67813ecd-bb2c-47df-9029-d24b94db5927",
   "metadata": {},
   "outputs": [
    {
     "data": {
      "text/plain": [
       "label    0\n",
       "text     0\n",
       "dtype: int64"
      ]
     },
     "execution_count": 14,
     "metadata": {},
     "output_type": "execute_result"
    }
   ],
   "source": [
    "df.isna().sum()"
   ]
  },
  {
   "cell_type": "markdown",
   "id": "2ff5a6dc-f240-4d8c-8d76-9a6905951773",
   "metadata": {},
   "source": [
    "---\n",
    "<!-- Google Fonts -->\n",
    "<link href=\"https://fonts.googleapis.com/css2?family=Roboto+Slab:wght@700&display=swap\" rel=\"stylesheet\">\n",
    "\n",
    "# <span style=\"color:transparent;\">🗑️ Data Preprocessing 🧠 <a name='data-preprocessing'></a> </span>\n",
    "\n",
    "<div style=\"\n",
    "    border-radius: 15px; \n",
    "    border: 2px solid #00ced1; \n",
    "    padding: 20px; \n",
    "    /* background: linear-gradient(135deg, #b71c1c, #f57f17 40%, #212121 90%); */\n",
    "    background: linear-gradient(90deg, #00d2ff 0%, #3a47d5 100%);\n",
    "    text-align: center; \n",
    "    box-shadow: 0px 8px 16px rgba(0, 0, 0, 0.25); \n",
    "    font-family: 'Roboto Slab', serif;\n",
    "    margin-top: 30px;\n",
    "\">\n",
    "    <h1 style=\"\n",
    "        color: #7cfc00; \n",
    "        text-shadow: 1px 1px 2px rgba(0, 0, 0, 0.5); \n",
    "        font-weight: bold; \n",
    "        font-size: 36px; \n",
    "        letter-spacing: 1px;\n",
    "    \">\n",
    "        🗑️ Data Preprocessing\n",
    "    </h1>\n",
    "</div>"
   ]
  },
  {
   "cell_type": "code",
   "execution_count": 15,
   "id": "6fed3e31-96b1-42de-92e7-6af0b810467d",
   "metadata": {},
   "outputs": [],
   "source": [
    "def clean_text(str: str):\n",
    "    max_repeat: int = 3\n",
    "    word = re.split(\" \", str)\n",
    "    refined = []\n",
    "    count: int = 0;\n",
    "\n",
    "    for i in range(len(word)):\n",
    "        if i > 0 and word[i] == word[i-1]:\n",
    "            count += 1\n",
    "        else:\n",
    "            count = 1\n",
    "\n",
    "        if count <= max_repeat:\n",
    "            refined.append(word[i])\n",
    "    \n",
    "    str=\" \".join(refined)\n",
    "    str = re.sub(r'\\W+', ' ', str) # Removed non word symbol (+, -, /, *)\n",
    "    str = re.sub(r'\\d+', '', str) # removed number\n",
    "\n",
    "    return str.strip() # Removed head, tail whitespace\n",
    "    "
   ]
  },
  {
   "cell_type": "code",
   "execution_count": 16,
   "id": "5a4622e3-5e39-4ae8-a9e5-7c9ebc971919",
   "metadata": {},
   "outputs": [],
   "source": [
    "df['cleaned_text'] = df['text'].apply(clean_text)"
   ]
  },
  {
   "cell_type": "code",
   "execution_count": 17,
   "id": "aa4ab597-7290-4611-b5ef-84bd6c80f44b",
   "metadata": {},
   "outputs": [
    {
     "data": {
      "text/plain": [
       "0        ounce feather bowl hummingbird opec moment ala...\n",
       "1        wulvob get your medircations online qnb ikud v...\n",
       "2        computer connection from cnn com wednesday esc...\n",
       "3        university degree obtain a prosperous future m...\n",
       "4        thanks for all your answers guys i know i shou...\n",
       "                               ...                        \n",
       "83443    hi given a date how do i get the last date of ...\n",
       "83444    now you can order software on cd or download i...\n",
       "83445    dear valued member canadianpharmacy provides a...\n",
       "83446    subscribe change profile contact us long term ...\n",
       "83447    get the most out of life viagra has helped mil...\n",
       "Name: cleaned_text, Length: 83448, dtype: object"
      ]
     },
     "execution_count": 17,
     "metadata": {},
     "output_type": "execute_result"
    }
   ],
   "source": [
    "df['cleaned_text']"
   ]
  },
  {
   "cell_type": "code",
   "execution_count": 18,
   "id": "c1d0138d-c442-4fcc-ba7c-ba75f22cfb80",
   "metadata": {},
   "outputs": [
    {
     "data": {
      "text/plain": [
       "(82814, 4)"
      ]
     },
     "execution_count": 18,
     "metadata": {},
     "output_type": "execute_result"
    }
   ],
   "source": [
    "def count_words(text):\n",
    "    words = text.split()\n",
    "    return len(words)\n",
    "\n",
    "df['word_count'] = df['text'].apply(count_words)\n",
    "df = df[df['word_count'] > 7]\n",
    "df.shape"
   ]
  },
  {
   "cell_type": "markdown",
   "id": "599fd3ef-8ba6-4b6d-a1cc-fab8906b924f",
   "metadata": {},
   "source": [
    "## X, y Separate"
   ]
  },
  {
   "cell_type": "code",
   "execution_count": 19,
   "id": "4b47bd46-f73e-4080-bbf3-0b8f63cf07a5",
   "metadata": {},
   "outputs": [
    {
     "data": {
      "text/html": [
       "<div>\n",
       "<style scoped>\n",
       "    .dataframe tbody tr th:only-of-type {\n",
       "        vertical-align: middle;\n",
       "    }\n",
       "\n",
       "    .dataframe tbody tr th {\n",
       "        vertical-align: top;\n",
       "    }\n",
       "\n",
       "    .dataframe thead th {\n",
       "        text-align: right;\n",
       "    }\n",
       "</style>\n",
       "<table border=\"1\" class=\"dataframe\">\n",
       "  <thead>\n",
       "    <tr style=\"text-align: right;\">\n",
       "      <th></th>\n",
       "      <th>label</th>\n",
       "      <th>text</th>\n",
       "      <th>cleaned_text</th>\n",
       "      <th>word_count</th>\n",
       "    </tr>\n",
       "  </thead>\n",
       "  <tbody>\n",
       "    <tr>\n",
       "      <th>0</th>\n",
       "      <td>1</td>\n",
       "      <td>ounce feather bowl hummingbird opec moment ala...</td>\n",
       "      <td>ounce feather bowl hummingbird opec moment ala...</td>\n",
       "      <td>20</td>\n",
       "    </tr>\n",
       "    <tr>\n",
       "      <th>1</th>\n",
       "      <td>1</td>\n",
       "      <td>wulvob get your medircations online qnb ikud v...</td>\n",
       "      <td>wulvob get your medircations online qnb ikud v...</td>\n",
       "      <td>103</td>\n",
       "    </tr>\n",
       "    <tr>\n",
       "      <th>2</th>\n",
       "      <td>0</td>\n",
       "      <td>computer connection from cnn com wednesday es...</td>\n",
       "      <td>computer connection from cnn com wednesday esc...</td>\n",
       "      <td>337</td>\n",
       "    </tr>\n",
       "    <tr>\n",
       "      <th>3</th>\n",
       "      <td>1</td>\n",
       "      <td>university degree obtain a prosperous future m...</td>\n",
       "      <td>university degree obtain a prosperous future m...</td>\n",
       "      <td>76</td>\n",
       "    </tr>\n",
       "    <tr>\n",
       "      <th>4</th>\n",
       "      <td>0</td>\n",
       "      <td>thanks for all your answers guys i know i shou...</td>\n",
       "      <td>thanks for all your answers guys i know i shou...</td>\n",
       "      <td>222</td>\n",
       "    </tr>\n",
       "  </tbody>\n",
       "</table>\n",
       "</div>"
      ],
      "text/plain": [
       "   label                                               text  \\\n",
       "0      1  ounce feather bowl hummingbird opec moment ala...   \n",
       "1      1  wulvob get your medircations online qnb ikud v...   \n",
       "2      0   computer connection from cnn com wednesday es...   \n",
       "3      1  university degree obtain a prosperous future m...   \n",
       "4      0  thanks for all your answers guys i know i shou...   \n",
       "\n",
       "                                        cleaned_text  word_count  \n",
       "0  ounce feather bowl hummingbird opec moment ala...          20  \n",
       "1  wulvob get your medircations online qnb ikud v...         103  \n",
       "2  computer connection from cnn com wednesday esc...         337  \n",
       "3  university degree obtain a prosperous future m...          76  \n",
       "4  thanks for all your answers guys i know i shou...         222  "
      ]
     },
     "execution_count": 19,
     "metadata": {},
     "output_type": "execute_result"
    }
   ],
   "source": [
    "df.head()"
   ]
  },
  {
   "cell_type": "code",
   "execution_count": 31,
   "id": "f0836aee-e368-4350-b32a-a53d3cb24036",
   "metadata": {},
   "outputs": [],
   "source": [
    "X = df['cleaned_text']\n",
    "y = df.label"
   ]
  },
  {
   "cell_type": "code",
   "execution_count": 32,
   "id": "37129ed6-4e73-470b-86b5-d608aa1e79f9",
   "metadata": {},
   "outputs": [
    {
     "data": {
      "text/plain": [
       "label\n",
       "1    43458\n",
       "0    39356\n",
       "Name: count, dtype: int64"
      ]
     },
     "execution_count": 32,
     "metadata": {},
     "output_type": "execute_result"
    }
   ],
   "source": [
    "y.value_counts()"
   ]
  },
  {
   "cell_type": "code",
   "execution_count": 33,
   "id": "ffa674e9-2fc7-46c1-9b48-80ac1e25b9f1",
   "metadata": {},
   "outputs": [
    {
     "data": {
      "text/plain": [
       "([<matplotlib.patches.Wedge at 0x208a8b9a490>,\n",
       "  <matplotlib.patches.Wedge at 0x208a8b9a990>],\n",
       " [Text(-0.010406325794161453, -1.0999507754365492, 'Spam'),\n",
       "  Text(0.010880610916764583, 1.1499485259376083, 'Not-Spam')],\n",
       " [Text(-0.005676177705906246, -0.5999731502381177, '52.5%'),\n",
       "  Text(0.006149910518171285, 0.6499709059647351, '47.5%')])"
      ]
     },
     "execution_count": 33,
     "metadata": {},
     "output_type": "execute_result"
    },
    {
     "data": {
      "image/png": "[encoded data removed]",
      "text/plain": [
       "<Figure size 640x480 with 1 Axes>"
      ]
     },
     "metadata": {},
     "output_type": "display_data"
    }
   ],
   "source": [
    "plt.pie(\n",
    "    y.value_counts(),\n",
    "    labels = ['Spam', 'Not-Spam'],\n",
    "    autopct='%1.1f%%',\n",
    "    startangle=175,\n",
    "    explode=(0, 0.05),\n",
    "    shadow=True\n",
    ")"
   ]
  },
  {
   "cell_type": "markdown",
   "id": "d989f77f-ba4a-4cbf-a13f-062257203429",
   "metadata": {},
   "source": [
    "## Vectorization"
   ]
  },
  {
   "cell_type": "code",
   "execution_count": 34,
   "id": "1051b421-93bb-46ff-a174-1e2ffe3770b7",
   "metadata": {},
   "outputs": [],
   "source": [
    "vectorizer = TfidfVectorizer(stop_words = 'english')\n",
    "X = vectorizer.fit_transform(X)"
   ]
  },
  {
   "cell_type": "markdown",
   "id": "7999c087-4b55-4539-a124-d43e5260d64b",
   "metadata": {},
   "source": [
    "## Train Test Split"
   ]
  },
  {
   "cell_type": "code",
   "execution_count": 37,
   "id": "3b45bcfe-6a10-4f55-92d7-2ec29a028eca",
   "metadata": {},
   "outputs": [
    {
     "data": {
      "text/plain": [
       "((53000, 296444), (16563, 296444), (13251, 296444))"
      ]
     },
     "execution_count": 37,
     "metadata": {},
     "output_type": "execute_result"
    }
   ],
   "source": [
    "X_train, X_val, y_train, y_val = train_test_split(X, y, test_size=0.2, random_state=17)\n",
    "X_train, X_test, y_train, y_test = train_test_split(X_train, y_train, test_size=0.2, random_state=17)\n",
    "X_train.shape, X_val.shape, X_test.shape"
   ]
  },
  {
   "cell_type": "code",
   "execution_count": null,
   "id": "68e6dc94-6a96-4f77-bc20-46d1b636398d",
   "metadata": {},
   "outputs": [],
   "source": []
  },
  {
   "cell_type": "code",
   "execution_count": null,
   "id": "612495d5-02a7-4aeb-872b-efe2fb13ba58",
   "metadata": {},
   "outputs": [],
   "source": []
  },
  {
   "cell_type": "markdown",
   "id": "dfc8258b-0abe-47a5-bd85-674a4d1824aa",
   "metadata": {},
   "source": [
    "---\n",
    "<!-- Google Fonts -->\n",
    "<link href=\"https://fonts.googleapis.com/css2?family=Roboto+Slab:wght@700&display=swap\" rel=\"stylesheet\">\n",
    "\n",
    "# <span style=\"color:transparent;\">🗑️ Model Training 🧠 <a name='model-training'></a> </span>\n",
    "\n",
    "<div style=\"\n",
    "    border-radius: 15px; \n",
    "    border: 2px solid #00ced1; \n",
    "    padding: 20px; \n",
    "    /* background: linear-gradient(135deg, #b71c1c, #f57f17 40%, #212121 90%); */\n",
    "    background: linear-gradient(90deg, #00d2ff 0%, #3a47d5 100%);\n",
    "    text-align: center; \n",
    "    box-shadow: 0px 8px 16px rgba(0, 0, 0, 0.25); \n",
    "    font-family: 'Roboto Slab', serif;\n",
    "    margin-top: 30px;\n",
    "\">\n",
    "    <h1 style=\"\n",
    "        color: #7cfc00; \n",
    "        text-shadow: 1px 1px 2px rgba(0, 0, 0, 0.5); \n",
    "        font-weight: bold; \n",
    "        font-size: 36px; \n",
    "        letter-spacing: 1px;\n",
    "    \">\n",
    "        🗑️ Model Training 🧠\n",
    "    </h1>\n",
    "</div>"
   ]
  },
  {
   "cell_type": "markdown",
   "id": "6da724d6-1d3b-46c5-9446-342068190879",
   "metadata": {},
   "source": [
    "Models\n",
    "- LogisticRegression\n",
    "- RandomForestClassifier\n",
    "- StackingClassifier\n",
    "- KNeighborsClassifier\n",
    "- MLPClassifier\n",
    "- XGBClassifier\n"
   ]
  },
  {
   "cell_type": "markdown",
   "id": "9c27ed7f-4209-4b32-b11b-2c459dea9bf0",
   "metadata": {},
   "source": [
    "## Utils"
   ]
  },
  {
   "cell_type": "code",
   "execution_count": 38,
   "id": "73d5c9de-30b6-4a5b-9d12-3c6736f7e24f",
   "metadata": {},
   "outputs": [],
   "source": [
    "def plot_roc_auc(model, X_test, y_test):\n",
    "    y_proba = model.predict_proba(X_test)[:, 1]\n",
    "    auc_score = roc_auc_score(y_test, y_proba)\n",
    "    print(\"ROC AUC Score:\", auc_score)\n",
    "\n",
    "    # Plotting the ROC curve\n",
    "    fpr, tpr, _ = roc_curve(y_test, y_proba)\n",
    "    plt.figure()\n",
    "    plt.plot(fpr, tpr, color='darkorange', lw=2, label=f'ROC curve (AUC = {auc_score:.2f})')\n",
    "    plt.plot([0, 1], [0, 1], color='navy', lw=2, linestyle='--')  # Diagonal line\n",
    "    plt.xlim([0.0, 1.0])\n",
    "    plt.ylim([0.0, 1.05])\n",
    "    plt.xlabel('False Positive Rate')\n",
    "    plt.ylabel('True Positive Rate')\n",
    "    plt.title('Receiver Operating Characteristic (ROC)')\n",
    "    plt.legend(loc=\"lower right\")\n",
    "    plt.grid(True)\n",
    "    plt.show()"
   ]
  },
  {
   "cell_type": "markdown",
   "id": "c9d7e304-cd40-46f6-883b-e0e15390906f",
   "metadata": {},
   "source": [
    "## Logistic Regression"
   ]
  },
  {
   "cell_type": "code",
   "execution_count": 42,
   "id": "65199f59-b4f0-4c72-b7fb-3b65eb207447",
   "metadata": {},
   "outputs": [
    {
     "name": "stdout",
     "output_type": "stream",
     "text": [
      "📘 Train Accuracy: 0.9906\n",
      "✅ Validation Accuracy: 0.9845\n"
     ]
    }
   ],
   "source": [
    "lr_model = LogisticRegression(max_iter=1000)\n",
    "lr_model.fit(X_train, y_train)\n",
    "\n",
    "# Predict on training and validation sets\n",
    "y_train_pred1 = lr_model.predict(X_train)\n",
    "y_val_pred1 = lr_model.predict(X_val)\n",
    "\n",
    "# Evaluate accuracy\n",
    "tacc1 = accuracy_score(y_train, y_train_pred1)\n",
    "acc1 = accuracy_score(y_val, y_val_pred1)\n",
    "\n",
    "print(f\"📘 Train Accuracy: {tacc1:.4f}\")\n",
    "print(f\"✅ Validation Accuracy: {acc1:.4f}\")"
   ]
  },
  {
   "cell_type": "markdown",
   "id": "52fd894d-ac04-4612-b9f8-479876489e71",
   "metadata": {},
   "source": [
    "## Confusion Matrix"
   ]
  },
  {
   "cell_type": "code",
   "execution_count": 43,
   "id": "b06edf21-2f17-487a-ad8c-c0a8c5ddcf43",
   "metadata": {},
   "outputs": [
    {
     "data": {
      "image/png": "[encoded data removed]",
      "text/plain": [
       "<Figure size 640x480 with 2 Axes>"
      ]
     },
     "metadata": {},
     "output_type": "display_data"
    }
   ],
   "source": [
    "ConfusionMatrixDisplay.from_predictions(y_val, y_val_pred1)\n",
    "plt.title(\"Confusion Matrix - Logistic Regression\")\n",
    "plt.show()"
   ]
  },
  {
   "cell_type": "markdown",
   "id": "38846950-9045-4ccf-90f1-25c42bc3cc22",
   "metadata": {},
   "source": [
    "## RandomForestClassifier"
   ]
  },
  {
   "cell_type": "code",
   "execution_count": 46,
   "id": "550de84a-0a7f-4503-be79-21d25e6b3f02",
   "metadata": {},
   "outputs": [
    {
     "name": "stdout",
     "output_type": "stream",
     "text": [
      "📘 Train Accuracy: 0.8550\n",
      "✅ Validation Accuracy: 0.8524\n"
     ]
    }
   ],
   "source": [
    "rf_model = RandomForestClassifier(n_estimators=1000, max_depth=8)\n",
    "rf_model.fit(X_train, y_train)\n",
    "\n",
    "# Predict on training and validation sets\n",
    "y_train_pred2 = rf_model.predict(X_train)\n",
    "y_val_pred2 = rf_model.predict(X_val)\n",
    "\n",
    "# Evaluate accuracy\n",
    "tacc2 = accuracy_score(y_train, y_train_pred2)\n",
    "acc2 = accuracy_score(y_val, y_val_pred2)\n",
    "\n",
    "print(f\"📘 Train Accuracy: {tacc2:.4f}\")\n",
    "print(f\"✅ Validation Accuracy: {acc2:.4f}\")"
   ]
  },
  {
   "cell_type": "markdown",
   "id": "7bfe11d4-574c-423c-89bc-c4e27991208e",
   "metadata": {},
   "source": [
    "## Confusion Matrix"
   ]
  },
  {
   "cell_type": "code",
   "execution_count": 47,
   "id": "1bdeb074-b9d8-4c62-b582-5c77a02cc307",
   "metadata": {},
   "outputs": [
    {
     "data": {
      "image/png": "[encoded data removed]",
      "text/plain": [
       "<Figure size 640x480 with 2 Axes>"
      ]
     },
     "metadata": {},
     "output_type": "display_data"
    }
   ],
   "source": [
    "ConfusionMatrixDisplay.from_predictions(y_val, y_val_pred2)\n",
    "plt.title(\"Confusion Matrix - Random Forest\")\n",
    "plt.show()"
   ]
  },
  {
   "cell_type": "markdown",
   "id": "369cb84f-eb94-408c-994e-9331893a76a4",
   "metadata": {},
   "source": [
    "## KNeighborsClassifier"
   ]
  },
  {
   "cell_type": "code",
   "execution_count": 48,
   "id": "f7a50987-6f1a-41b7-b84a-cef3c928670b",
   "metadata": {},
   "outputs": [
    {
     "name": "stdout",
     "output_type": "stream",
     "text": [
      "📘 Train Accuracy: 0.7625\n",
      "✅ Validation Accuracy: 0.7400\n"
     ]
    }
   ],
   "source": [
    "knn_model = KNeighborsClassifier(n_neighbors=8)\n",
    "knn_model.fit(X_train, y_train)\n",
    "\n",
    "# Predict on training and validation sets\n",
    "y_train_pred3 = knn_model.predict(X_train)\n",
    "y_val_pred3 = knn_model.predict(X_val)\n",
    "\n",
    "# Evaluate accuracy\n",
    "tacc3 = accuracy_score(y_train, y_train_pred3)\n",
    "acc3 = accuracy_score(y_val, y_val_pred3)\n",
    "\n",
    "print(f\"📘 Train Accuracy: {tacc3:.4f}\")\n",
    "print(f\"✅ Validation Accuracy: {acc3:.4f}\")"
   ]
  },
  {
   "cell_type": "markdown",
   "id": "c7403ce6-cc26-4992-b9e8-8576a7da3069",
   "metadata": {},
   "source": [
    "## Confusion Matrix"
   ]
  },
  {
   "cell_type": "code",
   "execution_count": 49,
   "id": "72bfcfa7-c939-463b-bf6c-81a1f5778f1b",
   "metadata": {},
   "outputs": [
    {
     "data": {
      "image/png": "[encoded data removed]",
      "text/plain": [
       "<Figure size 640x480 with 2 Axes>"
      ]
     },
     "metadata": {},
     "output_type": "display_data"
    }
   ],
   "source": [
    "ConfusionMatrixDisplay.from_predictions(y_val, y_val_pred3)\n",
    "plt.title(\"Confusion Matrix - Random Forest\")\n",
    "plt.show()"
   ]
  },
  {
   "cell_type": "markdown",
   "id": "a4554237-7ac8-4399-8b3f-829136813116",
   "metadata": {},
   "source": [
    "## MLPClassifier"
   ]
  },
  {
   "cell_type": "code",
   "execution_count": 52,
   "id": "44e1d24e-9ef1-4ae9-86bd-c9f85c16dfac",
   "metadata": {},
   "outputs": [
    {
     "name": "stderr",
     "output_type": "stream",
     "text": [
      "C:\\Users\\Nayeem\\Desktop\\Nazmul\\Work\\GitHub\\100-Days-of-Machine-Learning\\venv\\Lib\\site-packages\\sklearn\\neural_network\\_multilayer_perceptron.py:698: UserWarning: Training interrupted by user.\n",
      "  warnings.warn(\"Training interrupted by user.\")\n"
     ]
    },
    {
     "name": "stdout",
     "output_type": "stream",
     "text": [
      "📘 Train Accuracy: 0.9986\n",
      "✅ Validation Accuracy: 0.9894\n",
      "CPU times: total: 1h 38min 30s\n",
      "Wall time: 2h 47min 36s\n"
     ]
    }
   ],
   "source": [
    "%%time\n",
    "nn_model = MLPClassifier(hidden_layer_sizes=(500, 250, 500), max_iter=1000)\n",
    "nn_model.fit(X_train, y_train)\n",
    "\n",
    "# Predict on training and validation sets\n",
    "y_train_pred4 = nn_model.predict(X_train)\n",
    "y_val_pred4 = nn_model.predict(X_val)\n",
    "\n",
    "# Evaluate accuracy\n",
    "tacc4 = accuracy_score(y_train, y_train_pred4)\n",
    "acc4 = accuracy_score(y_val, y_val_pred4)\n",
    "\n",
    "print(f\"📘 Train Accuracy: {tacc4:.4f}\")\n",
    "print(f\"✅ Validation Accuracy: {acc4:.4f}\")"
   ]
  },
  {
   "cell_type": "markdown",
   "id": "00f167b0-9931-44ad-ac89-3cc5f16e0f06",
   "metadata": {},
   "source": [
    "## Confusion Matrix"
   ]
  },
  {
   "cell_type": "code",
   "execution_count": 53,
   "id": "f7a43cf0-57a9-49f9-8248-8e8d60da891a",
   "metadata": {},
   "outputs": [
    {
     "data": {
      "image/png": "[encoded data removed]",
      "text/plain": [
       "<Figure size 640x480 with 2 Axes>"
      ]
     },
     "metadata": {},
     "output_type": "display_data"
    },
    {
     "name": "stdout",
     "output_type": "stream",
     "text": [
      "CPU times: total: 156 ms\n",
      "Wall time: 403 ms\n"
     ]
    }
   ],
   "source": [
    "%%time\n",
    "ConfusionMatrixDisplay.from_predictions(y_val, y_val_pred4)\n",
    "plt.title(\"Confusion Matrix - KNN\")\n",
    "plt.show()"
   ]
  },
  {
   "cell_type": "markdown",
   "id": "767a794a-c1f5-4587-9dc5-914f3fdc84cb",
   "metadata": {},
   "source": [
    "## XGBoost"
   ]
  },
  {
   "cell_type": "code",
   "execution_count": 55,
   "id": "cc54b732-2fd7-4be8-af63-a027938fc8da",
   "metadata": {},
   "outputs": [
    {
     "name": "stderr",
     "output_type": "stream",
     "text": [
      "C:\\Users\\Nayeem\\Desktop\\Nazmul\\Work\\GitHub\\100-Days-of-Machine-Learning\\venv\\Lib\\site-packages\\xgboost\\training.py:183: UserWarning: [14:33:30] WARNING: C:\\actions-runner\\_work\\xgboost\\xgboost\\src\\learner.cc:738: \n",
      "Parameters: { \"use_label_encoder\" } are not used.\n",
      "\n",
      "  bst.update(dtrain, iteration=i, fobj=obj)\n"
     ]
    },
    {
     "name": "stdout",
     "output_type": "stream",
     "text": [
      "📘 Train Accuracy: 0.9861\n",
      "✅ Validation Accuracy: 0.9797\n",
      "CPU times: total: 19min 41s\n",
      "Wall time: 6min 20s\n"
     ]
    }
   ],
   "source": [
    "%%time\n",
    "xgb_model = XGBClassifier(\n",
    "    objective='binary:logistic',\n",
    "    eval_metric='logloss',\n",
    "    use_label_encoder=False,\n",
    "    scale_pos_weight=2.77,\n",
    "    max_depth=5,\n",
    "    learning_rate=0.1,\n",
    "    n_estimators=500,\n",
    "    subsample=0.8,\n",
    "    colsample_bytree=0.8,\n",
    "    random_state=42\n",
    ")\n",
    "xgb_model.fit(X_train, y_train)\n",
    "\n",
    "# Predict on training and validation sets\n",
    "y_train_pred5 = xgb_model.predict(X_train)\n",
    "y_val_pred5 = xgb_model.predict(X_val)\n",
    "\n",
    "# Evaluate accuracy\n",
    "tacc5 = accuracy_score(y_train, y_train_pred5)\n",
    "acc5 = accuracy_score(y_val, y_val_pred5)\n",
    "\n",
    "print(f\"📘 Train Accuracy: {tacc5:.4f}\")\n",
    "print(f\"✅ Validation Accuracy: {acc5:.4f}\")"
   ]
  },
  {
   "cell_type": "markdown",
   "id": "10e16d31-34ec-46ed-b6aa-d6a7ccbb6bdd",
   "metadata": {},
   "source": [
    "## Confusion Matrix"
   ]
  },
  {
   "cell_type": "code",
   "execution_count": 56,
   "id": "32d44710-0d8d-45bc-ad2a-def210052278",
   "metadata": {},
   "outputs": [
    {
     "data": {
      "image/png": "[encoded data removed]",
      "text/plain": [
       "<Figure size 640x480 with 2 Axes>"
      ]
     },
     "metadata": {},
     "output_type": "display_data"
    }
   ],
   "source": [
    "ConfusionMatrixDisplay.from_predictions(y_val, y_val_pred5)\n",
    "plt.title(\"Confusion Matrix - XGB\")\n",
    "plt.show()"
   ]
  },
  {
   "cell_type": "markdown",
   "id": "fb813faf-8bed-4b9e-a529-4475d0fe4bb1",
   "metadata": {},
   "source": [
    "---\n",
    "<!-- Google Fonts -->\n",
    "<link href=\"https://fonts.googleapis.com/css2?family=Roboto+Slab:wght@700&display=swap\" rel=\"stylesheet\">\n",
    "\n",
    "# <span style=\"color:transparent;\">🗑️ Model Evaluation 🧠 <a name='model-evaluation'></a> </span>\n",
    "\n",
    "<div style=\"\n",
    "    border-radius: 15px; \n",
    "    border: 2px solid #00ced1; \n",
    "    padding: 20px; \n",
    "    /* background: linear-gradient(135deg, #b71c1c, #f57f17 40%, #212121 90%); */\n",
    "    background: linear-gradient(90deg, #00d2ff 0%, #3a47d5 100%);\n",
    "    text-align: center; \n",
    "    box-shadow: 0px 8px 16px rgba(0, 0, 0, 0.25); \n",
    "    font-family: 'Roboto Slab', serif;\n",
    "    margin-top: 30px;\n",
    "\">\n",
    "    <h1 style=\"\n",
    "        color: #7cfc00; \n",
    "        text-shadow: 1px 1px 2px rgba(0, 0, 0, 0.5); \n",
    "        font-weight: bold; \n",
    "        font-size: 36px; \n",
    "        letter-spacing: 1px;\n",
    "    \">\n",
    "        🗑️ Model Evaluation 🧠\n",
    "    </h1>\n",
    "</div>"
   ]
  },
  {
   "cell_type": "code",
   "execution_count": 68,
   "id": "5e9fde4a-b4a1-4760-90ff-1d91709dc030",
   "metadata": {},
   "outputs": [
    {
     "name": "stdout",
     "output_type": "stream",
     "text": [
      "LR: 0.9837\n",
      "NN: 0.9900\n",
      "XGB: 0.9779\n"
     ]
    }
   ],
   "source": [
    "print(f'LR: {accuracy_score(y_test, lr_model.predict(X_test)):.4f}')\n",
    "print(f'NN: {accuracy_score(y_test, nn_model.predict(X_test)):.4f}')\n",
    "print(f'XGB: {accuracy_score(y_test, xgb_model.predict(X_test)):.4f}')"
   ]
  },
  {
   "cell_type": "code",
   "execution_count": null,
   "id": "f14b4d86-270e-45a8-8914-85bb742fea26",
   "metadata": {},
   "outputs": [],
   "source": []
  },
  {
   "cell_type": "code",
   "execution_count": null,
   "id": "297965b3-211a-4f2a-93c9-f359c123a2ab",
   "metadata": {},
   "outputs": [],
   "source": []
  },
  {
   "cell_type": "code",
   "execution_count": null,
   "id": "050e7f63-fad9-49b9-96b4-63f7268c9811",
   "metadata": {},
   "outputs": [],
   "source": []
  },
  {
   "cell_type": "code",
   "execution_count": null,
   "id": "1476c1c3-df90-4ae7-9f8a-02ff86766da7",
   "metadata": {},
   "outputs": [],
   "source": []
  },
  {
   "cell_type": "markdown",
   "id": "e0d4f423-dc7a-433a-91dc-6b5bc7105aba",
   "metadata": {},
   "source": [
    "---\n",
    "<!-- Google Fonts -->\n",
    "<link href=\"https://fonts.googleapis.com/css2?family=Roboto+Slab:wght@700&display=swap\" rel=\"stylesheet\">\n",
    "\n",
    "# <span style=\"color:transparent;\">🗑️ Save Model 🧠 <a name='save-model'></a> </span>\n",
    "\n",
    "<div style=\"\n",
    "    border-radius: 15px; \n",
    "    border: 2px solid #00ced1; \n",
    "    padding: 20px; \n",
    "    /* background: linear-gradient(135deg, #b71c1c, #f57f17 40%, #212121 90%); */\n",
    "    background: linear-gradient(90deg, #00d2ff 0%, #3a47d5 100%);\n",
    "    text-align: center; \n",
    "    box-shadow: 0px 8px 16px rgba(0, 0, 0, 0.25); \n",
    "    font-family: 'Roboto Slab', serif;\n",
    "    margin-top: 30px;\n",
    "\">\n",
    "    <h1 style=\"\n",
    "        color: #7cfc00; \n",
    "        text-shadow: 1px 1px 2px rgba(0, 0, 0, 0.5); \n",
    "        font-weight: bold; \n",
    "        font-size: 36px; \n",
    "        letter-spacing: 1px;\n",
    "    \">\n",
    "        🗑️Save Model 🧠\n",
    "    </h1>\n",
    "</div>"
   ]
  },
  {
   "cell_type": "code",
   "execution_count": 72,
   "id": "a71978aa-d7a4-419c-9bbb-76a76511e072",
   "metadata": {},
   "outputs": [
    {
     "name": "stdout",
     "output_type": "stream",
     "text": [
      "Model successfully saved to: saved_models\\Spam_Email_Detector.pkl\n"
     ]
    }
   ],
   "source": [
    "best_model = nn_model\n",
    "output_folder = 'saved_models'\n",
    "model_filename = 'Spam_Email_Detector.pkl'\n",
    "full_path = os.path.join(output_folder, model_filename)\n",
    "\n",
    "if not os.path.exists(output_folder):\n",
    "    os.makedirs(output_folder)\n",
    "    print(f\"Created folder: {output_folder}\")\n",
    "\n",
    "try:\n",
    "    with open(full_path, 'wb') as file: # 'wb' means write in binary mode\n",
    "        pickle.dump(best_model, file)\n",
    "    print(f\"Model successfully saved to: {full_path}\")\n",
    "except Exception as e:\n",
    "    print(f\"Error saving model: {e}\")"
   ]
  },
  {
   "cell_type": "code",
   "execution_count": null,
   "id": "bb68e52c-4a03-4ecf-a099-a75d70f623d6",
   "metadata": {},
   "outputs": [],
   "source": []
  },
  {
   "cell_type": "code",
   "execution_count": null,
   "id": "6e295a52-de97-47b6-aa38-4e89ff6d2fb5",
   "metadata": {},
   "outputs": [],
   "source": []
  },
  {
   "cell_type": "code",
   "execution_count": null,
   "id": "77e4a305-e735-4fa8-922d-273941616e8d",
   "metadata": {},
   "outputs": [],
   "source": []
  },
  {
   "cell_type": "markdown",
   "id": "90d9e565-25e9-4bec-a656-87ac23226368",
   "metadata": {},
   "source": [
    "---\n",
    "<!-- Google Fonts -->\n",
    "<link href=\"https://fonts.googleapis.com/css2?family=Roboto+Slab:wght@700&display=swap\" rel=\"stylesheet\">\n",
    "\n",
    "# <span style=\"color:transparent;\">🗑️ References 🧠 <a name='references'></a> </span>\n",
    "\n",
    "<div style=\"\n",
    "    border-radius: 15px; \n",
    "    border: 2px solid #00ced1; \n",
    "    padding: 20px; \n",
    "    /* background: linear-gradient(135deg, #b71c1c, #f57f17 40%, #212121 90%); */\n",
    "    background: linear-gradient(90deg, #00d2ff 0%, #3a47d5 100%);\n",
    "    text-align: center; \n",
    "    box-shadow: 0px 8px 16px rgba(0, 0, 0, 0.25); \n",
    "    font-family: 'Roboto Slab', serif;\n",
    "    margin-top: 30px;\n",
    "\">\n",
    "    <h1 style=\"\n",
    "        color: #7cfc00; \n",
    "        text-shadow: 1px 1px 2px rgba(0, 0, 0, 0.5); \n",
    "        font-weight: bold; \n",
    "        font-size: 36px; \n",
    "        letter-spacing: 1px;\n",
    "    \">\n",
    "        🗑️ References 🧠\n",
    "    </h1>\n",
    "</div>"
   ]
  },
  {
   "cell_type": "markdown",
   "id": "5850e126-f7ab-4284-b7ac-fba878fcf38c",
   "metadata": {},
   "source": [
    "- **Dataset:** https://www.kaggle.com/datasets/purusinghvi/email-spam-classification-dataset/data\n",
    "- **Notebook:**\n",
    "    * https://www.kaggle.com/code/prasadmeesala/spam-email-classification-naivebayes\n",
    "- **sklearn:** https://scikit-learn.org/stable/index.html\n",
    "- **XGBoost:** https://xgboost.readthedocs.io/en/stable/\n",
    "- **Imblearn:** https://imbalanced-learn.org/\n",
    "- **Gemini:** https://gemini.google.com/app/\n",
    "- **Copilot:** https://copilot.microsoft.com/chats/\n",
    "\n",
    "**AUTHOR**\n",
    "\n",
    "- **Kaggle:** https://www.kaggle.com/nazmul1117\n",
    "- **GitHub:** https://github.com/nazmul-1117\n",
    "- **Portfolio:** https://nazmul-1117.github.io\n",
    "- **Instagram:** https://www.instagram.com/nazmul.1117/"
   ]
  },
  {
   "cell_type": "code",
   "execution_count": null,
   "id": "f6ca65dd-979e-4659-8082-5cda90ed2d3d",
   "metadata": {},
   "outputs": [],
   "source": []
  }
 ],
 "metadata": {
  "kernelspec": {
   "display_name": "venv",
   "language": "python",
   "name": "venv"
  },
  "language_info": {
   "codemirror_mode": {
    "name": "ipython",
    "version": 3
   },
   "file_extension": ".py",
   "mimetype": "text/x-python",
   "name": "python",
   "nbconvert_exporter": "python",
   "pygments_lexer": "ipython3",
   "version": "3.13.2"
  }
 },
 "nbformat": 4,
 "nbformat_minor": 5
}
